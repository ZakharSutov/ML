{
  "nbformat": 4,
  "nbformat_minor": 0,
  "metadata": {
    "colab": {
      "provenance": [],
      "toc_visible": true
    },
    "kernelspec": {
      "name": "python3",
      "display_name": "Python 3"
    },
    "language_info": {
      "name": "python"
    }
  },
  "cells": [
    {
      "cell_type": "markdown",
      "source": [
        "<font size =6>\n",
        "Отбор данных одномерной выборки"
      ],
      "metadata": {
        "id": "AaKggz-4G8Jp"
      }
    },
    {
      "cell_type": "markdown",
      "source": [
        "Выполнил: Шутов Захар (ММБ-003)"
      ],
      "metadata": {
        "id": "rUN-G9b6G-p3"
      }
    },
    {
      "cell_type": "markdown",
      "source": [
        "# **Введение**\n"
      ],
      "metadata": {
        "id": "yhiMiHjtpy2y"
      }
    },
    {
      "cell_type": "markdown",
      "source": [
        "Подключаем библиотеки"
      ],
      "metadata": {
        "id": "JPxCbH63qOwL"
      }
    },
    {
      "cell_type": "code",
      "source": [
        "from sympy import *\n",
        "init_printing()\n",
        "import csv\n",
        "import pandas as pd\n",
        "import matplotlib.pyplot as plt\n",
        "import numpy as np\n",
        "import scipy.stats as stats\n",
        "import math"
      ],
      "metadata": {
        "id": "styXjgj0qaDW"
      },
      "execution_count": null,
      "outputs": []
    },
    {
      "cell_type": "markdown",
      "source": [
        "Берём данные из файла"
      ],
      "metadata": {
        "id": "YWdYcMpbqvhq"
      }
    },
    {
      "cell_type": "code",
      "source": [
        "ds0 = pd.read_csv(\"ML.ds1.csv\", delimiter = \",\")"
      ],
      "metadata": {
        "id": "KbpSrEEVq3ib"
      },
      "execution_count": null,
      "outputs": []
    },
    {
      "cell_type": "code",
      "source": [
        "ds = ds0[['v19']].rename({'v19': 's19'}, axis = 1)\n",
        "ds"
      ],
      "metadata": {
        "colab": {
          "base_uri": "https://localhost:8080/",
          "height": 423
        },
        "id": "JuFNHRkjsX-n",
        "outputId": "e9dfdad0-3cec-455d-d345-581b97fc11ee"
      },
      "execution_count": null,
      "outputs": [
        {
          "output_type": "execute_result",
          "data": {
            "text/plain": [
              "          s19\n",
              "0    0.576769\n",
              "1    1.205356\n",
              "2    1.372145\n",
              "3    0.982709\n",
              "4    2.700911\n",
              "..        ...\n",
              "495  1.923757\n",
              "496  1.891610\n",
              "497  1.013456\n",
              "498  0.893310\n",
              "499  0.535409\n",
              "\n",
              "[500 rows x 1 columns]"
            ],
            "text/html": [
              "\n",
              "  <div id=\"df-d6bb6e59-3c2b-4e02-933d-e97a73df13b1\">\n",
              "    <div class=\"colab-df-container\">\n",
              "      <div>\n",
              "<style scoped>\n",
              "    .dataframe tbody tr th:only-of-type {\n",
              "        vertical-align: middle;\n",
              "    }\n",
              "\n",
              "    .dataframe tbody tr th {\n",
              "        vertical-align: top;\n",
              "    }\n",
              "\n",
              "    .dataframe thead th {\n",
              "        text-align: right;\n",
              "    }\n",
              "</style>\n",
              "<table border=\"1\" class=\"dataframe\">\n",
              "  <thead>\n",
              "    <tr style=\"text-align: right;\">\n",
              "      <th></th>\n",
              "      <th>s19</th>\n",
              "    </tr>\n",
              "  </thead>\n",
              "  <tbody>\n",
              "    <tr>\n",
              "      <th>0</th>\n",
              "      <td>0.576769</td>\n",
              "    </tr>\n",
              "    <tr>\n",
              "      <th>1</th>\n",
              "      <td>1.205356</td>\n",
              "    </tr>\n",
              "    <tr>\n",
              "      <th>2</th>\n",
              "      <td>1.372145</td>\n",
              "    </tr>\n",
              "    <tr>\n",
              "      <th>3</th>\n",
              "      <td>0.982709</td>\n",
              "    </tr>\n",
              "    <tr>\n",
              "      <th>4</th>\n",
              "      <td>2.700911</td>\n",
              "    </tr>\n",
              "    <tr>\n",
              "      <th>...</th>\n",
              "      <td>...</td>\n",
              "    </tr>\n",
              "    <tr>\n",
              "      <th>495</th>\n",
              "      <td>1.923757</td>\n",
              "    </tr>\n",
              "    <tr>\n",
              "      <th>496</th>\n",
              "      <td>1.891610</td>\n",
              "    </tr>\n",
              "    <tr>\n",
              "      <th>497</th>\n",
              "      <td>1.013456</td>\n",
              "    </tr>\n",
              "    <tr>\n",
              "      <th>498</th>\n",
              "      <td>0.893310</td>\n",
              "    </tr>\n",
              "    <tr>\n",
              "      <th>499</th>\n",
              "      <td>0.535409</td>\n",
              "    </tr>\n",
              "  </tbody>\n",
              "</table>\n",
              "<p>500 rows × 1 columns</p>\n",
              "</div>\n",
              "      <button class=\"colab-df-convert\" onclick=\"convertToInteractive('df-d6bb6e59-3c2b-4e02-933d-e97a73df13b1')\"\n",
              "              title=\"Convert this dataframe to an interactive table.\"\n",
              "              style=\"display:none;\">\n",
              "        \n",
              "  <svg xmlns=\"http://www.w3.org/2000/svg\" height=\"24px\"viewBox=\"0 0 24 24\"\n",
              "       width=\"24px\">\n",
              "    <path d=\"M0 0h24v24H0V0z\" fill=\"none\"/>\n",
              "    <path d=\"M18.56 5.44l.94 2.06.94-2.06 2.06-.94-2.06-.94-.94-2.06-.94 2.06-2.06.94zm-11 1L8.5 8.5l.94-2.06 2.06-.94-2.06-.94L8.5 2.5l-.94 2.06-2.06.94zm10 10l.94 2.06.94-2.06 2.06-.94-2.06-.94-.94-2.06-.94 2.06-2.06.94z\"/><path d=\"M17.41 7.96l-1.37-1.37c-.4-.4-.92-.59-1.43-.59-.52 0-1.04.2-1.43.59L10.3 9.45l-7.72 7.72c-.78.78-.78 2.05 0 2.83L4 21.41c.39.39.9.59 1.41.59.51 0 1.02-.2 1.41-.59l7.78-7.78 2.81-2.81c.8-.78.8-2.07 0-2.86zM5.41 20L4 18.59l7.72-7.72 1.47 1.35L5.41 20z\"/>\n",
              "  </svg>\n",
              "      </button>\n",
              "      \n",
              "  <style>\n",
              "    .colab-df-container {\n",
              "      display:flex;\n",
              "      flex-wrap:wrap;\n",
              "      gap: 12px;\n",
              "    }\n",
              "\n",
              "    .colab-df-convert {\n",
              "      background-color: #E8F0FE;\n",
              "      border: none;\n",
              "      border-radius: 50%;\n",
              "      cursor: pointer;\n",
              "      display: none;\n",
              "      fill: #1967D2;\n",
              "      height: 32px;\n",
              "      padding: 0 0 0 0;\n",
              "      width: 32px;\n",
              "    }\n",
              "\n",
              "    .colab-df-convert:hover {\n",
              "      background-color: #E2EBFA;\n",
              "      box-shadow: 0px 1px 2px rgba(60, 64, 67, 0.3), 0px 1px 3px 1px rgba(60, 64, 67, 0.15);\n",
              "      fill: #174EA6;\n",
              "    }\n",
              "\n",
              "    [theme=dark] .colab-df-convert {\n",
              "      background-color: #3B4455;\n",
              "      fill: #D2E3FC;\n",
              "    }\n",
              "\n",
              "    [theme=dark] .colab-df-convert:hover {\n",
              "      background-color: #434B5C;\n",
              "      box-shadow: 0px 1px 3px 1px rgba(0, 0, 0, 0.15);\n",
              "      filter: drop-shadow(0px 1px 2px rgba(0, 0, 0, 0.3));\n",
              "      fill: #FFFFFF;\n",
              "    }\n",
              "  </style>\n",
              "\n",
              "      <script>\n",
              "        const buttonEl =\n",
              "          document.querySelector('#df-d6bb6e59-3c2b-4e02-933d-e97a73df13b1 button.colab-df-convert');\n",
              "        buttonEl.style.display =\n",
              "          google.colab.kernel.accessAllowed ? 'block' : 'none';\n",
              "\n",
              "        async function convertToInteractive(key) {\n",
              "          const element = document.querySelector('#df-d6bb6e59-3c2b-4e02-933d-e97a73df13b1');\n",
              "          const dataTable =\n",
              "            await google.colab.kernel.invokeFunction('convertToInteractive',\n",
              "                                                     [key], {});\n",
              "          if (!dataTable) return;\n",
              "\n",
              "          const docLinkHtml = 'Like what you see? Visit the ' +\n",
              "            '<a target=\"_blank\" href=https://colab.research.google.com/notebooks/data_table.ipynb>data table notebook</a>'\n",
              "            + ' to learn more about interactive tables.';\n",
              "          element.innerHTML = '';\n",
              "          dataTable['output_type'] = 'display_data';\n",
              "          await google.colab.output.renderOutput(dataTable, element);\n",
              "          const docLink = document.createElement('div');\n",
              "          docLink.innerHTML = docLinkHtml;\n",
              "          element.appendChild(docLink);\n",
              "        }\n",
              "      </script>\n",
              "    </div>\n",
              "  </div>\n",
              "  "
            ]
          },
          "metadata": {},
          "execution_count": 6
        }
      ]
    },
    {
      "cell_type": "markdown",
      "source": [
        "## **Нахождение описательной статистики выборки**"
      ],
      "metadata": {
        "id": "gxrzIwK0tMWT"
      }
    },
    {
      "cell_type": "markdown",
      "source": [
        "Вычислим числовые характеристики выборки, которые будем использовать в дальнейшем"
      ],
      "metadata": {
        "id": "nBFw-6_rt3Qi"
      }
    },
    {
      "cell_type": "code",
      "source": [
        "mu = ds.s19.mean()\n",
        "sd = ds.s19.std()\n",
        "med = ds.s19.median()\n",
        "sk = ds.s19.skew()"
      ],
      "metadata": {
        "id": "2P-FGfp7tNR9"
      },
      "execution_count": null,
      "outputs": []
    },
    {
      "cell_type": "markdown",
      "source": [
        "Создадим таблицу с перечисленными выше характеристиками"
      ],
      "metadata": {
        "id": "SJ2Cx8OVuFVn"
      }
    },
    {
      "cell_type": "code",
      "source": [
        "ind = ['mean', 'sd', 'med', 'sk']\n",
        "dat = [mu, sd, med, sk]\n",
        "pd.DataFrame(dat, ind, columns = ['Sample']).T"
      ],
      "metadata": {
        "colab": {
          "base_uri": "https://localhost:8080/",
          "height": 81
        },
        "id": "UwVj3wOuuSTh",
        "outputId": "0a4760a3-5ff1-485a-d8a3-a967cbb1f090"
      },
      "execution_count": null,
      "outputs": [
        {
          "output_type": "execute_result",
          "data": {
            "text/plain": [
              "            mean        sd       med        sk\n",
              "Sample  1.126104  0.589525  1.010144  2.058856"
            ],
            "text/html": [
              "\n",
              "  <div id=\"df-75ce1d8f-bad1-472b-bcca-2655a853a1bb\">\n",
              "    <div class=\"colab-df-container\">\n",
              "      <div>\n",
              "<style scoped>\n",
              "    .dataframe tbody tr th:only-of-type {\n",
              "        vertical-align: middle;\n",
              "    }\n",
              "\n",
              "    .dataframe tbody tr th {\n",
              "        vertical-align: top;\n",
              "    }\n",
              "\n",
              "    .dataframe thead th {\n",
              "        text-align: right;\n",
              "    }\n",
              "</style>\n",
              "<table border=\"1\" class=\"dataframe\">\n",
              "  <thead>\n",
              "    <tr style=\"text-align: right;\">\n",
              "      <th></th>\n",
              "      <th>mean</th>\n",
              "      <th>sd</th>\n",
              "      <th>med</th>\n",
              "      <th>sk</th>\n",
              "    </tr>\n",
              "  </thead>\n",
              "  <tbody>\n",
              "    <tr>\n",
              "      <th>Sample</th>\n",
              "      <td>1.126104</td>\n",
              "      <td>0.589525</td>\n",
              "      <td>1.010144</td>\n",
              "      <td>2.058856</td>\n",
              "    </tr>\n",
              "  </tbody>\n",
              "</table>\n",
              "</div>\n",
              "      <button class=\"colab-df-convert\" onclick=\"convertToInteractive('df-75ce1d8f-bad1-472b-bcca-2655a853a1bb')\"\n",
              "              title=\"Convert this dataframe to an interactive table.\"\n",
              "              style=\"display:none;\">\n",
              "        \n",
              "  <svg xmlns=\"http://www.w3.org/2000/svg\" height=\"24px\"viewBox=\"0 0 24 24\"\n",
              "       width=\"24px\">\n",
              "    <path d=\"M0 0h24v24H0V0z\" fill=\"none\"/>\n",
              "    <path d=\"M18.56 5.44l.94 2.06.94-2.06 2.06-.94-2.06-.94-.94-2.06-.94 2.06-2.06.94zm-11 1L8.5 8.5l.94-2.06 2.06-.94-2.06-.94L8.5 2.5l-.94 2.06-2.06.94zm10 10l.94 2.06.94-2.06 2.06-.94-2.06-.94-.94-2.06-.94 2.06-2.06.94z\"/><path d=\"M17.41 7.96l-1.37-1.37c-.4-.4-.92-.59-1.43-.59-.52 0-1.04.2-1.43.59L10.3 9.45l-7.72 7.72c-.78.78-.78 2.05 0 2.83L4 21.41c.39.39.9.59 1.41.59.51 0 1.02-.2 1.41-.59l7.78-7.78 2.81-2.81c.8-.78.8-2.07 0-2.86zM5.41 20L4 18.59l7.72-7.72 1.47 1.35L5.41 20z\"/>\n",
              "  </svg>\n",
              "      </button>\n",
              "      \n",
              "  <style>\n",
              "    .colab-df-container {\n",
              "      display:flex;\n",
              "      flex-wrap:wrap;\n",
              "      gap: 12px;\n",
              "    }\n",
              "\n",
              "    .colab-df-convert {\n",
              "      background-color: #E8F0FE;\n",
              "      border: none;\n",
              "      border-radius: 50%;\n",
              "      cursor: pointer;\n",
              "      display: none;\n",
              "      fill: #1967D2;\n",
              "      height: 32px;\n",
              "      padding: 0 0 0 0;\n",
              "      width: 32px;\n",
              "    }\n",
              "\n",
              "    .colab-df-convert:hover {\n",
              "      background-color: #E2EBFA;\n",
              "      box-shadow: 0px 1px 2px rgba(60, 64, 67, 0.3), 0px 1px 3px 1px rgba(60, 64, 67, 0.15);\n",
              "      fill: #174EA6;\n",
              "    }\n",
              "\n",
              "    [theme=dark] .colab-df-convert {\n",
              "      background-color: #3B4455;\n",
              "      fill: #D2E3FC;\n",
              "    }\n",
              "\n",
              "    [theme=dark] .colab-df-convert:hover {\n",
              "      background-color: #434B5C;\n",
              "      box-shadow: 0px 1px 3px 1px rgba(0, 0, 0, 0.15);\n",
              "      filter: drop-shadow(0px 1px 2px rgba(0, 0, 0, 0.3));\n",
              "      fill: #FFFFFF;\n",
              "    }\n",
              "  </style>\n",
              "\n",
              "      <script>\n",
              "        const buttonEl =\n",
              "          document.querySelector('#df-75ce1d8f-bad1-472b-bcca-2655a853a1bb button.colab-df-convert');\n",
              "        buttonEl.style.display =\n",
              "          google.colab.kernel.accessAllowed ? 'block' : 'none';\n",
              "\n",
              "        async function convertToInteractive(key) {\n",
              "          const element = document.querySelector('#df-75ce1d8f-bad1-472b-bcca-2655a853a1bb');\n",
              "          const dataTable =\n",
              "            await google.colab.kernel.invokeFunction('convertToInteractive',\n",
              "                                                     [key], {});\n",
              "          if (!dataTable) return;\n",
              "\n",
              "          const docLinkHtml = 'Like what you see? Visit the ' +\n",
              "            '<a target=\"_blank\" href=https://colab.research.google.com/notebooks/data_table.ipynb>data table notebook</a>'\n",
              "            + ' to learn more about interactive tables.';\n",
              "          element.innerHTML = '';\n",
              "          dataTable['output_type'] = 'display_data';\n",
              "          await google.colab.output.renderOutput(dataTable, element);\n",
              "          const docLink = document.createElement('div');\n",
              "          docLink.innerHTML = docLinkHtml;\n",
              "          element.appendChild(docLink);\n",
              "        }\n",
              "      </script>\n",
              "    </div>\n",
              "  </div>\n",
              "  "
            ]
          },
          "metadata": {},
          "execution_count": 11
        }
      ]
    },
    {
      "cell_type": "markdown",
      "source": [
        "### Комментарий"
      ],
      "metadata": {
        "id": "7gWCF7aAaEjN"
      }
    },
    {
      "cell_type": "markdown",
      "source": [
        "*mean* - выборочное среднее, то есть оценка математического ожидания от генеральной совокупности, представленной имеющейся выборкой\n",
        "\n",
        "*std* - стандартное отклонение, то есть оценка среднего квардратического отклонения генеральной совокупности, представленной имеющейся выборкой\n",
        "\n",
        "*med* - выборочная медиана, то есть оценка медианы генеральной совокупности, представленной имеющейся выборкой\n",
        "\n",
        "*skew* - выборочный коэффицент асимметрии, то есть оценка коэффицента асимметрии генеральной совокупности, представленной имеющейся выборкой"
      ],
      "metadata": {
        "id": "9Vec4PpXvvsY"
      }
    },
    {
      "cell_type": "markdown",
      "source": [
        "# **Визуализация данных**"
      ],
      "metadata": {
        "id": "qbJ3NLj-2b8_"
      }
    },
    {
      "cell_type": "markdown",
      "source": [
        "1.Построим цветную\n",
        "диаграмму рассеяния выборки (scatterplot), расположив выборочные значения по\n",
        "горизонтальной оси "
      ],
      "metadata": {
        "id": "J-QNB0Bw3J0h"
      }
    },
    {
      "cell_type": "code",
      "source": [
        "plt.scatter(ds.s19, ds.index, c = 'darkgreen', alpha = 0.4)\n",
        "plt.title(\"Диаграмма рассеяния\")\n",
        "plt.ylabel(\"Номер наблюдения\")\n",
        "plt.xlabel(\"Выборочные значения\")"
      ],
      "metadata": {
        "colab": {
          "base_uri": "https://localhost:8080/",
          "height": 312
        },
        "id": "SiSLCqdh3QNT",
        "outputId": "50c7b34c-8f43-48a5-f7b9-cc5a5173674c"
      },
      "execution_count": null,
      "outputs": [
        {
          "output_type": "execute_result",
          "data": {
            "text/plain": [
              "Text(0.5, 0, 'Выборочные значения')"
            ]
          },
          "metadata": {},
          "execution_count": 12
        },
        {
          "output_type": "display_data",
          "data": {
            "text/plain": [
              "<Figure size 432x288 with 1 Axes>"
            ],
            "image/png": "[encoded data removed]"
          },
          "metadata": {
            "needs_background": "light"
          }
        }
      ]
    },
    {
      "cell_type": "markdown",
      "source": [
        "В выборке присутствуют аномальные данные"
      ],
      "metadata": {
        "id": "50T_WWgo7AwL"
      }
    },
    {
      "cell_type": "markdown",
      "source": [
        "Возможно, в генеральной совокупности присутствует несимметричность"
      ],
      "metadata": {
        "id": "UmXS2t55lYl_"
      }
    },
    {
      "cell_type": "markdown",
      "source": [
        "Пологая часть графика плотности полностью находится свправа"
      ],
      "metadata": {
        "id": "5votNWhw7Bsx"
      }
    },
    {
      "cell_type": "markdown",
      "source": [
        "2.Построим цветную\n",
        "диаграмму размаха (boxplot)"
      ],
      "metadata": {
        "id": "tbZm7_gJ8Ev5"
      }
    },
    {
      "cell_type": "code",
      "source": [
        "plt.boxplot(ds.s19, None, None, false, patch_artist = true)\n",
        "plt.title('Диаграмма размаха')\n",
        "plt.xlabel('Выборочные значения')"
      ],
      "metadata": {
        "colab": {
          "base_uri": "https://localhost:8080/",
          "height": 312
        },
        "id": "JB9onzL-8V5Q",
        "outputId": "28f66f59-9e13-4958-921a-dec772b4deba"
      },
      "execution_count": null,
      "outputs": [
        {
          "output_type": "execute_result",
          "data": {
            "text/plain": [
              "Text(0.5, 0, 'Выборочные значения')"
            ]
          },
          "metadata": {},
          "execution_count": 14
        },
        {
          "output_type": "display_data",
          "data": {
            "text/plain": [
              "<Figure size 432x288 with 1 Axes>"
            ],
            "image/png": "[encoded data removed]"
          },
          "metadata": {
            "needs_background": "light"
          }
        }
      ]
    },
    {
      "cell_type": "markdown",
      "source": [
        "В выборке присутствуют аномальные данные"
      ],
      "metadata": {
        "id": "EvbP3NoEBokw"
      }
    },
    {
      "cell_type": "markdown",
      "source": [
        "Возможно, в генеральной совокупности присутствует несимметричность"
      ],
      "metadata": {
        "id": "RgHJgILYBkPj"
      }
    },
    {
      "cell_type": "markdown",
      "source": [
        "Пологая часть графика плотности полностью находится свправа"
      ],
      "metadata": {
        "id": "gPHn5c5amIn7"
      }
    },
    {
      "cell_type": "markdown",
      "source": [
        "3.Построим цветную гистограмму\n",
        "относительных частот"
      ],
      "metadata": {
        "id": "FgL5FyfwBpKD"
      }
    },
    {
      "cell_type": "code",
      "source": [
        "plt.hist(ds.s19, density = True)\n",
        "plt.title(\"Гистограмма относительных частот\")\n",
        "plt.xlabel(\"Номер наблюдения\")\n",
        "plt.ylabel(\"Выборочное значение\")\n",
        "x = np.linspace(mu-5*sd, mu+5*sd)\n",
        "plt.plot(x, stats.norm.pdf(x, mu, sd))"
      ],
      "metadata": {
        "colab": {
          "base_uri": "https://localhost:8080/",
          "height": 312
        },
        "id": "hr_H6qPNCPL0",
        "outputId": "1237b8b7-ae5b-45f9-fe2c-1a449d789908"
      },
      "execution_count": null,
      "outputs": [
        {
          "output_type": "execute_result",
          "data": {
            "text/plain": [
              "[<matplotlib.lines.Line2D at 0x7f3ea0267790>]"
            ]
          },
          "metadata": {},
          "execution_count": 15
        },
        {
          "output_type": "display_data",
          "data": {
            "text/plain": [
              "<Figure size 432x288 with 1 Axes>"
            ],
            "image/png": "[encoded data removed]"
          },
          "metadata": {
            "needs_background": "light"
          }
        }
      ]
    },
    {
      "cell_type": "markdown",
      "source": [
        "Возможно, в генеральной совокупности присутствует несимметричность"
      ],
      "metadata": {
        "id": "3CN-1pk3DtMN"
      }
    },
    {
      "cell_type": "markdown",
      "source": [
        "Пологая часть графика плотности полностью находится свправа"
      ],
      "metadata": {
        "id": "y4CRUWtXm-dq"
      }
    },
    {
      "cell_type": "markdown",
      "source": [
        "## Вывод"
      ],
      "metadata": {
        "id": "PEByzZuiaez5"
      }
    },
    {
      "cell_type": "markdown",
      "source": [
        "В выборке присутствуют аномальные данные. Возможно, в генеральной совокупности присутствует несимметричность со сдвигом вправо. Пологая часть графика плотности полностью находится свправа"
      ],
      "metadata": {
        "id": "nLmrsAPCDwDD"
      }
    },
    {
      "cell_type": "markdown",
      "source": [
        "# **Отбор данных**"
      ],
      "metadata": {
        "id": "mU9a_E35Nq8G"
      }
    },
    {
      "cell_type": "markdown",
      "source": [
        "## **Проверка на симметричность**"
      ],
      "metadata": {
        "id": "3XV4wOBKEQK7"
      }
    },
    {
      "cell_type": "markdown",
      "source": [
        "Проведем первый тест, основанный на сравнении выборочного среднего с выборочной медианой, для этого вычислим наблюдаемое и критическое значения "
      ],
      "metadata": {
        "id": "qBL_ToOfEdnh"
      }
    },
    {
      "cell_type": "markdown",
      "source": [
        "Наблюдаемое значение"
      ],
      "metadata": {
        "id": "0hyRAoe2N53M"
      }
    },
    {
      "cell_type": "code",
      "source": [
        "xn = abs(mu - med)\n",
        "xn"
      ],
      "metadata": {
        "colab": {
          "base_uri": "https://localhost:8080/",
          "height": 37
        },
        "id": "Tn5rWM_HN8YC",
        "outputId": "4a9ec8e6-98ac-4795-c25b-ca5b91bf6576"
      },
      "execution_count": null,
      "outputs": [
        {
          "output_type": "execute_result",
          "data": {
            "text/plain": [
              "0.11596051406281016"
            ],
            "text/latex": "$\\displaystyle 0.11596051406281$"
          },
          "metadata": {},
          "execution_count": 16
        }
      ]
    },
    {
      "cell_type": "markdown",
      "source": [
        "Критическое значение"
      ],
      "metadata": {
        "id": "tokOM8t6ORvq"
      }
    },
    {
      "cell_type": "code",
      "source": [
        "xk = (3*sd)/(math.sqrt(500))\n",
        "xk"
      ],
      "metadata": {
        "colab": {
          "base_uri": "https://localhost:8080/",
          "height": 37
        },
        "id": "Tfnkjd_8OTwv",
        "outputId": "a6aedc81-0092-4b19-8c55-d3cfe91d275a"
      },
      "execution_count": null,
      "outputs": [
        {
          "output_type": "execute_result",
          "data": {
            "text/plain": [
              "0.07909308067898843"
            ],
            "text/latex": "$\\displaystyle 0.0790930806789884$"
          },
          "metadata": {},
          "execution_count": 17
        }
      ]
    },
    {
      "cell_type": "markdown",
      "source": [
        "Наблюдаемое значение получилось больше критического, следовательно гипотеза о симметричности генеральной совокупности отвергается"
      ],
      "metadata": {
        "id": "tGgcjaOfOi-s"
      }
    },
    {
      "cell_type": "markdown",
      "source": [
        "Проведем второй тест, основанный на оценке величины выборочного коэффициента асимметричности, для этого вычислим наблюдаемое и критическое значения "
      ],
      "metadata": {
        "id": "pFK4Hj_sOqI8"
      }
    },
    {
      "cell_type": "markdown",
      "source": [
        "Наблюдаемое значение"
      ],
      "metadata": {
        "id": "6pEdD7GeOvJd"
      }
    },
    {
      "cell_type": "code",
      "source": [
        "xn = abs(sk)\n",
        "xn"
      ],
      "metadata": {
        "colab": {
          "base_uri": "https://localhost:8080/",
          "height": 37
        },
        "id": "RICbfm4VOx6o",
        "outputId": "89c396f2-575d-4877-d6fc-7d5dc8ea63af"
      },
      "execution_count": null,
      "outputs": [
        {
          "output_type": "execute_result",
          "data": {
            "text/plain": [
              "2.058855719767505"
            ],
            "text/latex": "$\\displaystyle 2.05885571976751$"
          },
          "metadata": {},
          "execution_count": 18
        }
      ]
    },
    {
      "cell_type": "markdown",
      "source": [
        "Критическое значение"
      ],
      "metadata": {
        "id": "yVdqIoCpO0ZT"
      }
    },
    {
      "cell_type": "code",
      "source": [
        "xk = 3*math.sqrt((6*(500 - 1))/((500 + 1)*(500 + 3)))\n",
        "xk"
      ],
      "metadata": {
        "colab": {
          "base_uri": "https://localhost:8080/",
          "height": 37
        },
        "id": "x7VVZHRXO2w3",
        "outputId": "af0d876d-a556-43c0-cb79-ba1fa98c08d9"
      },
      "execution_count": null,
      "outputs": [
        {
          "output_type": "execute_result",
          "data": {
            "text/plain": [
              "0.3269973982840565"
            ],
            "text/latex": "$\\displaystyle 0.326997398284056$"
          },
          "metadata": {},
          "execution_count": 19
        }
      ]
    },
    {
      "cell_type": "markdown",
      "source": [
        "Наблюдаемое значение получилось больше критического, следовательно гипотеза о симметричности генеральной совокупности отвергается"
      ],
      "metadata": {
        "id": "2G878qVQPHbm"
      }
    },
    {
      "cell_type": "markdown",
      "source": [
        "### Вывод"
      ],
      "metadata": {
        "id": "4h6qYLRlcUIH"
      }
    },
    {
      "cell_type": "markdown",
      "source": [
        "Генеральная совокупность несимметрична на основании анализа диаграмм и результатов тестов"
      ],
      "metadata": {
        "id": "M6boffwtPYsE"
      }
    },
    {
      "cell_type": "markdown",
      "source": [
        "## **Чистка данных**"
      ],
      "metadata": {
        "id": "2zWwfpHNeIFs"
      }
    },
    {
      "cell_type": "markdown",
      "source": [
        "Из-за того, что гипотеза о симметричности генеральной совокупности отвергается, практически все элементы выборки из этой совокупности будем считать содержащимися в интервале $ \\left(\\overline x - 5s ;\\overline x + 5s \\right) $, где $ \\overline x $ - выборочное среднее, s - стандартное отклонение. Вычислим границы этого интервала"
      ],
      "metadata": {
        "id": "goWskPFWeRn2"
      }
    },
    {
      "cell_type": "markdown",
      "source": [
        "A - нижняя граница интервала \n",
        "\n",
        "B - верхняя граница интервала"
      ],
      "metadata": {
        "id": "t9D3ALw9gSLL"
      }
    },
    {
      "cell_type": "code",
      "source": [
        "A = mu-5*sd\n",
        "B = mu+5*sd\n",
        "A, B"
      ],
      "metadata": {
        "colab": {
          "base_uri": "https://localhost:8080/",
          "height": 37
        },
        "id": "wBH5QRTzhMb1",
        "outputId": "04867fc7-8d92-4666-f4d7-18f306d410c6"
      },
      "execution_count": null,
      "outputs": [
        {
          "output_type": "execute_result",
          "data": {
            "text/plain": [
              "(-1.8215206769774126, 4.073729487959033)"
            ],
            "text/latex": "$\\displaystyle \\left( -1.82152067697741, \\  4.07372948795903\\right)$"
          },
          "metadata": {},
          "execution_count": 20
        }
      ]
    },
    {
      "cell_type": "markdown",
      "source": [
        "Отсеим аномальные значения"
      ],
      "metadata": {
        "id": "KvLIuj-WhSqL"
      }
    },
    {
      "cell_type": "code",
      "source": [
        "ds1 = ds.query('s19 > @A')\n",
        "ds1 = ds1.query('s19 < @B')\n",
        "ds1"
      ],
      "metadata": {
        "colab": {
          "base_uri": "https://localhost:8080/",
          "height": 423
        },
        "id": "hdGfgKeEhZRM",
        "outputId": "5b4010dc-77e1-455a-e979-9a48821a47a8"
      },
      "execution_count": null,
      "outputs": [
        {
          "output_type": "execute_result",
          "data": {
            "text/plain": [
              "          s19\n",
              "0    0.576769\n",
              "1    1.205356\n",
              "2    1.372145\n",
              "3    0.982709\n",
              "4    2.700911\n",
              "..        ...\n",
              "495  1.923757\n",
              "496  1.891610\n",
              "497  1.013456\n",
              "498  0.893310\n",
              "499  0.535409\n",
              "\n",
              "[498 rows x 1 columns]"
            ],
            "text/html": [
              "\n",
              "  <div id=\"df-0321f684-766a-4d32-9a1f-5f085fba6ef2\">\n",
              "    <div class=\"colab-df-container\">\n",
              "      <div>\n",
              "<style scoped>\n",
              "    .dataframe tbody tr th:only-of-type {\n",
              "        vertical-align: middle;\n",
              "    }\n",
              "\n",
              "    .dataframe tbody tr th {\n",
              "        vertical-align: top;\n",
              "    }\n",
              "\n",
              "    .dataframe thead th {\n",
              "        text-align: right;\n",
              "    }\n",
              "</style>\n",
              "<table border=\"1\" class=\"dataframe\">\n",
              "  <thead>\n",
              "    <tr style=\"text-align: right;\">\n",
              "      <th></th>\n",
              "      <th>s19</th>\n",
              "    </tr>\n",
              "  </thead>\n",
              "  <tbody>\n",
              "    <tr>\n",
              "      <th>0</th>\n",
              "      <td>0.576769</td>\n",
              "    </tr>\n",
              "    <tr>\n",
              "      <th>1</th>\n",
              "      <td>1.205356</td>\n",
              "    </tr>\n",
              "    <tr>\n",
              "      <th>2</th>\n",
              "      <td>1.372145</td>\n",
              "    </tr>\n",
              "    <tr>\n",
              "      <th>3</th>\n",
              "      <td>0.982709</td>\n",
              "    </tr>\n",
              "    <tr>\n",
              "      <th>4</th>\n",
              "      <td>2.700911</td>\n",
              "    </tr>\n",
              "    <tr>\n",
              "      <th>...</th>\n",
              "      <td>...</td>\n",
              "    </tr>\n",
              "    <tr>\n",
              "      <th>495</th>\n",
              "      <td>1.923757</td>\n",
              "    </tr>\n",
              "    <tr>\n",
              "      <th>496</th>\n",
              "      <td>1.891610</td>\n",
              "    </tr>\n",
              "    <tr>\n",
              "      <th>497</th>\n",
              "      <td>1.013456</td>\n",
              "    </tr>\n",
              "    <tr>\n",
              "      <th>498</th>\n",
              "      <td>0.893310</td>\n",
              "    </tr>\n",
              "    <tr>\n",
              "      <th>499</th>\n",
              "      <td>0.535409</td>\n",
              "    </tr>\n",
              "  </tbody>\n",
              "</table>\n",
              "<p>498 rows × 1 columns</p>\n",
              "</div>\n",
              "      <button class=\"colab-df-convert\" onclick=\"convertToInteractive('df-0321f684-766a-4d32-9a1f-5f085fba6ef2')\"\n",
              "              title=\"Convert this dataframe to an interactive table.\"\n",
              "              style=\"display:none;\">\n",
              "        \n",
              "  <svg xmlns=\"http://www.w3.org/2000/svg\" height=\"24px\"viewBox=\"0 0 24 24\"\n",
              "       width=\"24px\">\n",
              "    <path d=\"M0 0h24v24H0V0z\" fill=\"none\"/>\n",
              "    <path d=\"M18.56 5.44l.94 2.06.94-2.06 2.06-.94-2.06-.94-.94-2.06-.94 2.06-2.06.94zm-11 1L8.5 8.5l.94-2.06 2.06-.94-2.06-.94L8.5 2.5l-.94 2.06-2.06.94zm10 10l.94 2.06.94-2.06 2.06-.94-2.06-.94-.94-2.06-.94 2.06-2.06.94z\"/><path d=\"M17.41 7.96l-1.37-1.37c-.4-.4-.92-.59-1.43-.59-.52 0-1.04.2-1.43.59L10.3 9.45l-7.72 7.72c-.78.78-.78 2.05 0 2.83L4 21.41c.39.39.9.59 1.41.59.51 0 1.02-.2 1.41-.59l7.78-7.78 2.81-2.81c.8-.78.8-2.07 0-2.86zM5.41 20L4 18.59l7.72-7.72 1.47 1.35L5.41 20z\"/>\n",
              "  </svg>\n",
              "      </button>\n",
              "      \n",
              "  <style>\n",
              "    .colab-df-container {\n",
              "      display:flex;\n",
              "      flex-wrap:wrap;\n",
              "      gap: 12px;\n",
              "    }\n",
              "\n",
              "    .colab-df-convert {\n",
              "      background-color: #E8F0FE;\n",
              "      border: none;\n",
              "      border-radius: 50%;\n",
              "      cursor: pointer;\n",
              "      display: none;\n",
              "      fill: #1967D2;\n",
              "      height: 32px;\n",
              "      padding: 0 0 0 0;\n",
              "      width: 32px;\n",
              "    }\n",
              "\n",
              "    .colab-df-convert:hover {\n",
              "      background-color: #E2EBFA;\n",
              "      box-shadow: 0px 1px 2px rgba(60, 64, 67, 0.3), 0px 1px 3px 1px rgba(60, 64, 67, 0.15);\n",
              "      fill: #174EA6;\n",
              "    }\n",
              "\n",
              "    [theme=dark] .colab-df-convert {\n",
              "      background-color: #3B4455;\n",
              "      fill: #D2E3FC;\n",
              "    }\n",
              "\n",
              "    [theme=dark] .colab-df-convert:hover {\n",
              "      background-color: #434B5C;\n",
              "      box-shadow: 0px 1px 3px 1px rgba(0, 0, 0, 0.15);\n",
              "      filter: drop-shadow(0px 1px 2px rgba(0, 0, 0, 0.3));\n",
              "      fill: #FFFFFF;\n",
              "    }\n",
              "  </style>\n",
              "\n",
              "      <script>\n",
              "        const buttonEl =\n",
              "          document.querySelector('#df-0321f684-766a-4d32-9a1f-5f085fba6ef2 button.colab-df-convert');\n",
              "        buttonEl.style.display =\n",
              "          google.colab.kernel.accessAllowed ? 'block' : 'none';\n",
              "\n",
              "        async function convertToInteractive(key) {\n",
              "          const element = document.querySelector('#df-0321f684-766a-4d32-9a1f-5f085fba6ef2');\n",
              "          const dataTable =\n",
              "            await google.colab.kernel.invokeFunction('convertToInteractive',\n",
              "                                                     [key], {});\n",
              "          if (!dataTable) return;\n",
              "\n",
              "          const docLinkHtml = 'Like what you see? Visit the ' +\n",
              "            '<a target=\"_blank\" href=https://colab.research.google.com/notebooks/data_table.ipynb>data table notebook</a>'\n",
              "            + ' to learn more about interactive tables.';\n",
              "          element.innerHTML = '';\n",
              "          dataTable['output_type'] = 'display_data';\n",
              "          await google.colab.output.renderOutput(dataTable, element);\n",
              "          const docLink = document.createElement('div');\n",
              "          docLink.innerHTML = docLinkHtml;\n",
              "          element.appendChild(docLink);\n",
              "        }\n",
              "      </script>\n",
              "    </div>\n",
              "  </div>\n",
              "  "
            ]
          },
          "metadata": {},
          "execution_count": 22
        }
      ]
    },
    {
      "cell_type": "markdown",
      "source": [
        "Вычислим сколько элементов из выборки попали в интервал"
      ],
      "metadata": {
        "id": "Xilwm9zXh1F1"
      }
    },
    {
      "cell_type": "code",
      "source": [
        "ds1.shape[0]"
      ],
      "metadata": {
        "colab": {
          "base_uri": "https://localhost:8080/",
          "height": 37
        },
        "id": "GgyJiYD3h4B-",
        "outputId": "2e35f793-505d-402c-d9fe-c1e76be47ded"
      },
      "execution_count": null,
      "outputs": [
        {
          "output_type": "execute_result",
          "data": {
            "text/plain": [
              "498"
            ],
            "text/latex": "$\\displaystyle 498$"
          },
          "metadata": {},
          "execution_count": 23
        }
      ]
    },
    {
      "cell_type": "markdown",
      "source": [
        "Определим, какие элементы из выборки оказались за границами интервала"
      ],
      "metadata": {
        "id": "lopDeywdFnOM"
      }
    },
    {
      "cell_type": "code",
      "source": [
        "ds[ds.s19<=A]"
      ],
      "metadata": {
        "colab": {
          "base_uri": "https://localhost:8080/",
          "height": 49
        },
        "id": "0P_2dqHp1RqW",
        "outputId": "bf0cbd1b-8829-4a04-81f2-a08f36ad557e"
      },
      "execution_count": null,
      "outputs": [
        {
          "output_type": "execute_result",
          "data": {
            "text/plain": [
              "Empty DataFrame\n",
              "Columns: [s19]\n",
              "Index: []"
            ],
            "text/html": [
              "\n",
              "  <div id=\"df-ddf83f73-4c73-4dcb-bcbf-aed40709a882\">\n",
              "    <div class=\"colab-df-container\">\n",
              "      <div>\n",
              "<style scoped>\n",
              "    .dataframe tbody tr th:only-of-type {\n",
              "        vertical-align: middle;\n",
              "    }\n",
              "\n",
              "    .dataframe tbody tr th {\n",
              "        vertical-align: top;\n",
              "    }\n",
              "\n",
              "    .dataframe thead th {\n",
              "        text-align: right;\n",
              "    }\n",
              "</style>\n",
              "<table border=\"1\" class=\"dataframe\">\n",
              "  <thead>\n",
              "    <tr style=\"text-align: right;\">\n",
              "      <th></th>\n",
              "      <th>s19</th>\n",
              "    </tr>\n",
              "  </thead>\n",
              "  <tbody>\n",
              "  </tbody>\n",
              "</table>\n",
              "</div>\n",
              "      <button class=\"colab-df-convert\" onclick=\"convertToInteractive('df-ddf83f73-4c73-4dcb-bcbf-aed40709a882')\"\n",
              "              title=\"Convert this dataframe to an interactive table.\"\n",
              "              style=\"display:none;\">\n",
              "        \n",
              "  <svg xmlns=\"http://www.w3.org/2000/svg\" height=\"24px\"viewBox=\"0 0 24 24\"\n",
              "       width=\"24px\">\n",
              "    <path d=\"M0 0h24v24H0V0z\" fill=\"none\"/>\n",
              "    <path d=\"M18.56 5.44l.94 2.06.94-2.06 2.06-.94-2.06-.94-.94-2.06-.94 2.06-2.06.94zm-11 1L8.5 8.5l.94-2.06 2.06-.94-2.06-.94L8.5 2.5l-.94 2.06-2.06.94zm10 10l.94 2.06.94-2.06 2.06-.94-2.06-.94-.94-2.06-.94 2.06-2.06.94z\"/><path d=\"M17.41 7.96l-1.37-1.37c-.4-.4-.92-.59-1.43-.59-.52 0-1.04.2-1.43.59L10.3 9.45l-7.72 7.72c-.78.78-.78 2.05 0 2.83L4 21.41c.39.39.9.59 1.41.59.51 0 1.02-.2 1.41-.59l7.78-7.78 2.81-2.81c.8-.78.8-2.07 0-2.86zM5.41 20L4 18.59l7.72-7.72 1.47 1.35L5.41 20z\"/>\n",
              "  </svg>\n",
              "      </button>\n",
              "      \n",
              "  <style>\n",
              "    .colab-df-container {\n",
              "      display:flex;\n",
              "      flex-wrap:wrap;\n",
              "      gap: 12px;\n",
              "    }\n",
              "\n",
              "    .colab-df-convert {\n",
              "      background-color: #E8F0FE;\n",
              "      border: none;\n",
              "      border-radius: 50%;\n",
              "      cursor: pointer;\n",
              "      display: none;\n",
              "      fill: #1967D2;\n",
              "      height: 32px;\n",
              "      padding: 0 0 0 0;\n",
              "      width: 32px;\n",
              "    }\n",
              "\n",
              "    .colab-df-convert:hover {\n",
              "      background-color: #E2EBFA;\n",
              "      box-shadow: 0px 1px 2px rgba(60, 64, 67, 0.3), 0px 1px 3px 1px rgba(60, 64, 67, 0.15);\n",
              "      fill: #174EA6;\n",
              "    }\n",
              "\n",
              "    [theme=dark] .colab-df-convert {\n",
              "      background-color: #3B4455;\n",
              "      fill: #D2E3FC;\n",
              "    }\n",
              "\n",
              "    [theme=dark] .colab-df-convert:hover {\n",
              "      background-color: #434B5C;\n",
              "      box-shadow: 0px 1px 3px 1px rgba(0, 0, 0, 0.15);\n",
              "      filter: drop-shadow(0px 1px 2px rgba(0, 0, 0, 0.3));\n",
              "      fill: #FFFFFF;\n",
              "    }\n",
              "  </style>\n",
              "\n",
              "      <script>\n",
              "        const buttonEl =\n",
              "          document.querySelector('#df-ddf83f73-4c73-4dcb-bcbf-aed40709a882 button.colab-df-convert');\n",
              "        buttonEl.style.display =\n",
              "          google.colab.kernel.accessAllowed ? 'block' : 'none';\n",
              "\n",
              "        async function convertToInteractive(key) {\n",
              "          const element = document.querySelector('#df-ddf83f73-4c73-4dcb-bcbf-aed40709a882');\n",
              "          const dataTable =\n",
              "            await google.colab.kernel.invokeFunction('convertToInteractive',\n",
              "                                                     [key], {});\n",
              "          if (!dataTable) return;\n",
              "\n",
              "          const docLinkHtml = 'Like what you see? Visit the ' +\n",
              "            '<a target=\"_blank\" href=https://colab.research.google.com/notebooks/data_table.ipynb>data table notebook</a>'\n",
              "            + ' to learn more about interactive tables.';\n",
              "          element.innerHTML = '';\n",
              "          dataTable['output_type'] = 'display_data';\n",
              "          await google.colab.output.renderOutput(dataTable, element);\n",
              "          const docLink = document.createElement('div');\n",
              "          docLink.innerHTML = docLinkHtml;\n",
              "          element.appendChild(docLink);\n",
              "        }\n",
              "      </script>\n",
              "    </div>\n",
              "  </div>\n",
              "  "
            ]
          },
          "metadata": {},
          "execution_count": 34
        }
      ]
    },
    {
      "cell_type": "code",
      "source": [
        "ds[ds.s19>=B]"
      ],
      "metadata": {
        "colab": {
          "base_uri": "https://localhost:8080/",
          "height": 112
        },
        "id": "U1l7hF74151G",
        "outputId": "4d607b23-b23f-4685-fe54-7c0adf9f039f"
      },
      "execution_count": null,
      "outputs": [
        {
          "output_type": "execute_result",
          "data": {
            "text/plain": [
              "          s19\n",
              "116  5.435762\n",
              "239  4.647532"
            ],
            "text/html": [
              "\n",
              "  <div id=\"df-1d1fd3e3-a8b1-4016-8bd7-de4954b04f7b\">\n",
              "    <div class=\"colab-df-container\">\n",
              "      <div>\n",
              "<style scoped>\n",
              "    .dataframe tbody tr th:only-of-type {\n",
              "        vertical-align: middle;\n",
              "    }\n",
              "\n",
              "    .dataframe tbody tr th {\n",
              "        vertical-align: top;\n",
              "    }\n",
              "\n",
              "    .dataframe thead th {\n",
              "        text-align: right;\n",
              "    }\n",
              "</style>\n",
              "<table border=\"1\" class=\"dataframe\">\n",
              "  <thead>\n",
              "    <tr style=\"text-align: right;\">\n",
              "      <th></th>\n",
              "      <th>s19</th>\n",
              "    </tr>\n",
              "  </thead>\n",
              "  <tbody>\n",
              "    <tr>\n",
              "      <th>116</th>\n",
              "      <td>5.435762</td>\n",
              "    </tr>\n",
              "    <tr>\n",
              "      <th>239</th>\n",
              "      <td>4.647532</td>\n",
              "    </tr>\n",
              "  </tbody>\n",
              "</table>\n",
              "</div>\n",
              "      <button class=\"colab-df-convert\" onclick=\"convertToInteractive('df-1d1fd3e3-a8b1-4016-8bd7-de4954b04f7b')\"\n",
              "              title=\"Convert this dataframe to an interactive table.\"\n",
              "              style=\"display:none;\">\n",
              "        \n",
              "  <svg xmlns=\"http://www.w3.org/2000/svg\" height=\"24px\"viewBox=\"0 0 24 24\"\n",
              "       width=\"24px\">\n",
              "    <path d=\"M0 0h24v24H0V0z\" fill=\"none\"/>\n",
              "    <path d=\"M18.56 5.44l.94 2.06.94-2.06 2.06-.94-2.06-.94-.94-2.06-.94 2.06-2.06.94zm-11 1L8.5 8.5l.94-2.06 2.06-.94-2.06-.94L8.5 2.5l-.94 2.06-2.06.94zm10 10l.94 2.06.94-2.06 2.06-.94-2.06-.94-.94-2.06-.94 2.06-2.06.94z\"/><path d=\"M17.41 7.96l-1.37-1.37c-.4-.4-.92-.59-1.43-.59-.52 0-1.04.2-1.43.59L10.3 9.45l-7.72 7.72c-.78.78-.78 2.05 0 2.83L4 21.41c.39.39.9.59 1.41.59.51 0 1.02-.2 1.41-.59l7.78-7.78 2.81-2.81c.8-.78.8-2.07 0-2.86zM5.41 20L4 18.59l7.72-7.72 1.47 1.35L5.41 20z\"/>\n",
              "  </svg>\n",
              "      </button>\n",
              "      \n",
              "  <style>\n",
              "    .colab-df-container {\n",
              "      display:flex;\n",
              "      flex-wrap:wrap;\n",
              "      gap: 12px;\n",
              "    }\n",
              "\n",
              "    .colab-df-convert {\n",
              "      background-color: #E8F0FE;\n",
              "      border: none;\n",
              "      border-radius: 50%;\n",
              "      cursor: pointer;\n",
              "      display: none;\n",
              "      fill: #1967D2;\n",
              "      height: 32px;\n",
              "      padding: 0 0 0 0;\n",
              "      width: 32px;\n",
              "    }\n",
              "\n",
              "    .colab-df-convert:hover {\n",
              "      background-color: #E2EBFA;\n",
              "      box-shadow: 0px 1px 2px rgba(60, 64, 67, 0.3), 0px 1px 3px 1px rgba(60, 64, 67, 0.15);\n",
              "      fill: #174EA6;\n",
              "    }\n",
              "\n",
              "    [theme=dark] .colab-df-convert {\n",
              "      background-color: #3B4455;\n",
              "      fill: #D2E3FC;\n",
              "    }\n",
              "\n",
              "    [theme=dark] .colab-df-convert:hover {\n",
              "      background-color: #434B5C;\n",
              "      box-shadow: 0px 1px 3px 1px rgba(0, 0, 0, 0.15);\n",
              "      filter: drop-shadow(0px 1px 2px rgba(0, 0, 0, 0.3));\n",
              "      fill: #FFFFFF;\n",
              "    }\n",
              "  </style>\n",
              "\n",
              "      <script>\n",
              "        const buttonEl =\n",
              "          document.querySelector('#df-1d1fd3e3-a8b1-4016-8bd7-de4954b04f7b button.colab-df-convert');\n",
              "        buttonEl.style.display =\n",
              "          google.colab.kernel.accessAllowed ? 'block' : 'none';\n",
              "\n",
              "        async function convertToInteractive(key) {\n",
              "          const element = document.querySelector('#df-1d1fd3e3-a8b1-4016-8bd7-de4954b04f7b');\n",
              "          const dataTable =\n",
              "            await google.colab.kernel.invokeFunction('convertToInteractive',\n",
              "                                                     [key], {});\n",
              "          if (!dataTable) return;\n",
              "\n",
              "          const docLinkHtml = 'Like what you see? Visit the ' +\n",
              "            '<a target=\"_blank\" href=https://colab.research.google.com/notebooks/data_table.ipynb>data table notebook</a>'\n",
              "            + ' to learn more about interactive tables.';\n",
              "          element.innerHTML = '';\n",
              "          dataTable['output_type'] = 'display_data';\n",
              "          await google.colab.output.renderOutput(dataTable, element);\n",
              "          const docLink = document.createElement('div');\n",
              "          docLink.innerHTML = docLinkHtml;\n",
              "          element.appendChild(docLink);\n",
              "        }\n",
              "      </script>\n",
              "    </div>\n",
              "  </div>\n",
              "  "
            ]
          },
          "metadata": {},
          "execution_count": 35
        }
      ]
    },
    {
      "cell_type": "markdown",
      "source": [
        "### Вывод"
      ],
      "metadata": {
        "id": "yYTVhZ40c1a_"
      }
    },
    {
      "cell_type": "markdown",
      "source": [
        "Отбор данных по интервалу позволил отсечь два аномальных значения, сократив выборку до 498 элементов. Строки 116 и 239 находятся за верхней границей интервала"
      ],
      "metadata": {
        "id": "AvIIflg-c5to"
      }
    },
    {
      "cell_type": "markdown",
      "source": [
        "# **Заключение**"
      ],
      "metadata": {
        "id": "81oGnwQcFxyh"
      }
    },
    {
      "cell_type": "markdown",
      "source": [
        "Был проведет отбор данных одномерной выборки. Использовались библиотеки Python pandas, matplotlib, numpy, stats. Была найдена описательная статистика выборки, данные визуализированы на трёх диаграммах, проведены тесты для проверки гипотезы о симметричности, отобраны аномальные данные. По итогам работы гипотеза о симметричности генеральной совокупности отвергнута, аномальные данные найдены на интервале $ \\left(mu - 5sd ;mu + 5sd \\right) $, где mu - выборочное среднее, sd - стандартное отклонение. Обнаружены 2 аномальных значения: элементы выборки с номерами 116, 239 не попавшие в указанный интервал. Эти значения были удалены из выборки."
      ],
      "metadata": {
        "id": "U43CrjlyF2Rd"
      }
    }
  ]
}