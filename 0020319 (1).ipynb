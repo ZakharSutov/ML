{
  "cells": [
    {
      "cell_type": "markdown",
      "id": "1a404d9a",
      "metadata": {
        "id": "1a404d9a"
      },
      "source": [
        "<font size = 6> Линейная регрессия"
      ]
    },
    {
      "cell_type": "markdown",
      "source": [
        "Выполнил:\n",
        "Шутов Захар Андреевич\n",
        "ММБ-002"
      ],
      "metadata": {
        "id": "vzj6HFpBkP-E"
      },
      "id": "vzj6HFpBkP-E"
    },
    {
      "cell_type": "markdown",
      "id": "7b20ce34",
      "metadata": {
        "id": "7b20ce34"
      },
      "source": [
        "Цель работы — предсказание стоимости коттеджа по его площади и другим\n",
        "характеристик с помощью линейной модели регрессионного анализа."
      ]
    },
    {
      "cell_type": "markdown",
      "id": "d44393ed",
      "metadata": {
        "id": "d44393ed"
      },
      "source": [
        "<font size = 4> Описание переменных"
      ]
    },
    {
      "cell_type": "markdown",
      "id": "e9752d2e",
      "metadata": {
        "id": "e9752d2e"
      },
      "source": [
        "PRICE — стоимость коттеджа в тысячах долларов США.\n",
        "\n",
        "HOUSE — площадь коттеджа в квадратных метрах.\n",
        "\n",
        "AREA — площадь участка в сотках.\n",
        "\n",
        "DIST — расстояние от расположения коттеджа до кольцевой автомобильной дороги в\n",
        "километрах.\n",
        "\n",
        "ECO — индикатор, принимающий значение 1, если рядом с коттеджем есть река или\n",
        "озеро, и значение 0 в противном случае."
      ]
    },
    {
      "cell_type": "markdown",
      "id": "f63332f6",
      "metadata": {
        "id": "f63332f6"
      },
      "source": [
        "# Введение"
      ]
    },
    {
      "cell_type": "markdown",
      "source": [
        "Импортируем нужные нам библиотеки"
      ],
      "metadata": {
        "id": "LUjxcL6zkn3k"
      },
      "id": "LUjxcL6zkn3k"
    },
    {
      "cell_type": "code",
      "execution_count": 23,
      "id": "dfef24b7",
      "metadata": {
        "id": "dfef24b7"
      },
      "outputs": [],
      "source": [
        "import pandas as pd\n",
        "import numpy as np\n",
        "import matplotlib.pyplot as plt\n",
        "import seaborn as sns \n",
        "\n",
        "import math\n",
        "import scipy\n",
        "\n",
        "from sklearn.model_selection import train_test_split\n",
        "from sklearn.metrics import mean_absolute_percentage_error, r2_score, explained_variance_score, mean_squared_error, mean_absolute_error\n",
        "from sklearn.linear_model import LinearRegression"
      ]
    },
    {
      "cell_type": "markdown",
      "source": [
        "Загрузим данные"
      ],
      "metadata": {
        "id": "h91kebKKktvm"
      },
      "id": "h91kebKKktvm"
    },
    {
      "cell_type": "code",
      "execution_count": 24,
      "id": "480cc3ce",
      "metadata": {
        "colab": {
          "base_uri": "https://localhost:8080/"
        },
        "id": "480cc3ce",
        "outputId": "8a77575e-8c09-46bc-c095-09adcf4832d1"
      },
      "outputs": [
        {
          "output_type": "stream",
          "name": "stderr",
          "text": [
            "/usr/local/lib/python3.10/dist-packages/openpyxl/worksheet/header_footer.py:48: UserWarning: Cannot parse header or footer so it will be ignored\n",
            "  warn(\"\"\"Cannot parse header or footer so it will be ignored\"\"\")\n"
          ]
        }
      ],
      "source": [
        "df = pd.read_excel(\"ML.ds3.xlsx\", \"V(19)\", header=1)"
      ]
    },
    {
      "cell_type": "markdown",
      "source": [
        "Выведем часть данных"
      ],
      "metadata": {
        "id": "tEY9N1MokyMh"
      },
      "id": "tEY9N1MokyMh"
    },
    {
      "cell_type": "code",
      "execution_count": 25,
      "id": "026c84a8",
      "metadata": {
        "colab": {
          "base_uri": "https://localhost:8080/",
          "height": 206
        },
        "id": "026c84a8",
        "outputId": "da1efead-b258-4499-caae-4a1dfb1940f0"
      },
      "outputs": [
        {
          "output_type": "execute_result",
          "data": {
            "text/plain": [
              "   Price  House  Area  Dist  Eco\n",
              "0   27.0    130   6.0  12.0    0\n",
              "1  270.0    350  15.0  15.0    1\n",
              "2    6.0     36   6.0  65.0    0\n",
              "3  120.0    300  32.0  28.0    1\n",
              "4  135.0    170  15.0  30.0    1"
            ],
            "text/html": [
              "\n",
              "  <div id=\"df-8a0492f7-5b66-493f-8a7e-6e11e68ec86d\">\n",
              "    <div class=\"colab-df-container\">\n",
              "      <div>\n",
              "<style scoped>\n",
              "    .dataframe tbody tr th:only-of-type {\n",
              "        vertical-align: middle;\n",
              "    }\n",
              "\n",
              "    .dataframe tbody tr th {\n",
              "        vertical-align: top;\n",
              "    }\n",
              "\n",
              "    .dataframe thead th {\n",
              "        text-align: right;\n",
              "    }\n",
              "</style>\n",
              "<table border=\"1\" class=\"dataframe\">\n",
              "  <thead>\n",
              "    <tr style=\"text-align: right;\">\n",
              "      <th></th>\n",
              "      <th>Price</th>\n",
              "      <th>House</th>\n",
              "      <th>Area</th>\n",
              "      <th>Dist</th>\n",
              "      <th>Eco</th>\n",
              "    </tr>\n",
              "  </thead>\n",
              "  <tbody>\n",
              "    <tr>\n",
              "      <th>0</th>\n",
              "      <td>27.0</td>\n",
              "      <td>130</td>\n",
              "      <td>6.0</td>\n",
              "      <td>12.0</td>\n",
              "      <td>0</td>\n",
              "    </tr>\n",
              "    <tr>\n",
              "      <th>1</th>\n",
              "      <td>270.0</td>\n",
              "      <td>350</td>\n",
              "      <td>15.0</td>\n",
              "      <td>15.0</td>\n",
              "      <td>1</td>\n",
              "    </tr>\n",
              "    <tr>\n",
              "      <th>2</th>\n",
              "      <td>6.0</td>\n",
              "      <td>36</td>\n",
              "      <td>6.0</td>\n",
              "      <td>65.0</td>\n",
              "      <td>0</td>\n",
              "    </tr>\n",
              "    <tr>\n",
              "      <th>3</th>\n",
              "      <td>120.0</td>\n",
              "      <td>300</td>\n",
              "      <td>32.0</td>\n",
              "      <td>28.0</td>\n",
              "      <td>1</td>\n",
              "    </tr>\n",
              "    <tr>\n",
              "      <th>4</th>\n",
              "      <td>135.0</td>\n",
              "      <td>170</td>\n",
              "      <td>15.0</td>\n",
              "      <td>30.0</td>\n",
              "      <td>1</td>\n",
              "    </tr>\n",
              "  </tbody>\n",
              "</table>\n",
              "</div>\n",
              "      <button class=\"colab-df-convert\" onclick=\"convertToInteractive('df-8a0492f7-5b66-493f-8a7e-6e11e68ec86d')\"\n",
              "              title=\"Convert this dataframe to an interactive table.\"\n",
              "              style=\"display:none;\">\n",
              "        \n",
              "  <svg xmlns=\"http://www.w3.org/2000/svg\" height=\"24px\"viewBox=\"0 0 24 24\"\n",
              "       width=\"24px\">\n",
              "    <path d=\"M0 0h24v24H0V0z\" fill=\"none\"/>\n",
              "    <path d=\"M18.56 5.44l.94 2.06.94-2.06 2.06-.94-2.06-.94-.94-2.06-.94 2.06-2.06.94zm-11 1L8.5 8.5l.94-2.06 2.06-.94-2.06-.94L8.5 2.5l-.94 2.06-2.06.94zm10 10l.94 2.06.94-2.06 2.06-.94-2.06-.94-.94-2.06-.94 2.06-2.06.94z\"/><path d=\"M17.41 7.96l-1.37-1.37c-.4-.4-.92-.59-1.43-.59-.52 0-1.04.2-1.43.59L10.3 9.45l-7.72 7.72c-.78.78-.78 2.05 0 2.83L4 21.41c.39.39.9.59 1.41.59.51 0 1.02-.2 1.41-.59l7.78-7.78 2.81-2.81c.8-.78.8-2.07 0-2.86zM5.41 20L4 18.59l7.72-7.72 1.47 1.35L5.41 20z\"/>\n",
              "  </svg>\n",
              "      </button>\n",
              "      \n",
              "  <style>\n",
              "    .colab-df-container {\n",
              "      display:flex;\n",
              "      flex-wrap:wrap;\n",
              "      gap: 12px;\n",
              "    }\n",
              "\n",
              "    .colab-df-convert {\n",
              "      background-color: #E8F0FE;\n",
              "      border: none;\n",
              "      border-radius: 50%;\n",
              "      cursor: pointer;\n",
              "      display: none;\n",
              "      fill: #1967D2;\n",
              "      height: 32px;\n",
              "      padding: 0 0 0 0;\n",
              "      width: 32px;\n",
              "    }\n",
              "\n",
              "    .colab-df-convert:hover {\n",
              "      background-color: #E2EBFA;\n",
              "      box-shadow: 0px 1px 2px rgba(60, 64, 67, 0.3), 0px 1px 3px 1px rgba(60, 64, 67, 0.15);\n",
              "      fill: #174EA6;\n",
              "    }\n",
              "\n",
              "    [theme=dark] .colab-df-convert {\n",
              "      background-color: #3B4455;\n",
              "      fill: #D2E3FC;\n",
              "    }\n",
              "\n",
              "    [theme=dark] .colab-df-convert:hover {\n",
              "      background-color: #434B5C;\n",
              "      box-shadow: 0px 1px 3px 1px rgba(0, 0, 0, 0.15);\n",
              "      filter: drop-shadow(0px 1px 2px rgba(0, 0, 0, 0.3));\n",
              "      fill: #FFFFFF;\n",
              "    }\n",
              "  </style>\n",
              "\n",
              "      <script>\n",
              "        const buttonEl =\n",
              "          document.querySelector('#df-8a0492f7-5b66-493f-8a7e-6e11e68ec86d button.colab-df-convert');\n",
              "        buttonEl.style.display =\n",
              "          google.colab.kernel.accessAllowed ? 'block' : 'none';\n",
              "\n",
              "        async function convertToInteractive(key) {\n",
              "          const element = document.querySelector('#df-8a0492f7-5b66-493f-8a7e-6e11e68ec86d');\n",
              "          const dataTable =\n",
              "            await google.colab.kernel.invokeFunction('convertToInteractive',\n",
              "                                                     [key], {});\n",
              "          if (!dataTable) return;\n",
              "\n",
              "          const docLinkHtml = 'Like what you see? Visit the ' +\n",
              "            '<a target=\"_blank\" href=https://colab.research.google.com/notebooks/data_table.ipynb>data table notebook</a>'\n",
              "            + ' to learn more about interactive tables.';\n",
              "          element.innerHTML = '';\n",
              "          dataTable['output_type'] = 'display_data';\n",
              "          await google.colab.output.renderOutput(dataTable, element);\n",
              "          const docLink = document.createElement('div');\n",
              "          docLink.innerHTML = docLinkHtml;\n",
              "          element.appendChild(docLink);\n",
              "        }\n",
              "      </script>\n",
              "    </div>\n",
              "  </div>\n",
              "  "
            ]
          },
          "metadata": {},
          "execution_count": 25
        }
      ],
      "source": [
        "df.head()"
      ]
    },
    {
      "cell_type": "markdown",
      "id": "a3225ca3",
      "metadata": {
        "id": "a3225ca3"
      },
      "source": [
        "# Подготовка данных"
      ]
    },
    {
      "cell_type": "markdown",
      "source": [
        "Выделим отдельно целевую переменную и исходные признаки"
      ],
      "metadata": {
        "id": "HrMbyIPhlKAV"
      },
      "id": "HrMbyIPhlKAV"
    },
    {
      "cell_type": "code",
      "execution_count": 26,
      "id": "ac04eb88",
      "metadata": {
        "id": "ac04eb88"
      },
      "outputs": [],
      "source": [
        "X = df.drop(['Price'], axis=1)\n",
        "Y = df['Price']"
      ]
    },
    {
      "cell_type": "markdown",
      "source": [
        "Разделим данные на обучающую (80%) и тестовую (20%) части"
      ],
      "metadata": {
        "id": "KJnB7LgHlZJG"
      },
      "id": "KJnB7LgHlZJG"
    },
    {
      "cell_type": "code",
      "execution_count": 27,
      "id": "8e5a7a7b",
      "metadata": {
        "id": "8e5a7a7b",
        "colab": {
          "base_uri": "https://localhost:8080/",
          "height": 363
        },
        "outputId": "bab62625-1a7e-48dc-f673-50cc44256aa9"
      },
      "outputs": [
        {
          "output_type": "execute_result",
          "data": {
            "text/plain": [
              "    House  Area  Dist  Eco\n",
              "16    500  40.0  26.0    1\n",
              "19    150  10.0  26.0    1\n",
              "43    250  15.0  85.0    1\n",
              "9     130  15.0  27.0    1\n",
              "39    228  20.0  45.0    0\n",
              "36    320  20.0  25.0    0\n",
              "31    300  15.0   0.5    1\n",
              "20    370  15.0  45.0    1\n",
              "10     56  15.0  75.0    0\n",
              "32    400  22.0  20.0    1"
            ],
            "text/html": [
              "\n",
              "  <div id=\"df-c0a39f24-7611-4725-8408-6201f1fe2c4b\">\n",
              "    <div class=\"colab-df-container\">\n",
              "      <div>\n",
              "<style scoped>\n",
              "    .dataframe tbody tr th:only-of-type {\n",
              "        vertical-align: middle;\n",
              "    }\n",
              "\n",
              "    .dataframe tbody tr th {\n",
              "        vertical-align: top;\n",
              "    }\n",
              "\n",
              "    .dataframe thead th {\n",
              "        text-align: right;\n",
              "    }\n",
              "</style>\n",
              "<table border=\"1\" class=\"dataframe\">\n",
              "  <thead>\n",
              "    <tr style=\"text-align: right;\">\n",
              "      <th></th>\n",
              "      <th>House</th>\n",
              "      <th>Area</th>\n",
              "      <th>Dist</th>\n",
              "      <th>Eco</th>\n",
              "    </tr>\n",
              "  </thead>\n",
              "  <tbody>\n",
              "    <tr>\n",
              "      <th>16</th>\n",
              "      <td>500</td>\n",
              "      <td>40.0</td>\n",
              "      <td>26.0</td>\n",
              "      <td>1</td>\n",
              "    </tr>\n",
              "    <tr>\n",
              "      <th>19</th>\n",
              "      <td>150</td>\n",
              "      <td>10.0</td>\n",
              "      <td>26.0</td>\n",
              "      <td>1</td>\n",
              "    </tr>\n",
              "    <tr>\n",
              "      <th>43</th>\n",
              "      <td>250</td>\n",
              "      <td>15.0</td>\n",
              "      <td>85.0</td>\n",
              "      <td>1</td>\n",
              "    </tr>\n",
              "    <tr>\n",
              "      <th>9</th>\n",
              "      <td>130</td>\n",
              "      <td>15.0</td>\n",
              "      <td>27.0</td>\n",
              "      <td>1</td>\n",
              "    </tr>\n",
              "    <tr>\n",
              "      <th>39</th>\n",
              "      <td>228</td>\n",
              "      <td>20.0</td>\n",
              "      <td>45.0</td>\n",
              "      <td>0</td>\n",
              "    </tr>\n",
              "    <tr>\n",
              "      <th>36</th>\n",
              "      <td>320</td>\n",
              "      <td>20.0</td>\n",
              "      <td>25.0</td>\n",
              "      <td>0</td>\n",
              "    </tr>\n",
              "    <tr>\n",
              "      <th>31</th>\n",
              "      <td>300</td>\n",
              "      <td>15.0</td>\n",
              "      <td>0.5</td>\n",
              "      <td>1</td>\n",
              "    </tr>\n",
              "    <tr>\n",
              "      <th>20</th>\n",
              "      <td>370</td>\n",
              "      <td>15.0</td>\n",
              "      <td>45.0</td>\n",
              "      <td>1</td>\n",
              "    </tr>\n",
              "    <tr>\n",
              "      <th>10</th>\n",
              "      <td>56</td>\n",
              "      <td>15.0</td>\n",
              "      <td>75.0</td>\n",
              "      <td>0</td>\n",
              "    </tr>\n",
              "    <tr>\n",
              "      <th>32</th>\n",
              "      <td>400</td>\n",
              "      <td>22.0</td>\n",
              "      <td>20.0</td>\n",
              "      <td>1</td>\n",
              "    </tr>\n",
              "  </tbody>\n",
              "</table>\n",
              "</div>\n",
              "      <button class=\"colab-df-convert\" onclick=\"convertToInteractive('df-c0a39f24-7611-4725-8408-6201f1fe2c4b')\"\n",
              "              title=\"Convert this dataframe to an interactive table.\"\n",
              "              style=\"display:none;\">\n",
              "        \n",
              "  <svg xmlns=\"http://www.w3.org/2000/svg\" height=\"24px\"viewBox=\"0 0 24 24\"\n",
              "       width=\"24px\">\n",
              "    <path d=\"M0 0h24v24H0V0z\" fill=\"none\"/>\n",
              "    <path d=\"M18.56 5.44l.94 2.06.94-2.06 2.06-.94-2.06-.94-.94-2.06-.94 2.06-2.06.94zm-11 1L8.5 8.5l.94-2.06 2.06-.94-2.06-.94L8.5 2.5l-.94 2.06-2.06.94zm10 10l.94 2.06.94-2.06 2.06-.94-2.06-.94-.94-2.06-.94 2.06-2.06.94z\"/><path d=\"M17.41 7.96l-1.37-1.37c-.4-.4-.92-.59-1.43-.59-.52 0-1.04.2-1.43.59L10.3 9.45l-7.72 7.72c-.78.78-.78 2.05 0 2.83L4 21.41c.39.39.9.59 1.41.59.51 0 1.02-.2 1.41-.59l7.78-7.78 2.81-2.81c.8-.78.8-2.07 0-2.86zM5.41 20L4 18.59l7.72-7.72 1.47 1.35L5.41 20z\"/>\n",
              "  </svg>\n",
              "      </button>\n",
              "      \n",
              "  <style>\n",
              "    .colab-df-container {\n",
              "      display:flex;\n",
              "      flex-wrap:wrap;\n",
              "      gap: 12px;\n",
              "    }\n",
              "\n",
              "    .colab-df-convert {\n",
              "      background-color: #E8F0FE;\n",
              "      border: none;\n",
              "      border-radius: 50%;\n",
              "      cursor: pointer;\n",
              "      display: none;\n",
              "      fill: #1967D2;\n",
              "      height: 32px;\n",
              "      padding: 0 0 0 0;\n",
              "      width: 32px;\n",
              "    }\n",
              "\n",
              "    .colab-df-convert:hover {\n",
              "      background-color: #E2EBFA;\n",
              "      box-shadow: 0px 1px 2px rgba(60, 64, 67, 0.3), 0px 1px 3px 1px rgba(60, 64, 67, 0.15);\n",
              "      fill: #174EA6;\n",
              "    }\n",
              "\n",
              "    [theme=dark] .colab-df-convert {\n",
              "      background-color: #3B4455;\n",
              "      fill: #D2E3FC;\n",
              "    }\n",
              "\n",
              "    [theme=dark] .colab-df-convert:hover {\n",
              "      background-color: #434B5C;\n",
              "      box-shadow: 0px 1px 3px 1px rgba(0, 0, 0, 0.15);\n",
              "      filter: drop-shadow(0px 1px 2px rgba(0, 0, 0, 0.3));\n",
              "      fill: #FFFFFF;\n",
              "    }\n",
              "  </style>\n",
              "\n",
              "      <script>\n",
              "        const buttonEl =\n",
              "          document.querySelector('#df-c0a39f24-7611-4725-8408-6201f1fe2c4b button.colab-df-convert');\n",
              "        buttonEl.style.display =\n",
              "          google.colab.kernel.accessAllowed ? 'block' : 'none';\n",
              "\n",
              "        async function convertToInteractive(key) {\n",
              "          const element = document.querySelector('#df-c0a39f24-7611-4725-8408-6201f1fe2c4b');\n",
              "          const dataTable =\n",
              "            await google.colab.kernel.invokeFunction('convertToInteractive',\n",
              "                                                     [key], {});\n",
              "          if (!dataTable) return;\n",
              "\n",
              "          const docLinkHtml = 'Like what you see? Visit the ' +\n",
              "            '<a target=\"_blank\" href=https://colab.research.google.com/notebooks/data_table.ipynb>data table notebook</a>'\n",
              "            + ' to learn more about interactive tables.';\n",
              "          element.innerHTML = '';\n",
              "          dataTable['output_type'] = 'display_data';\n",
              "          await google.colab.output.renderOutput(dataTable, element);\n",
              "          const docLink = document.createElement('div');\n",
              "          docLink.innerHTML = docLinkHtml;\n",
              "          element.appendChild(docLink);\n",
              "        }\n",
              "      </script>\n",
              "    </div>\n",
              "  </div>\n",
              "  "
            ]
          },
          "metadata": {},
          "execution_count": 27
        }
      ],
      "source": [
        "test_size = 0.20\n",
        "r_state = 57\n",
        "X_train, X_test, y_train, y_test = train_test_split(X, Y, test_size=test_size, random_state=r_state)\n",
        "X_test "
      ]
    },
    {
      "cell_type": "code",
      "source": [
        "y_test"
      ],
      "metadata": {
        "colab": {
          "base_uri": "https://localhost:8080/"
        },
        "id": "To17XTw4Rkef",
        "outputId": "c98554a4-437b-4468-9970-9772513b4ade"
      },
      "id": "To17XTw4Rkef",
      "execution_count": 28,
      "outputs": [
        {
          "output_type": "execute_result",
          "data": {
            "text/plain": [
              "16    220.0\n",
              "19    120.0\n",
              "43     42.0\n",
              "9     130.0\n",
              "39     83.0\n",
              "36     85.0\n",
              "31    320.0\n",
              "20     95.0\n",
              "10     16.5\n",
              "32    300.0\n",
              "Name: Price, dtype: float64"
            ]
          },
          "metadata": {},
          "execution_count": 28
        }
      ]
    },
    {
      "cell_type": "markdown",
      "id": "fea6d4e9",
      "metadata": {
        "id": "fea6d4e9"
      },
      "source": [
        "# Обучение модели"
      ]
    },
    {
      "cell_type": "markdown",
      "source": [
        "Создадим модель линейной регрессии"
      ],
      "metadata": {
        "id": "DrIH4qAalhwW"
      },
      "id": "DrIH4qAalhwW"
    },
    {
      "cell_type": "code",
      "execution_count": 29,
      "id": "a5750f35",
      "metadata": {
        "id": "a5750f35"
      },
      "outputs": [],
      "source": [
        "linear_regressor = LinearRegression(fit_intercept=True)"
      ]
    },
    {
      "cell_type": "markdown",
      "id": "9cce447f",
      "metadata": {
        "id": "9cce447f"
      },
      "source": [
        "Обучаем модель на наших данных"
      ]
    },
    {
      "cell_type": "code",
      "execution_count": 30,
      "id": "22163603",
      "metadata": {
        "id": "22163603"
      },
      "outputs": [],
      "source": [
        "m1 = linear_regressor.fit(X_train, y_train)"
      ]
    },
    {
      "cell_type": "markdown",
      "id": "67808d96",
      "metadata": {
        "id": "67808d96"
      },
      "source": [
        "Посмотрим на результат обучения. Оценки коэффициентов перед признаками"
      ]
    },
    {
      "cell_type": "code",
      "execution_count": 31,
      "id": "d4d64fa0",
      "metadata": {
        "colab": {
          "base_uri": "https://localhost:8080/"
        },
        "id": "d4d64fa0",
        "outputId": "f8cb1b4a-d84f-4a10-96f5-f866a18e6bb8"
      },
      "outputs": [
        {
          "output_type": "execute_result",
          "data": {
            "text/plain": [
              "array([ 0.20134171,  3.31987098, -0.32280645, 37.91347153])"
            ]
          },
          "metadata": {},
          "execution_count": 31
        }
      ],
      "source": [
        "m1.coef_"
      ]
    },
    {
      "cell_type": "markdown",
      "id": "7a67cb21",
      "metadata": {
        "id": "7a67cb21"
      },
      "source": [
        "Оценка свободного коэффициента"
      ]
    },
    {
      "cell_type": "code",
      "execution_count": 32,
      "id": "639918b8",
      "metadata": {
        "colab": {
          "base_uri": "https://localhost:8080/"
        },
        "id": "639918b8",
        "outputId": "7f0c3b37-2b30-4127-ca6a-fcc8c2ca4ad3"
      },
      "outputs": [
        {
          "output_type": "execute_result",
          "data": {
            "text/plain": [
              "-17.329704196603977"
            ]
          },
          "metadata": {},
          "execution_count": 32
        }
      ],
      "source": [
        "m1.intercept_"
      ]
    },
    {
      "cell_type": "markdown",
      "id": "4ee12617",
      "metadata": {
        "id": "4ee12617"
      },
      "source": [
        "# Тестирование и оценка качества"
      ]
    },
    {
      "cell_type": "markdown",
      "id": "62d0f088",
      "metadata": {
        "id": "62d0f088"
      },
      "source": [
        "## Оценка качества модели на обучающей выборке"
      ]
    },
    {
      "cell_type": "markdown",
      "id": "119c57e6",
      "metadata": {
        "id": "119c57e6"
      },
      "source": [
        "Выполним предсказание с помощью функции predict"
      ]
    },
    {
      "cell_type": "code",
      "execution_count": 33,
      "id": "87396a5a",
      "metadata": {
        "scrolled": true,
        "colab": {
          "base_uri": "https://localhost:8080/"
        },
        "id": "87396a5a",
        "outputId": "502c9666-40ae-4c67-a113-711d9e9db712"
      },
      "outputs": [
        {
          "output_type": "execute_result",
          "data": {
            "text/plain": [
              "array([ 46.47809984,  55.35115614, 188.92721359, 141.12685037,\n",
              "         4.84663728, 178.18357149,  31.00709645,  53.74949145,\n",
              "       -11.14459609,  38.4565904 ,  79.94040676,  47.77968832,\n",
              "        24.89026672,  25.65030915, 154.20705524,  39.57943135,\n",
              "        -6.93414895,  68.30883027,   2.31850077,   6.18398535,\n",
              "        65.96307076,  94.92572941,  -4.13762828,  47.58825563,\n",
              "       136.0093342 ,  46.18168197,   7.60657162,   9.44943405,\n",
              "         9.44943405,  85.21615222, 145.03440298, 119.17936793,\n",
              "        40.13027012,  97.52726624,  -7.54930572, 186.11415062,\n",
              "         7.2254655 ,  55.17991079])"
            ]
          },
          "metadata": {},
          "execution_count": 33
        }
      ],
      "source": [
        "prediction_train = m1.predict(X_train)\n",
        "prediction_train"
      ]
    },
    {
      "cell_type": "markdown",
      "id": "d34c20e6",
      "metadata": {
        "id": "d34c20e6"
      },
      "source": [
        "Вычислим остатки"
      ]
    },
    {
      "cell_type": "code",
      "execution_count": 34,
      "id": "586fd3ce",
      "metadata": {
        "colab": {
          "base_uri": "https://localhost:8080/"
        },
        "id": "586fd3ce",
        "outputId": "af2c2ad1-fb89-4e05-ada2-e069447e573a"
      },
      "outputs": [
        {
          "output_type": "execute_result",
          "data": {
            "text/plain": [
              "28      3.521900\n",
              "29    -46.851156\n",
              "26    -88.927214\n",
              "7      88.873150\n",
              "30     11.653363\n",
              "3     -58.183571\n",
              "33     28.992904\n",
              "23    -28.749491\n",
              "2      17.144596\n",
              "13    -25.456590\n",
              "12     30.059593\n",
              "35     -9.779688\n",
              "0       2.109733\n",
              "27     -0.650309\n",
              "21    -34.207055\n",
              "38    -11.579431\n",
              "14     23.934149\n",
              "18    -23.308830\n",
              "44      3.181499\n",
              "25     13.816015\n",
              "45    -18.963071\n",
              "4      40.074271\n",
              "6      14.137628\n",
              "42    -20.588256\n",
              "1     133.990666\n",
              "41    -31.181682\n",
              "24     12.393428\n",
              "11     -2.449434\n",
              "8       5.550566\n",
              "37     -0.216152\n",
              "17    -50.034403\n",
              "40    -39.179368\n",
              "34    -26.130270\n",
              "47    -38.527266\n",
              "46     12.549306\n",
              "5     128.885849\n",
              "22      9.274535\n",
              "15    -25.179911\n",
              "Name: Price, dtype: float64"
            ]
          },
          "metadata": {},
          "execution_count": 34
        }
      ],
      "source": [
        "residual = (y_train - prediction_train)\n",
        "residual"
      ]
    },
    {
      "cell_type": "markdown",
      "id": "dca4b45a",
      "metadata": {
        "id": "dca4b45a"
      },
      "source": [
        "Построим диаграмму остатков"
      ]
    },
    {
      "cell_type": "code",
      "execution_count": 35,
      "id": "473f603a",
      "metadata": {
        "colab": {
          "base_uri": "https://localhost:8080/",
          "height": 447
        },
        "id": "473f603a",
        "outputId": "03ef0989-7b71-4fb4-adab-9535888277d5"
      },
      "outputs": [
        {
          "output_type": "execute_result",
          "data": {
            "text/plain": [
              "<matplotlib.collections.PathCollection at 0x7fbb8c001960>"
            ]
          },
          "metadata": {},
          "execution_count": 35
        },
        {
          "output_type": "display_data",
          "data": {
            "text/plain": [
              "<Figure size 640x480 with 1 Axes>"
            ],
            "image/png": "[encoded data removed]"
          },
          "metadata": {}
        }
      ],
      "source": [
        "plt.scatter(residual.index, residual)"
      ]
    },
    {
      "cell_type": "markdown",
      "id": "8a82a0d8",
      "metadata": {
        "id": "8a82a0d8"
      },
      "source": [
        "Исходя из диаграммы, имеется много больших остатков. Значит, качество модели на обучающей выборке является невысоким"
      ]
    },
    {
      "cell_type": "markdown",
      "id": "17560aff",
      "metadata": {
        "id": "17560aff"
      },
      "source": [
        "Вычислим коэффицент детерминации "
      ]
    },
    {
      "cell_type": "code",
      "execution_count": 36,
      "id": "da193224",
      "metadata": {
        "colab": {
          "base_uri": "https://localhost:8080/"
        },
        "id": "da193224",
        "outputId": "f5742a5d-3ecb-48c0-d276-cc0bed78c8c4"
      },
      "outputs": [
        {
          "output_type": "execute_result",
          "data": {
            "text/plain": [
              "0.6319208378767698"
            ]
          },
          "metadata": {},
          "execution_count": 36
        }
      ],
      "source": [
        "r2_m1 = r2_score(y_train, prediction_train)\n",
        "r2_m1"
      ]
    },
    {
      "cell_type": "markdown",
      "id": "1890de90",
      "metadata": {
        "id": "1890de90"
      },
      "source": [
        "Относительно низкая величина коэффицента детерминации подтверждает вывод о невысоком качестве модели на обучающей выборке"
      ]
    },
    {
      "cell_type": "markdown",
      "id": "f2e2ee77",
      "metadata": {
        "id": "f2e2ee77"
      },
      "source": [
        "Вычислим метрику MAPE - mean absolute percentage error, с помощью функции mean_absolute_percentage_error"
      ]
    },
    {
      "cell_type": "code",
      "execution_count": 37,
      "id": "90844b20",
      "metadata": {
        "colab": {
          "base_uri": "https://localhost:8080/"
        },
        "id": "90844b20",
        "outputId": "aef60fa4-e430-4796-9ed6-0328ea6b18b7"
      },
      "outputs": [
        {
          "output_type": "execute_result",
          "data": {
            "text/plain": [
              "88.6226764659184"
            ]
          },
          "metadata": {},
          "execution_count": 37
        }
      ],
      "source": [
        "mape_m1 = mean_absolute_percentage_error(y_train, prediction_train)*100\n",
        "mape_m1"
      ]
    },
    {
      "cell_type": "markdown",
      "id": "8b3be262",
      "metadata": {
        "id": "8b3be262"
      },
      "source": [
        "Вычислим метрику MSE - mean squared error, с помощью функции mean_squared_error"
      ]
    },
    {
      "cell_type": "code",
      "execution_count": 38,
      "id": "d4a368b3",
      "metadata": {
        "colab": {
          "base_uri": "https://localhost:8080/"
        },
        "id": "d4a368b3",
        "outputId": "f5db9961-f52e-4108-8886-18da6c1d82d0"
      },
      "outputs": [
        {
          "output_type": "execute_result",
          "data": {
            "text/plain": [
              "1925.52201883362"
            ]
          },
          "metadata": {},
          "execution_count": 38
        }
      ],
      "source": [
        "mse_m1 = mean_squared_error(y_train, prediction_train)\n",
        "mse_m1"
      ]
    },
    {
      "cell_type": "markdown",
      "id": "560fd576",
      "metadata": {
        "id": "560fd576"
      },
      "source": [
        "Вычислим метрику MAE - mean absolute error, с помощью функции mean_absolute_error"
      ]
    },
    {
      "cell_type": "code",
      "execution_count": 39,
      "id": "233c7471",
      "metadata": {
        "scrolled": true,
        "colab": {
          "base_uri": "https://localhost:8080/"
        },
        "id": "233c7471",
        "outputId": "9204cae8-b80f-4395-9102-e8b9b576fbc8"
      },
      "outputs": [
        {
          "output_type": "execute_result",
          "data": {
            "text/plain": [
              "30.53385000490224"
            ]
          },
          "metadata": {},
          "execution_count": 39
        }
      ],
      "source": [
        "mae_m1 = mean_absolute_error(y_train, prediction_train)\n",
        "mae_m1"
      ]
    },
    {
      "cell_type": "markdown",
      "id": "6f551433",
      "metadata": {
        "id": "6f551433"
      },
      "source": [
        "## Оценка качества модели на тестовой выборке"
      ]
    },
    {
      "cell_type": "markdown",
      "id": "22c488d8",
      "metadata": {
        "id": "22c488d8"
      },
      "source": [
        "Выполним предсказание с помощью функции predict"
      ]
    },
    {
      "cell_type": "code",
      "execution_count": 40,
      "id": "21370f84",
      "metadata": {
        "scrolled": true,
        "colab": {
          "base_uri": "https://localhost:8080/"
        },
        "id": "21370f84",
        "outputId": "7093e034-6fed-43d8-c830-8dd32fbc7853"
      },
      "outputs": [
        {
          "output_type": "execute_result",
          "data": {
            "text/plain": [
              "array([245.65649449,  75.59076608,  93.27871143,  87.84048033,\n",
              "        80.44733526, 105.42690173, 130.6229422 , 130.35197485,\n",
              "        19.53301246, 167.70148438])"
            ]
          },
          "metadata": {},
          "execution_count": 40
        }
      ],
      "source": [
        "prediction_test = m1.predict(X_test)\n",
        "prediction_test"
      ]
    },
    {
      "cell_type": "markdown",
      "id": "271c3ffa",
      "metadata": {
        "id": "271c3ffa"
      },
      "source": [
        "Вычислим остатки"
      ]
    },
    {
      "cell_type": "code",
      "execution_count": 41,
      "id": "70850966",
      "metadata": {
        "colab": {
          "base_uri": "https://localhost:8080/"
        },
        "id": "70850966",
        "outputId": "3c8f042d-0a13-48b5-bed8-e7967c25f5da"
      },
      "outputs": [
        {
          "output_type": "execute_result",
          "data": {
            "text/plain": [
              "16    -25.656494\n",
              "19     44.409234\n",
              "43    -51.278711\n",
              "9      42.159520\n",
              "39      2.552665\n",
              "36    -20.426902\n",
              "31    189.377058\n",
              "20    -35.351975\n",
              "10     -3.033012\n",
              "32    132.298516\n",
              "Name: Price, dtype: float64"
            ]
          },
          "metadata": {},
          "execution_count": 41
        }
      ],
      "source": [
        "residual1 = (y_test - prediction_test)\n",
        "residual1"
      ]
    },
    {
      "cell_type": "markdown",
      "id": "54c29d03",
      "metadata": {
        "id": "54c29d03"
      },
      "source": [
        "Построим диаграмму остатков"
      ]
    },
    {
      "cell_type": "code",
      "execution_count": 42,
      "id": "fc5a7ea7",
      "metadata": {
        "colab": {
          "base_uri": "https://localhost:8080/",
          "height": 450
        },
        "id": "fc5a7ea7",
        "outputId": "bf2620e3-ea11-499f-a266-69e3f5f11b00"
      },
      "outputs": [
        {
          "output_type": "execute_result",
          "data": {
            "text/plain": [
              "<matplotlib.collections.PathCollection at 0x7fbb86eb0c70>"
            ]
          },
          "metadata": {},
          "execution_count": 42
        },
        {
          "output_type": "display_data",
          "data": {
            "text/plain": [
              "<Figure size 640x480 with 1 Axes>"
            ],
            "image/png": "[encoded data removed]"
          },
          "metadata": {}
        }
      ],
      "source": [
        "plt.scatter(residual1.index, residual1)"
      ]
    },
    {
      "cell_type": "markdown",
      "id": "f1740f8e",
      "metadata": {
        "id": "f1740f8e"
      },
      "source": [
        "Исходя из диаграммы, имеется много больших остатков. Значит, качество модели на тестовой выборке является невысоким"
      ]
    },
    {
      "cell_type": "markdown",
      "id": "d47a8593",
      "metadata": {
        "id": "d47a8593"
      },
      "source": [
        "Вычислим коэффицент детерминации"
      ]
    },
    {
      "cell_type": "code",
      "execution_count": 43,
      "id": "a0550f3d",
      "metadata": {
        "colab": {
          "base_uri": "https://localhost:8080/"
        },
        "id": "a0550f3d",
        "outputId": "313b5631-917a-4fe4-bb22-1d4020b02122"
      },
      "outputs": [
        {
          "output_type": "execute_result",
          "data": {
            "text/plain": [
              "0.3667341115206302"
            ]
          },
          "metadata": {},
          "execution_count": 43
        }
      ],
      "source": [
        "r2test_m1 = r2_score(y_test, prediction_test)\n",
        "r2test_m1"
      ]
    },
    {
      "cell_type": "markdown",
      "id": "14732677",
      "metadata": {
        "id": "14732677"
      },
      "source": [
        "Низкая величина коэффицента детерминации подтверждает вывод о невысоком качестве модели на тестовой выборке"
      ]
    },
    {
      "cell_type": "markdown",
      "id": "37ba7d1c",
      "metadata": {
        "id": "37ba7d1c"
      },
      "source": [
        "Вычислим метрику MAPE - mean absolute percentage error, с помощью функции mean_absolute_percentage_error"
      ]
    },
    {
      "cell_type": "code",
      "execution_count": 44,
      "id": "d6e3c36f",
      "metadata": {
        "colab": {
          "base_uri": "https://localhost:8080/"
        },
        "id": "d6e3c36f",
        "outputId": "fd3cf928-07ec-4863-a970-f109041fda8d"
      },
      "outputs": [
        {
          "output_type": "execute_result",
          "data": {
            "text/plain": [
              "38.9173791073389"
            ]
          },
          "metadata": {},
          "execution_count": 44
        }
      ],
      "source": [
        "mapetest_m1 = mean_absolute_percentage_error(y_test, prediction_test)*100\n",
        "mapetest_m1"
      ]
    },
    {
      "cell_type": "markdown",
      "id": "8a794e81",
      "metadata": {
        "id": "8a794e81"
      },
      "source": [
        "Вычислим метрику MSE - mean squared error, с помощью функции mean_squared_error"
      ]
    },
    {
      "cell_type": "code",
      "execution_count": 45,
      "id": "56b346fd",
      "metadata": {
        "colab": {
          "base_uri": "https://localhost:8080/"
        },
        "id": "56b346fd",
        "outputId": "b25aa1dd-bf83-43a5-9030-5b6fa7ef46d7"
      },
      "outputs": [
        {
          "output_type": "execute_result",
          "data": {
            "text/plain": [
              "6208.667006994158"
            ]
          },
          "metadata": {},
          "execution_count": 45
        }
      ],
      "source": [
        "msetest_m1 = mean_squared_error(y_test, prediction_test)\n",
        "msetest_m1"
      ]
    },
    {
      "cell_type": "markdown",
      "id": "583849a7",
      "metadata": {
        "id": "583849a7"
      },
      "source": [
        "Вычислим метрику MAE - mean absolute error, с помощью функции mean_absolute_error"
      ]
    },
    {
      "cell_type": "code",
      "execution_count": 46,
      "id": "6c2cf2d1",
      "metadata": {
        "scrolled": true,
        "colab": {
          "base_uri": "https://localhost:8080/"
        },
        "id": "6c2cf2d1",
        "outputId": "de7ce466-1243-47b6-ff23-0a875494fd6d"
      },
      "outputs": [
        {
          "output_type": "execute_result",
          "data": {
            "text/plain": [
              "54.65440867094628"
            ]
          },
          "metadata": {},
          "execution_count": 46
        }
      ],
      "source": [
        "maetest_m1 = mean_absolute_error(y_test, prediction_test)\n",
        "maetest_m1"
      ]
    },
    {
      "cell_type": "markdown",
      "source": [
        "Выделим значения метрик на обучающей и тестовых выборках в отдельную таблицу"
      ],
      "metadata": {
        "id": "clsaNmvkmKjr"
      },
      "id": "clsaNmvkmKjr"
    },
    {
      "cell_type": "code",
      "execution_count": 47,
      "id": "6bbd9d15",
      "metadata": {
        "colab": {
          "base_uri": "https://localhost:8080/",
          "height": 175
        },
        "id": "6bbd9d15",
        "outputId": "d1d8d468-fe94-4281-81db-f57b5de54506"
      },
      "outputs": [
        {
          "output_type": "execute_result",
          "data": {
            "text/plain": [
              "  Metrics        Train         Test\n",
              "0      R2     0.631921     0.366734\n",
              "1    MAPE    88.622676    38.917379\n",
              "2     MSE  1925.522019  6208.667007\n",
              "3     MAE    30.533850    54.654409"
            ],
            "text/html": [
              "\n",
              "  <div id=\"df-58e436bf-25a1-4e17-a84b-d51c3df2e576\">\n",
              "    <div class=\"colab-df-container\">\n",
              "      <div>\n",
              "<style scoped>\n",
              "    .dataframe tbody tr th:only-of-type {\n",
              "        vertical-align: middle;\n",
              "    }\n",
              "\n",
              "    .dataframe tbody tr th {\n",
              "        vertical-align: top;\n",
              "    }\n",
              "\n",
              "    .dataframe thead th {\n",
              "        text-align: right;\n",
              "    }\n",
              "</style>\n",
              "<table border=\"1\" class=\"dataframe\">\n",
              "  <thead>\n",
              "    <tr style=\"text-align: right;\">\n",
              "      <th></th>\n",
              "      <th>Metrics</th>\n",
              "      <th>Train</th>\n",
              "      <th>Test</th>\n",
              "    </tr>\n",
              "  </thead>\n",
              "  <tbody>\n",
              "    <tr>\n",
              "      <th>0</th>\n",
              "      <td>R2</td>\n",
              "      <td>0.631921</td>\n",
              "      <td>0.366734</td>\n",
              "    </tr>\n",
              "    <tr>\n",
              "      <th>1</th>\n",
              "      <td>MAPE</td>\n",
              "      <td>88.622676</td>\n",
              "      <td>38.917379</td>\n",
              "    </tr>\n",
              "    <tr>\n",
              "      <th>2</th>\n",
              "      <td>MSE</td>\n",
              "      <td>1925.522019</td>\n",
              "      <td>6208.667007</td>\n",
              "    </tr>\n",
              "    <tr>\n",
              "      <th>3</th>\n",
              "      <td>MAE</td>\n",
              "      <td>30.533850</td>\n",
              "      <td>54.654409</td>\n",
              "    </tr>\n",
              "  </tbody>\n",
              "</table>\n",
              "</div>\n",
              "      <button class=\"colab-df-convert\" onclick=\"convertToInteractive('df-58e436bf-25a1-4e17-a84b-d51c3df2e576')\"\n",
              "              title=\"Convert this dataframe to an interactive table.\"\n",
              "              style=\"display:none;\">\n",
              "        \n",
              "  <svg xmlns=\"http://www.w3.org/2000/svg\" height=\"24px\"viewBox=\"0 0 24 24\"\n",
              "       width=\"24px\">\n",
              "    <path d=\"M0 0h24v24H0V0z\" fill=\"none\"/>\n",
              "    <path d=\"M18.56 5.44l.94 2.06.94-2.06 2.06-.94-2.06-.94-.94-2.06-.94 2.06-2.06.94zm-11 1L8.5 8.5l.94-2.06 2.06-.94-2.06-.94L8.5 2.5l-.94 2.06-2.06.94zm10 10l.94 2.06.94-2.06 2.06-.94-2.06-.94-.94-2.06-.94 2.06-2.06.94z\"/><path d=\"M17.41 7.96l-1.37-1.37c-.4-.4-.92-.59-1.43-.59-.52 0-1.04.2-1.43.59L10.3 9.45l-7.72 7.72c-.78.78-.78 2.05 0 2.83L4 21.41c.39.39.9.59 1.41.59.51 0 1.02-.2 1.41-.59l7.78-7.78 2.81-2.81c.8-.78.8-2.07 0-2.86zM5.41 20L4 18.59l7.72-7.72 1.47 1.35L5.41 20z\"/>\n",
              "  </svg>\n",
              "      </button>\n",
              "      \n",
              "  <style>\n",
              "    .colab-df-container {\n",
              "      display:flex;\n",
              "      flex-wrap:wrap;\n",
              "      gap: 12px;\n",
              "    }\n",
              "\n",
              "    .colab-df-convert {\n",
              "      background-color: #E8F0FE;\n",
              "      border: none;\n",
              "      border-radius: 50%;\n",
              "      cursor: pointer;\n",
              "      display: none;\n",
              "      fill: #1967D2;\n",
              "      height: 32px;\n",
              "      padding: 0 0 0 0;\n",
              "      width: 32px;\n",
              "    }\n",
              "\n",
              "    .colab-df-convert:hover {\n",
              "      background-color: #E2EBFA;\n",
              "      box-shadow: 0px 1px 2px rgba(60, 64, 67, 0.3), 0px 1px 3px 1px rgba(60, 64, 67, 0.15);\n",
              "      fill: #174EA6;\n",
              "    }\n",
              "\n",
              "    [theme=dark] .colab-df-convert {\n",
              "      background-color: #3B4455;\n",
              "      fill: #D2E3FC;\n",
              "    }\n",
              "\n",
              "    [theme=dark] .colab-df-convert:hover {\n",
              "      background-color: #434B5C;\n",
              "      box-shadow: 0px 1px 3px 1px rgba(0, 0, 0, 0.15);\n",
              "      filter: drop-shadow(0px 1px 2px rgba(0, 0, 0, 0.3));\n",
              "      fill: #FFFFFF;\n",
              "    }\n",
              "  </style>\n",
              "\n",
              "      <script>\n",
              "        const buttonEl =\n",
              "          document.querySelector('#df-58e436bf-25a1-4e17-a84b-d51c3df2e576 button.colab-df-convert');\n",
              "        buttonEl.style.display =\n",
              "          google.colab.kernel.accessAllowed ? 'block' : 'none';\n",
              "\n",
              "        async function convertToInteractive(key) {\n",
              "          const element = document.querySelector('#df-58e436bf-25a1-4e17-a84b-d51c3df2e576');\n",
              "          const dataTable =\n",
              "            await google.colab.kernel.invokeFunction('convertToInteractive',\n",
              "                                                     [key], {});\n",
              "          if (!dataTable) return;\n",
              "\n",
              "          const docLinkHtml = 'Like what you see? Visit the ' +\n",
              "            '<a target=\"_blank\" href=https://colab.research.google.com/notebooks/data_table.ipynb>data table notebook</a>'\n",
              "            + ' to learn more about interactive tables.';\n",
              "          element.innerHTML = '';\n",
              "          dataTable['output_type'] = 'display_data';\n",
              "          await google.colab.output.renderOutput(dataTable, element);\n",
              "          const docLink = document.createElement('div');\n",
              "          docLink.innerHTML = docLinkHtml;\n",
              "          element.appendChild(docLink);\n",
              "        }\n",
              "      </script>\n",
              "    </div>\n",
              "  </div>\n",
              "  "
            ]
          },
          "metadata": {},
          "execution_count": 47
        }
      ],
      "source": [
        "ind = ['R2', 'MAPE', 'MSE', 'MAE']\n",
        "dat1 = [r2_m1, mape_m1, mse_m1, mae_m1]\n",
        "dat2 = [r2test_m1, mapetest_m1, msetest_m1, maetest_m1]\n",
        "\n",
        "pd.DataFrame({\n",
        "    'Metrics': ind,\n",
        "    'Train': dat1,\n",
        "    'Test': dat2\n",
        "})"
      ]
    },
    {
      "cell_type": "markdown",
      "source": [
        "Исходя из этих данных нельзя сказать получилась модель переобученной или недообученной"
      ],
      "metadata": {
        "id": "xToEf1qOsogQ"
      },
      "id": "xToEf1qOsogQ"
    },
    {
      "cell_type": "markdown",
      "id": "62745dff",
      "metadata": {
        "id": "62745dff"
      },
      "source": [
        "# Улучшение качества модели"
      ]
    },
    {
      "cell_type": "markdown",
      "id": "b58681ae",
      "metadata": {
        "id": "b58681ae"
      },
      "source": [
        "## Очистка данных"
      ]
    },
    {
      "cell_type": "markdown",
      "id": "f7c9bedf",
      "metadata": {
        "id": "f7c9bedf"
      },
      "source": [
        "Построим диаграмму boxplot для признаков"
      ]
    },
    {
      "cell_type": "code",
      "execution_count": 48,
      "id": "5ce54606",
      "metadata": {
        "colab": {
          "base_uri": "https://localhost:8080/",
          "height": 430
        },
        "id": "5ce54606",
        "outputId": "cbc72cb6-1a63-4e4c-ceb8-adc14d2c89be"
      },
      "outputs": [
        {
          "output_type": "display_data",
          "data": {
            "text/plain": [
              "<Figure size 640x480 with 1 Axes>"
            ],
            "image/png": "[encoded data removed]"
          },
          "metadata": {}
        }
      ],
      "source": [
        "box = plt.boxplot(df.Price, vert = False, notch = True, patch_artist = True,\n",
        "                  flierprops = dict(markerfacecolor = 'purple', marker = 's'),\n",
        "                  boxprops = dict(color = 'red', facecolor = 'lime' ))"
      ]
    },
    {
      "cell_type": "markdown",
      "source": [
        "Удалим аномальные данные"
      ],
      "metadata": {
        "id": "5kdbbQazAb3X"
      },
      "id": "5kdbbQazAb3X"
    },
    {
      "cell_type": "code",
      "execution_count": 49,
      "id": "d51bf455",
      "metadata": {
        "colab": {
          "base_uri": "https://localhost:8080/",
          "height": 175
        },
        "id": "d51bf455",
        "outputId": "4f5498a1-47f4-42e6-e322-5ba381a7ab72"
      },
      "outputs": [
        {
          "output_type": "execute_result",
          "data": {
            "text/plain": [
              "    Price  House  Area  Dist  Eco\n",
              "1   270.0    350  15.0  15.0    1\n",
              "5   315.0    450  25.0  25.0    1\n",
              "31  320.0    300  15.0   0.5    1\n",
              "32  300.0    400  22.0  20.0    1"
            ],
            "text/html": [
              "\n",
              "  <div id=\"df-d822c8af-e1e6-4803-b2c0-e13dc4bb8145\">\n",
              "    <div class=\"colab-df-container\">\n",
              "      <div>\n",
              "<style scoped>\n",
              "    .dataframe tbody tr th:only-of-type {\n",
              "        vertical-align: middle;\n",
              "    }\n",
              "\n",
              "    .dataframe tbody tr th {\n",
              "        vertical-align: top;\n",
              "    }\n",
              "\n",
              "    .dataframe thead th {\n",
              "        text-align: right;\n",
              "    }\n",
              "</style>\n",
              "<table border=\"1\" class=\"dataframe\">\n",
              "  <thead>\n",
              "    <tr style=\"text-align: right;\">\n",
              "      <th></th>\n",
              "      <th>Price</th>\n",
              "      <th>House</th>\n",
              "      <th>Area</th>\n",
              "      <th>Dist</th>\n",
              "      <th>Eco</th>\n",
              "    </tr>\n",
              "  </thead>\n",
              "  <tbody>\n",
              "    <tr>\n",
              "      <th>1</th>\n",
              "      <td>270.0</td>\n",
              "      <td>350</td>\n",
              "      <td>15.0</td>\n",
              "      <td>15.0</td>\n",
              "      <td>1</td>\n",
              "    </tr>\n",
              "    <tr>\n",
              "      <th>5</th>\n",
              "      <td>315.0</td>\n",
              "      <td>450</td>\n",
              "      <td>25.0</td>\n",
              "      <td>25.0</td>\n",
              "      <td>1</td>\n",
              "    </tr>\n",
              "    <tr>\n",
              "      <th>31</th>\n",
              "      <td>320.0</td>\n",
              "      <td>300</td>\n",
              "      <td>15.0</td>\n",
              "      <td>0.5</td>\n",
              "      <td>1</td>\n",
              "    </tr>\n",
              "    <tr>\n",
              "      <th>32</th>\n",
              "      <td>300.0</td>\n",
              "      <td>400</td>\n",
              "      <td>22.0</td>\n",
              "      <td>20.0</td>\n",
              "      <td>1</td>\n",
              "    </tr>\n",
              "  </tbody>\n",
              "</table>\n",
              "</div>\n",
              "      <button class=\"colab-df-convert\" onclick=\"convertToInteractive('df-d822c8af-e1e6-4803-b2c0-e13dc4bb8145')\"\n",
              "              title=\"Convert this dataframe to an interactive table.\"\n",
              "              style=\"display:none;\">\n",
              "        \n",
              "  <svg xmlns=\"http://www.w3.org/2000/svg\" height=\"24px\"viewBox=\"0 0 24 24\"\n",
              "       width=\"24px\">\n",
              "    <path d=\"M0 0h24v24H0V0z\" fill=\"none\"/>\n",
              "    <path d=\"M18.56 5.44l.94 2.06.94-2.06 2.06-.94-2.06-.94-.94-2.06-.94 2.06-2.06.94zm-11 1L8.5 8.5l.94-2.06 2.06-.94-2.06-.94L8.5 2.5l-.94 2.06-2.06.94zm10 10l.94 2.06.94-2.06 2.06-.94-2.06-.94-.94-2.06-.94 2.06-2.06.94z\"/><path d=\"M17.41 7.96l-1.37-1.37c-.4-.4-.92-.59-1.43-.59-.52 0-1.04.2-1.43.59L10.3 9.45l-7.72 7.72c-.78.78-.78 2.05 0 2.83L4 21.41c.39.39.9.59 1.41.59.51 0 1.02-.2 1.41-.59l7.78-7.78 2.81-2.81c.8-.78.8-2.07 0-2.86zM5.41 20L4 18.59l7.72-7.72 1.47 1.35L5.41 20z\"/>\n",
              "  </svg>\n",
              "      </button>\n",
              "      \n",
              "  <style>\n",
              "    .colab-df-container {\n",
              "      display:flex;\n",
              "      flex-wrap:wrap;\n",
              "      gap: 12px;\n",
              "    }\n",
              "\n",
              "    .colab-df-convert {\n",
              "      background-color: #E8F0FE;\n",
              "      border: none;\n",
              "      border-radius: 50%;\n",
              "      cursor: pointer;\n",
              "      display: none;\n",
              "      fill: #1967D2;\n",
              "      height: 32px;\n",
              "      padding: 0 0 0 0;\n",
              "      width: 32px;\n",
              "    }\n",
              "\n",
              "    .colab-df-convert:hover {\n",
              "      background-color: #E2EBFA;\n",
              "      box-shadow: 0px 1px 2px rgba(60, 64, 67, 0.3), 0px 1px 3px 1px rgba(60, 64, 67, 0.15);\n",
              "      fill: #174EA6;\n",
              "    }\n",
              "\n",
              "    [theme=dark] .colab-df-convert {\n",
              "      background-color: #3B4455;\n",
              "      fill: #D2E3FC;\n",
              "    }\n",
              "\n",
              "    [theme=dark] .colab-df-convert:hover {\n",
              "      background-color: #434B5C;\n",
              "      box-shadow: 0px 1px 3px 1px rgba(0, 0, 0, 0.15);\n",
              "      filter: drop-shadow(0px 1px 2px rgba(0, 0, 0, 0.3));\n",
              "      fill: #FFFFFF;\n",
              "    }\n",
              "  </style>\n",
              "\n",
              "      <script>\n",
              "        const buttonEl =\n",
              "          document.querySelector('#df-d822c8af-e1e6-4803-b2c0-e13dc4bb8145 button.colab-df-convert');\n",
              "        buttonEl.style.display =\n",
              "          google.colab.kernel.accessAllowed ? 'block' : 'none';\n",
              "\n",
              "        async function convertToInteractive(key) {\n",
              "          const element = document.querySelector('#df-d822c8af-e1e6-4803-b2c0-e13dc4bb8145');\n",
              "          const dataTable =\n",
              "            await google.colab.kernel.invokeFunction('convertToInteractive',\n",
              "                                                     [key], {});\n",
              "          if (!dataTable) return;\n",
              "\n",
              "          const docLinkHtml = 'Like what you see? Visit the ' +\n",
              "            '<a target=\"_blank\" href=https://colab.research.google.com/notebooks/data_table.ipynb>data table notebook</a>'\n",
              "            + ' to learn more about interactive tables.';\n",
              "          element.innerHTML = '';\n",
              "          dataTable['output_type'] = 'display_data';\n",
              "          await google.colab.output.renderOutput(dataTable, element);\n",
              "          const docLink = document.createElement('div');\n",
              "          docLink.innerHTML = docLinkHtml;\n",
              "          element.appendChild(docLink);\n",
              "        }\n",
              "      </script>\n",
              "    </div>\n",
              "  </div>\n",
              "  "
            ]
          },
          "metadata": {},
          "execution_count": 49
        }
      ],
      "source": [
        "df.query('Price > 250')"
      ]
    },
    {
      "cell_type": "code",
      "execution_count": 50,
      "id": "fef0eb11",
      "metadata": {
        "id": "fef0eb11"
      },
      "outputs": [],
      "source": [
        "df2 = df.drop(index = [1, 5, 7, 16, 31, 32])"
      ]
    },
    {
      "cell_type": "code",
      "execution_count": 83,
      "id": "8a06eb1a",
      "metadata": {
        "colab": {
          "base_uri": "https://localhost:8080/"
        },
        "id": "8a06eb1a",
        "outputId": "215d19b7-72e1-4474-d430-b5db14e51d2d"
      },
      "outputs": [
        {
          "output_type": "execute_result",
          "data": {
            "text/plain": [
              "(42, 5)"
            ]
          },
          "metadata": {},
          "execution_count": 83
        }
      ],
      "source": [
        "df2.shape"
      ]
    },
    {
      "cell_type": "markdown",
      "id": "1ded18e2",
      "metadata": {
        "id": "1ded18e2"
      },
      "source": [
        "## Обучение модели"
      ]
    },
    {
      "cell_type": "markdown",
      "source": [
        "Выделим отдельно целевую переменную и исходные признаки"
      ],
      "metadata": {
        "id": "z32zCDhoB0W9"
      },
      "id": "z32zCDhoB0W9"
    },
    {
      "cell_type": "code",
      "execution_count": 52,
      "id": "6b538366",
      "metadata": {
        "id": "6b538366"
      },
      "outputs": [],
      "source": [
        "X2 = df2.drop(['Price'], axis=1)\n",
        "y2 = df2['Price']"
      ]
    },
    {
      "cell_type": "markdown",
      "source": [
        "Обучаем модель на наших данных"
      ],
      "metadata": {
        "id": "tHoI5c0BB29e"
      },
      "id": "tHoI5c0BB29e"
    },
    {
      "cell_type": "code",
      "execution_count": 53,
      "id": "8ae7756a",
      "metadata": {
        "id": "8ae7756a"
      },
      "outputs": [],
      "source": [
        "m2 = linear_regressor.fit(X2, y2)"
      ]
    },
    {
      "cell_type": "markdown",
      "source": [
        "Выполним предсказание с помощью функции predict"
      ],
      "metadata": {
        "id": "f53FqiOCB74Z"
      },
      "id": "f53FqiOCB74Z"
    },
    {
      "cell_type": "code",
      "execution_count": 54,
      "id": "20a64fdd",
      "metadata": {
        "scrolled": true,
        "colab": {
          "base_uri": "https://localhost:8080/"
        },
        "id": "20a64fdd",
        "outputId": "e55761e9-1932-4099-a36b-a0137aea2524"
      },
      "outputs": [
        {
          "output_type": "execute_result",
          "data": {
            "text/plain": [
              "array([ 39.25646568,   3.55007832, 137.0173102 ,  77.73105718,\n",
              "        -1.0392722 ,  11.01623118,  76.46267812,  25.36640982,\n",
              "        11.01623118,  66.11458223,  33.75889885,  -0.16121534,\n",
              "        53.84561573,  99.58226329,  51.00822906,  64.11795738,\n",
              "        84.07295245, 118.43095028,  16.4940883 ,  45.95780069,\n",
              "        27.45393712,  18.3690179 , 121.47595277,  38.8871404 ,\n",
              "        28.33535683,  53.22109008,  18.65823527,  38.88992234,\n",
              "        25.57545384,  50.83515837,  86.11825154,  81.40401735,\n",
              "        41.06428699,  68.54117559,  96.97474952,  44.94406563,\n",
              "        34.10846711,  53.56408286,   9.86021042,  42.53278474,\n",
              "        -1.32606913,  73.41340005])"
            ]
          },
          "metadata": {},
          "execution_count": 54
        }
      ],
      "source": [
        "prediction2 = m2.predict(X2)\n",
        "prediction2"
      ]
    },
    {
      "cell_type": "markdown",
      "id": "975b6fe2",
      "metadata": {
        "id": "975b6fe2"
      },
      "source": [
        "Вычислим остатки"
      ]
    },
    {
      "cell_type": "code",
      "execution_count": 55,
      "id": "f86d3829",
      "metadata": {
        "colab": {
          "base_uri": "https://localhost:8080/"
        },
        "id": "f86d3829",
        "outputId": "1665e130-31c1-4b48-a6cf-c4847d9ead06"
      },
      "outputs": [
        {
          "output_type": "execute_result",
          "data": {
            "text/plain": [
              "0    -12.256466\n",
              "2      2.449922\n",
              "3    -17.017310\n",
              "4     57.268943\n",
              "6     11.039272\n",
              "8      3.983769\n",
              "9     53.537322\n",
              "10    -8.866410\n",
              "11    -4.016231\n",
              "12    43.885418\n",
              "13   -20.758899\n",
              "14    17.161215\n",
              "15   -23.845616\n",
              "17    -4.582263\n",
              "18    -6.008229\n",
              "19    55.882043\n",
              "20    10.927048\n",
              "21     1.569050\n",
              "22     0.005912\n",
              "23   -20.957801\n",
              "24    -7.453937\n",
              "25     1.630982\n",
              "26   -21.475953\n",
              "27   -13.887140\n",
              "28    21.664643\n",
              "29   -44.721090\n",
              "30    -2.158235\n",
              "33    21.110078\n",
              "34   -11.575454\n",
              "35   -12.835158\n",
              "36    -1.118252\n",
              "37     3.595983\n",
              "38   -13.064287\n",
              "39    14.458824\n",
              "40   -16.974750\n",
              "41   -29.944066\n",
              "42    -7.108467\n",
              "43   -11.564083\n",
              "44    -4.360210\n",
              "45     4.467215\n",
              "46     6.326069\n",
              "47   -14.413400\n",
              "Name: Price, dtype: float64"
            ]
          },
          "metadata": {},
          "execution_count": 55
        }
      ],
      "source": [
        "residual2 = (y2 - prediction2)\n",
        "residual2"
      ]
    },
    {
      "cell_type": "markdown",
      "id": "2ade2c29",
      "metadata": {
        "id": "2ade2c29"
      },
      "source": [
        "Вычислим коэффицент детерминации"
      ]
    },
    {
      "cell_type": "code",
      "execution_count": 56,
      "id": "c4972820",
      "metadata": {
        "colab": {
          "base_uri": "https://localhost:8080/"
        },
        "id": "c4972820",
        "outputId": "dc04cb0f-68ec-443e-cdf4-dc2968fcbd6e"
      },
      "outputs": [
        {
          "output_type": "execute_result",
          "data": {
            "text/plain": [
              "0.7134821654307871"
            ]
          },
          "metadata": {},
          "execution_count": 56
        }
      ],
      "source": [
        "r2_m2 = r2_score(y2, prediction2)\n",
        "r2_m2"
      ]
    },
    {
      "cell_type": "markdown",
      "id": "36b06908",
      "metadata": {
        "id": "36b06908"
      },
      "source": [
        "Величина коэффицента детерминации близка к 0.8."
      ]
    },
    {
      "cell_type": "markdown",
      "metadata": {
        "id": "GvYaYg3ZwBiv"
      },
      "source": [
        "## Очистка данных 2"
      ],
      "id": "GvYaYg3ZwBiv"
    },
    {
      "cell_type": "markdown",
      "source": [
        "Удалим данные с большим остатком"
      ],
      "metadata": {
        "id": "lxIOEw4fCN7m"
      },
      "id": "lxIOEw4fCN7m"
    },
    {
      "cell_type": "code",
      "execution_count": 57,
      "metadata": {
        "id": "g-H6lCgZwBiu"
      },
      "outputs": [],
      "source": [
        "df3 = df2.drop(index = [4, 9, 19])"
      ],
      "id": "g-H6lCgZwBiu"
    },
    {
      "cell_type": "code",
      "execution_count": 58,
      "metadata": {
        "colab": {
          "base_uri": "https://localhost:8080/"
        },
        "outputId": "015c1b93-aa84-408f-a73c-134a2763017b",
        "id": "RndyokwnwBiu"
      },
      "outputs": [
        {
          "output_type": "execute_result",
          "data": {
            "text/plain": [
              "(39, 5)"
            ]
          },
          "metadata": {},
          "execution_count": 58
        }
      ],
      "source": [
        "df3.shape"
      ],
      "id": "RndyokwnwBiu"
    },
    {
      "cell_type": "markdown",
      "source": [
        "Выделим отдельно целевую переменную и исходные признаки"
      ],
      "metadata": {
        "id": "ONBXc3lSCi7f"
      },
      "id": "ONBXc3lSCi7f"
    },
    {
      "cell_type": "code",
      "execution_count": 59,
      "metadata": {
        "id": "JZwHpL_xwBiv"
      },
      "outputs": [],
      "source": [
        "X3 = df3.drop(['Price'], axis=1)\n",
        "y3 = df3['Price']"
      ],
      "id": "JZwHpL_xwBiv"
    },
    {
      "cell_type": "markdown",
      "source": [
        "Обучаем модель на наших данных"
      ],
      "metadata": {
        "id": "iy_D3k-NCpoJ"
      },
      "id": "iy_D3k-NCpoJ"
    },
    {
      "cell_type": "code",
      "execution_count": 60,
      "metadata": {
        "id": "MXQwHcUfwBiw"
      },
      "outputs": [],
      "source": [
        "m3 = linear_regressor.fit(X3, y3)"
      ],
      "id": "MXQwHcUfwBiw"
    },
    {
      "cell_type": "markdown",
      "source": [
        "Выполним предсказание с помощью функции predict"
      ],
      "metadata": {
        "id": "rdl86Y3UCBMT"
      },
      "id": "rdl86Y3UCBMT"
    },
    {
      "cell_type": "code",
      "execution_count": 61,
      "metadata": {
        "scrolled": true,
        "colab": {
          "base_uri": "https://localhost:8080/"
        },
        "outputId": "92cfc647-34f2-449e-bb83-d4172d1cd061",
        "id": "g5vScCzCwBiw"
      },
      "outputs": [
        {
          "output_type": "execute_result",
          "data": {
            "text/plain": [
              "array([ 34.60790179,   3.77356588, 122.42130188,   2.85159397,\n",
              "        13.640386  ,  24.89016397,  13.640386  ,  54.1939202 ,\n",
              "        23.94737877,   2.64105775,  40.37800693, 102.13374249,\n",
              "        52.95528912,  78.10281354, 104.99080566,  16.33739002,\n",
              "        35.26853058,  23.02049754,  17.18686496, 115.81149334,\n",
              "        34.5986214 ,  22.78097636,  40.06541249,  17.0196824 ,\n",
              "        35.97602925,  19.47553032,  36.63927099,  83.75246089,\n",
              "        75.66817324,  28.62976345,  66.69324628,  82.97652545,\n",
              "        32.69339642,  37.44046853,  50.12487364,  11.08385519,\n",
              "        47.27321537,   1.78687441,  74.02853354])"
            ]
          },
          "metadata": {},
          "execution_count": 61
        }
      ],
      "source": [
        "prediction3 = m3.predict(X3)\n",
        "prediction3"
      ],
      "id": "g5vScCzCwBiw"
    },
    {
      "cell_type": "markdown",
      "metadata": {
        "id": "pw1TcrYFwBiw"
      },
      "source": [
        "Вычислим остатки"
      ],
      "id": "pw1TcrYFwBiw"
    },
    {
      "cell_type": "code",
      "execution_count": 62,
      "metadata": {
        "colab": {
          "base_uri": "https://localhost:8080/"
        },
        "outputId": "729c6162-5b84-4de6-e5ff-29b409ff7c8b",
        "id": "HZxYX9x_wBiw"
      },
      "outputs": [
        {
          "output_type": "execute_result",
          "data": {
            "text/plain": [
              "0     -7.607902\n",
              "2      2.226434\n",
              "3     -2.421302\n",
              "6      7.148406\n",
              "8      1.359614\n",
              "10    -8.390164\n",
              "11    -6.640386\n",
              "12    55.806080\n",
              "13   -10.947379\n",
              "14    14.358942\n",
              "15   -10.378007\n",
              "17    -7.133742\n",
              "18    -7.955289\n",
              "20    16.897186\n",
              "21    15.009194\n",
              "22     0.162610\n",
              "23   -10.268531\n",
              "24    -3.020498\n",
              "25     2.813135\n",
              "26   -15.811493\n",
              "27    -9.598621\n",
              "28    27.219024\n",
              "29   -31.565412\n",
              "30    -0.519682\n",
              "33    24.023971\n",
              "34    -5.475530\n",
              "35     1.360729\n",
              "36     1.247539\n",
              "37     9.331827\n",
              "38    -0.629763\n",
              "39    16.306754\n",
              "40    -2.976525\n",
              "41   -17.693396\n",
              "42   -10.440469\n",
              "43    -8.124874\n",
              "44    -5.583855\n",
              "45    -0.273215\n",
              "46     3.213126\n",
              "47   -15.028534\n",
              "Name: Price, dtype: float64"
            ]
          },
          "metadata": {},
          "execution_count": 62
        }
      ],
      "source": [
        "residual3 = (y3 - prediction3)\n",
        "residual3"
      ],
      "id": "HZxYX9x_wBiw"
    },
    {
      "cell_type": "markdown",
      "metadata": {
        "id": "0SpcUZXZwBix"
      },
      "source": [
        "Вычислим коэффицент детерминации "
      ],
      "id": "0SpcUZXZwBix"
    },
    {
      "cell_type": "code",
      "execution_count": 63,
      "metadata": {
        "colab": {
          "base_uri": "https://localhost:8080/"
        },
        "outputId": "dd466d57-0dfd-4b83-94d0-8fc7c9e1b9f8",
        "id": "5SF01c_DwBiy"
      },
      "outputs": [
        {
          "output_type": "execute_result",
          "data": {
            "text/plain": [
              "0.8285396573186532"
            ]
          },
          "metadata": {},
          "execution_count": 63
        }
      ],
      "source": [
        "r2_m3 = r2_score(y3, prediction3)\n",
        "r2_m3"
      ],
      "id": "5SF01c_DwBiy"
    },
    {
      "cell_type": "markdown",
      "source": [
        "Величина коэффицента детерминации больше 0.8, будем считать качество модели достаточно хорошим"
      ],
      "metadata": {
        "id": "F8UKwlYWArRZ"
      },
      "id": "F8UKwlYWArRZ"
    },
    {
      "cell_type": "markdown",
      "source": [
        "## Оценка качества модели на обучающей выборке"
      ],
      "metadata": {
        "id": "Gg47C2ObwRdC"
      },
      "id": "Gg47C2ObwRdC"
    },
    {
      "cell_type": "code",
      "execution_count": 64,
      "id": "13e4588b",
      "metadata": {
        "id": "13e4588b"
      },
      "outputs": [],
      "source": [
        "X_train, X_test, y_train, y_test = train_test_split(X3, y3, test_size=test_size, random_state=r_state)"
      ]
    },
    {
      "cell_type": "markdown",
      "id": "bd9e3729",
      "metadata": {
        "id": "bd9e3729"
      },
      "source": [
        "Обучаем модель на наших данных"
      ]
    },
    {
      "cell_type": "code",
      "execution_count": 65,
      "id": "9f469bbd",
      "metadata": {
        "id": "9f469bbd"
      },
      "outputs": [],
      "source": [
        "m3 = linear_regressor.fit(X_train, y_train)"
      ]
    },
    {
      "cell_type": "markdown",
      "id": "c7c0e366",
      "metadata": {
        "id": "c7c0e366"
      },
      "source": [
        "Посомтрим на результат обучения. Оценки коэффициентов перед признаками"
      ]
    },
    {
      "cell_type": "code",
      "execution_count": 66,
      "id": "87402d46",
      "metadata": {
        "colab": {
          "base_uri": "https://localhost:8080/"
        },
        "id": "87402d46",
        "outputId": "014dc89d-9a89-44e6-83ee-2226aab741c4"
      },
      "outputs": [
        {
          "output_type": "execute_result",
          "data": {
            "text/plain": [
              "array([ 0.08804488,  2.65983201, -0.44979674, 11.95195214])"
            ]
          },
          "metadata": {},
          "execution_count": 66
        }
      ],
      "source": [
        "m3.coef_"
      ]
    },
    {
      "cell_type": "markdown",
      "id": "d9a2ab38",
      "metadata": {
        "id": "d9a2ab38"
      },
      "source": [
        "Оценка свободного коэффициента"
      ]
    },
    {
      "cell_type": "code",
      "execution_count": 67,
      "id": "67771fab",
      "metadata": {
        "colab": {
          "base_uri": "https://localhost:8080/"
        },
        "id": "67771fab",
        "outputId": "f5435c6d-04bc-4e77-dfa5-adc71fac2160"
      },
      "outputs": [
        {
          "output_type": "execute_result",
          "data": {
            "text/plain": [
              "14.148426600499768"
            ]
          },
          "metadata": {},
          "execution_count": 67
        }
      ],
      "source": [
        "m3.intercept_"
      ]
    },
    {
      "cell_type": "markdown",
      "source": [
        "Построим диаграмму остатков"
      ],
      "metadata": {
        "id": "DEyvagNwbGJa"
      },
      "id": "DEyvagNwbGJa"
    },
    {
      "cell_type": "markdown",
      "id": "08a5818d",
      "metadata": {
        "id": "08a5818d"
      },
      "source": [
        "Выполним предсказание с помощью функции predict"
      ]
    },
    {
      "cell_type": "code",
      "execution_count": 68,
      "id": "cd6f149e",
      "metadata": {
        "scrolled": true,
        "colab": {
          "base_uri": "https://localhost:8080/"
        },
        "id": "cd6f149e",
        "outputId": "49f631a0-3c3d-41c1-d1ba-6eb6a65dd45e"
      },
      "outputs": [
        {
          "output_type": "execute_result",
          "data": {
            "text/plain": [
              "array([115.6762095 ,  23.27046387,   2.00736864,  67.178446  ,\n",
              "        49.77635586,  77.2883534 ,  56.42140985,  78.33361103,\n",
              "        52.33804005,  36.15569212,  35.17766443, 107.353876  ,\n",
              "        17.79060451,  45.85373865,  13.11629715,  13.11629715,\n",
              "        84.27450973,  37.25245217, 125.03415813,   4.0402462 ,\n",
              "        39.68594664,  36.53112941,  36.97870687, 101.00369596,\n",
              "        25.73267535,  24.58541732,  73.67742549,   1.18567202,\n",
              "        25.24166445,  42.78517717,  16.63669487])"
            ]
          },
          "metadata": {},
          "execution_count": 68
        }
      ],
      "source": [
        "prediction_train = m3.predict(X_train)\n",
        "prediction_train"
      ]
    },
    {
      "cell_type": "code",
      "execution_count": 69,
      "id": "e474091e",
      "metadata": {
        "colab": {
          "base_uri": "https://localhost:8080/"
        },
        "id": "e474091e",
        "outputId": "45252a2d-79b7-4b5f-ed3f-7bfa84e9040b"
      },
      "outputs": [
        {
          "output_type": "execute_result",
          "data": {
            "text/plain": [
              "26   -15.676209\n",
              "28    26.729536\n",
              "6      7.992631\n",
              "39    15.821554\n",
              "43    -7.776356\n",
              "37     7.711647\n",
              "12    53.578590\n",
              "20    16.666389\n",
              "18    -7.338040\n",
              "0     -9.155692\n",
              "41   -20.177664\n",
              "21    12.646124\n",
              "25     2.209395\n",
              "45     1.146261\n",
              "8      1.883703\n",
              "11    -6.116297\n",
              "36     0.725490\n",
              "23   -12.252452\n",
              "3     -5.034158\n",
              "2      1.959754\n",
              "35    -1.685947\n",
              "42    -9.531129\n",
              "33    23.021293\n",
              "17    -6.003696\n",
              "13   -12.732675\n",
              "24    -4.585417\n",
              "47   -14.677425\n",
              "46     3.814328\n",
              "10    -8.741664\n",
              "29   -34.285177\n",
              "22    -0.136695\n",
              "Name: Price, dtype: float64"
            ]
          },
          "metadata": {},
          "execution_count": 69
        }
      ],
      "source": [
        "residual3_train = (y_train - prediction_train)\n",
        "residual3_train"
      ]
    },
    {
      "cell_type": "markdown",
      "id": "0351af55",
      "metadata": {
        "id": "0351af55"
      },
      "source": [
        "Вычислим остатки"
      ]
    },
    {
      "cell_type": "code",
      "source": [
        "plt.scatter(residual.index, residual)"
      ],
      "metadata": {
        "colab": {
          "base_uri": "https://localhost:8080/",
          "height": 447
        },
        "id": "YwAd8KiWa8OO",
        "outputId": "e8702187-0aa3-4245-bca8-5e6c8c8398bd"
      },
      "id": "YwAd8KiWa8OO",
      "execution_count": 70,
      "outputs": [
        {
          "output_type": "execute_result",
          "data": {
            "text/plain": [
              "<matplotlib.collections.PathCollection at 0x7fbb8bd3fdf0>"
            ]
          },
          "metadata": {},
          "execution_count": 70
        },
        {
          "output_type": "display_data",
          "data": {
            "text/plain": [
              "<Figure size 640x480 with 1 Axes>"
            ],
            "image/png": "[encoded data removed]"
          },
          "metadata": {}
        }
      ]
    },
    {
      "cell_type": "markdown",
      "source": [
        "Исходя из диаграммы видно, что остатки достаточно небольшие. Значит, качество модели на обучающей выборке является высоким"
      ],
      "metadata": {
        "id": "XdDk8kxtbc1G"
      },
      "id": "XdDk8kxtbc1G"
    },
    {
      "cell_type": "markdown",
      "id": "27da512f",
      "metadata": {
        "id": "27da512f"
      },
      "source": [
        "Вычислим коэффицент детерминации с помощью функции "
      ]
    },
    {
      "cell_type": "code",
      "execution_count": 71,
      "id": "06b0094e",
      "metadata": {
        "colab": {
          "base_uri": "https://localhost:8080/"
        },
        "id": "06b0094e",
        "outputId": "d4996faa-75c9-4466-dabf-8f1048d5095e"
      },
      "outputs": [
        {
          "output_type": "execute_result",
          "data": {
            "text/plain": [
              "0.8158834914611284"
            ]
          },
          "metadata": {},
          "execution_count": 71
        }
      ],
      "source": [
        "r2_m3 = r2_score(y_train, prediction_train)\n",
        "r2_m3"
      ]
    },
    {
      "cell_type": "markdown",
      "id": "72102b27",
      "metadata": {
        "id": "72102b27"
      },
      "source": [
        "Величина коэффицента детерминации больше 0.8, будем считать качество модели достаточно хорошим"
      ]
    },
    {
      "cell_type": "markdown",
      "id": "644dfc5c",
      "metadata": {
        "id": "644dfc5c"
      },
      "source": [
        "Вычислим метрику MAPE - mean absolute percentage error, с помощью функции mean_absolute_percentage_error"
      ]
    },
    {
      "cell_type": "code",
      "execution_count": 72,
      "id": "1b1ffd09",
      "metadata": {
        "colab": {
          "base_uri": "https://localhost:8080/"
        },
        "id": "1b1ffd09",
        "outputId": "cc866e21-54a4-40fa-ac18-23569cae1051"
      },
      "outputs": [
        {
          "output_type": "execute_result",
          "data": {
            "text/plain": [
              "45.83869215990569"
            ]
          },
          "metadata": {},
          "execution_count": 72
        }
      ],
      "source": [
        "mape_m3 = mean_absolute_percentage_error(y_train, prediction_train)*100\n",
        "mape_m3"
      ]
    },
    {
      "cell_type": "markdown",
      "id": "6094ed7d",
      "metadata": {
        "id": "6094ed7d"
      },
      "source": [
        "Вычислим метрику MSE - mean squared error, с помощью функции mean_squared_error"
      ]
    },
    {
      "cell_type": "code",
      "execution_count": 73,
      "id": "8a2ca317",
      "metadata": {
        "colab": {
          "base_uri": "https://localhost:8080/"
        },
        "id": "8a2ca317",
        "outputId": "4961fdd9-884f-4c11-8a94-e501ca3d5d5b"
      },
      "outputs": [
        {
          "output_type": "execute_result",
          "data": {
            "text/plain": [
              "251.58879070501104"
            ]
          },
          "metadata": {},
          "execution_count": 73
        }
      ],
      "source": [
        "mse_m3 = mean_squared_error(y_train, prediction_train)\n",
        "mse_m3"
      ]
    },
    {
      "cell_type": "markdown",
      "id": "2a7adb1e",
      "metadata": {
        "id": "2a7adb1e"
      },
      "source": [
        "Вычислим метрику MAE - mean absolute error, с помощью функции mean_absolute_error"
      ]
    },
    {
      "cell_type": "code",
      "execution_count": 74,
      "id": "3d30e5cb",
      "metadata": {
        "scrolled": true,
        "colab": {
          "base_uri": "https://localhost:8080/"
        },
        "id": "3d30e5cb",
        "outputId": "e42cdcee-9843-45d8-b282-2fb7cfbddb67"
      },
      "outputs": [
        {
          "output_type": "execute_result",
          "data": {
            "text/plain": [
              "11.348819100903167"
            ]
          },
          "metadata": {},
          "execution_count": 74
        }
      ],
      "source": [
        "mae_m3 = mean_absolute_error(y_train, prediction_train)\n",
        "mae_m3"
      ]
    },
    {
      "cell_type": "markdown",
      "id": "817455f1",
      "metadata": {
        "id": "817455f1"
      },
      "source": [
        "## Оценка качества модели на тестовой выборке"
      ]
    },
    {
      "cell_type": "markdown",
      "id": "20bd0a07",
      "metadata": {
        "id": "20bd0a07"
      },
      "source": [
        "Выполним предсказание с помощью функции predict"
      ]
    },
    {
      "cell_type": "code",
      "execution_count": 75,
      "id": "6b78af49",
      "metadata": {
        "scrolled": true,
        "colab": {
          "base_uri": "https://localhost:8080/"
        },
        "id": "6b78af49",
        "outputId": "a3e973d8-f29f-4c1e-ab1d-482e5bdfca01"
      },
      "outputs": [
        {
          "output_type": "execute_result",
          "data": {
            "text/plain": [
              "array([43.17770666, 85.6610763 , 17.77014169, 20.15951698, 36.04710102,\n",
              "       31.18832935, 11.00330344,  2.12487301])"
            ]
          },
          "metadata": {},
          "execution_count": 75
        }
      ],
      "source": [
        "prediction3_test = m3.predict(X_test)\n",
        "prediction3_test"
      ]
    },
    {
      "cell_type": "markdown",
      "id": "3d797904",
      "metadata": {
        "id": "3d797904"
      },
      "source": [
        "Вычислим остатки"
      ]
    },
    {
      "cell_type": "code",
      "execution_count": 76,
      "id": "fcd78291",
      "metadata": {
        "colab": {
          "base_uri": "https://localhost:8080/"
        },
        "id": "fcd78291",
        "outputId": "cd0c3937-5dfc-4366-8d7b-0117f70fc0e0"
      },
      "outputs": [
        {
          "output_type": "execute_result",
          "data": {
            "text/plain": [
              "15   -13.177707\n",
              "40    -5.661076\n",
              "30    -1.270142\n",
              "34    -6.159517\n",
              "27   -11.047101\n",
              "38    -3.188329\n",
              "44    -5.503303\n",
              "14    14.875127\n",
              "Name: Price, dtype: float64"
            ]
          },
          "metadata": {},
          "execution_count": 76
        }
      ],
      "source": [
        "residual3_test = (y_test - prediction3_test)\n",
        "residual3_test"
      ]
    },
    {
      "cell_type": "markdown",
      "id": "0458a2ec",
      "metadata": {
        "id": "0458a2ec"
      },
      "source": [
        "Построим диаграмму остатков"
      ]
    },
    {
      "cell_type": "code",
      "execution_count": 77,
      "id": "8bb47f88",
      "metadata": {
        "colab": {
          "base_uri": "https://localhost:8080/",
          "height": 447
        },
        "id": "8bb47f88",
        "outputId": "a28cb454-bc3d-463b-fccb-c1a199a86289"
      },
      "outputs": [
        {
          "output_type": "execute_result",
          "data": {
            "text/plain": [
              "<matplotlib.collections.PathCollection at 0x7fbb86c22050>"
            ]
          },
          "metadata": {},
          "execution_count": 77
        },
        {
          "output_type": "display_data",
          "data": {
            "text/plain": [
              "<Figure size 640x480 with 1 Axes>"
            ],
            "image/png": "[encoded data removed]"
          },
          "metadata": {}
        }
      ],
      "source": [
        "plt.scatter(residual3_test.index, residual3_test)"
      ]
    },
    {
      "cell_type": "markdown",
      "id": "a6c7221e",
      "metadata": {
        "id": "a6c7221e"
      },
      "source": [
        "Исходя из диаграммы, имеется малое количество больших остатков. Значит, качество модели на тестовой выборке является высоким"
      ]
    },
    {
      "cell_type": "markdown",
      "id": "2cff5202",
      "metadata": {
        "id": "2cff5202"
      },
      "source": [
        "Вычислим коэффицент детерминации с помощью функции "
      ]
    },
    {
      "cell_type": "code",
      "execution_count": 78,
      "id": "a63f89a8",
      "metadata": {
        "colab": {
          "base_uri": "https://localhost:8080/"
        },
        "id": "a63f89a8",
        "outputId": "6c12502e-30ee-455a-86b4-0e9e5f4f56a3"
      },
      "outputs": [
        {
          "output_type": "execute_result",
          "data": {
            "text/plain": [
              "0.8283497655984086"
            ]
          },
          "metadata": {},
          "execution_count": 78
        }
      ],
      "source": [
        "r2test_m3 = r2_score(y_test, prediction3_test)\n",
        "r2test_m3"
      ]
    },
    {
      "cell_type": "markdown",
      "id": "796eadbe",
      "metadata": {
        "id": "796eadbe"
      },
      "source": [
        "Величина коэффицента детерминации больше 0.8, будем считать качество модели достаточно хорошим"
      ]
    },
    {
      "cell_type": "markdown",
      "id": "df182c30",
      "metadata": {
        "id": "df182c30"
      },
      "source": [
        "Вычислим метрику MAPE - mean absolute percentage error, с помощью функции mean_absolute_percentage_error"
      ]
    },
    {
      "cell_type": "code",
      "execution_count": 79,
      "id": "bf02f36f",
      "metadata": {
        "colab": {
          "base_uri": "https://localhost:8080/"
        },
        "id": "bf02f36f",
        "outputId": "432ba4bb-9d74-4d73-a551-150db6113072"
      },
      "outputs": [
        {
          "output_type": "execute_result",
          "data": {
            "text/plain": [
              "43.22906458469656"
            ]
          },
          "metadata": {},
          "execution_count": 79
        }
      ],
      "source": [
        "mapetest_m3 = mean_absolute_percentage_error(y_test, prediction3_test)*100\n",
        "mapetest_m3"
      ]
    },
    {
      "cell_type": "markdown",
      "id": "5e088c0a",
      "metadata": {
        "id": "5e088c0a"
      },
      "source": [
        "Вычислим метрику MSE - mean squared error, с помощью функции mean_squared_error"
      ]
    },
    {
      "cell_type": "code",
      "execution_count": 80,
      "id": "08c43f1e",
      "metadata": {
        "colab": {
          "base_uri": "https://localhost:8080/"
        },
        "id": "08c43f1e",
        "outputId": "872ea4bf-3028-4486-9f78-9f4103f1af32"
      },
      "outputs": [
        {
          "output_type": "execute_result",
          "data": {
            "text/plain": [
              "78.62653549557899"
            ]
          },
          "metadata": {},
          "execution_count": 80
        }
      ],
      "source": [
        "msetest_m3 = mean_squared_error(y_test, prediction3_test)\n",
        "msetest_m3"
      ]
    },
    {
      "cell_type": "markdown",
      "id": "11fcd999",
      "metadata": {
        "id": "11fcd999"
      },
      "source": [
        "Вычислим метрику MAE - mean absolute error, с помощью функции mean_absolute_error"
      ]
    },
    {
      "cell_type": "code",
      "execution_count": 81,
      "id": "63b0d6c5",
      "metadata": {
        "scrolled": true,
        "colab": {
          "base_uri": "https://localhost:8080/"
        },
        "id": "63b0d6c5",
        "outputId": "22ee559b-7bb4-4521-f473-08a0a9eab783"
      },
      "outputs": [
        {
          "output_type": "execute_result",
          "data": {
            "text/plain": [
              "7.610287805087827"
            ]
          },
          "metadata": {},
          "execution_count": 81
        }
      ],
      "source": [
        "maetest_m3 = mean_absolute_error(y_test, prediction3_test)\n",
        "maetest_m3"
      ]
    },
    {
      "cell_type": "code",
      "execution_count": 82,
      "id": "ff0c058b",
      "metadata": {
        "colab": {
          "base_uri": "https://localhost:8080/",
          "height": 175
        },
        "id": "ff0c058b",
        "outputId": "df86660a-37e4-4285-8d67-d4dea0bd2191"
      },
      "outputs": [
        {
          "output_type": "execute_result",
          "data": {
            "text/plain": [
              "  Metrics       Train       Test\n",
              "0      R2    0.815883   0.828350\n",
              "1    MAPE   45.838692  43.229065\n",
              "2     MSE  251.588791  78.626535\n",
              "3     MAE   11.348819   7.610288"
            ],
            "text/html": [
              "\n",
              "  <div id=\"df-99628bb2-78b5-485c-a1e0-e9b68c97e7f9\">\n",
              "    <div class=\"colab-df-container\">\n",
              "      <div>\n",
              "<style scoped>\n",
              "    .dataframe tbody tr th:only-of-type {\n",
              "        vertical-align: middle;\n",
              "    }\n",
              "\n",
              "    .dataframe tbody tr th {\n",
              "        vertical-align: top;\n",
              "    }\n",
              "\n",
              "    .dataframe thead th {\n",
              "        text-align: right;\n",
              "    }\n",
              "</style>\n",
              "<table border=\"1\" class=\"dataframe\">\n",
              "  <thead>\n",
              "    <tr style=\"text-align: right;\">\n",
              "      <th></th>\n",
              "      <th>Metrics</th>\n",
              "      <th>Train</th>\n",
              "      <th>Test</th>\n",
              "    </tr>\n",
              "  </thead>\n",
              "  <tbody>\n",
              "    <tr>\n",
              "      <th>0</th>\n",
              "      <td>R2</td>\n",
              "      <td>0.815883</td>\n",
              "      <td>0.828350</td>\n",
              "    </tr>\n",
              "    <tr>\n",
              "      <th>1</th>\n",
              "      <td>MAPE</td>\n",
              "      <td>45.838692</td>\n",
              "      <td>43.229065</td>\n",
              "    </tr>\n",
              "    <tr>\n",
              "      <th>2</th>\n",
              "      <td>MSE</td>\n",
              "      <td>251.588791</td>\n",
              "      <td>78.626535</td>\n",
              "    </tr>\n",
              "    <tr>\n",
              "      <th>3</th>\n",
              "      <td>MAE</td>\n",
              "      <td>11.348819</td>\n",
              "      <td>7.610288</td>\n",
              "    </tr>\n",
              "  </tbody>\n",
              "</table>\n",
              "</div>\n",
              "      <button class=\"colab-df-convert\" onclick=\"convertToInteractive('df-99628bb2-78b5-485c-a1e0-e9b68c97e7f9')\"\n",
              "              title=\"Convert this dataframe to an interactive table.\"\n",
              "              style=\"display:none;\">\n",
              "        \n",
              "  <svg xmlns=\"http://www.w3.org/2000/svg\" height=\"24px\"viewBox=\"0 0 24 24\"\n",
              "       width=\"24px\">\n",
              "    <path d=\"M0 0h24v24H0V0z\" fill=\"none\"/>\n",
              "    <path d=\"M18.56 5.44l.94 2.06.94-2.06 2.06-.94-2.06-.94-.94-2.06-.94 2.06-2.06.94zm-11 1L8.5 8.5l.94-2.06 2.06-.94-2.06-.94L8.5 2.5l-.94 2.06-2.06.94zm10 10l.94 2.06.94-2.06 2.06-.94-2.06-.94-.94-2.06-.94 2.06-2.06.94z\"/><path d=\"M17.41 7.96l-1.37-1.37c-.4-.4-.92-.59-1.43-.59-.52 0-1.04.2-1.43.59L10.3 9.45l-7.72 7.72c-.78.78-.78 2.05 0 2.83L4 21.41c.39.39.9.59 1.41.59.51 0 1.02-.2 1.41-.59l7.78-7.78 2.81-2.81c.8-.78.8-2.07 0-2.86zM5.41 20L4 18.59l7.72-7.72 1.47 1.35L5.41 20z\"/>\n",
              "  </svg>\n",
              "      </button>\n",
              "      \n",
              "  <style>\n",
              "    .colab-df-container {\n",
              "      display:flex;\n",
              "      flex-wrap:wrap;\n",
              "      gap: 12px;\n",
              "    }\n",
              "\n",
              "    .colab-df-convert {\n",
              "      background-color: #E8F0FE;\n",
              "      border: none;\n",
              "      border-radius: 50%;\n",
              "      cursor: pointer;\n",
              "      display: none;\n",
              "      fill: #1967D2;\n",
              "      height: 32px;\n",
              "      padding: 0 0 0 0;\n",
              "      width: 32px;\n",
              "    }\n",
              "\n",
              "    .colab-df-convert:hover {\n",
              "      background-color: #E2EBFA;\n",
              "      box-shadow: 0px 1px 2px rgba(60, 64, 67, 0.3), 0px 1px 3px 1px rgba(60, 64, 67, 0.15);\n",
              "      fill: #174EA6;\n",
              "    }\n",
              "\n",
              "    [theme=dark] .colab-df-convert {\n",
              "      background-color: #3B4455;\n",
              "      fill: #D2E3FC;\n",
              "    }\n",
              "\n",
              "    [theme=dark] .colab-df-convert:hover {\n",
              "      background-color: #434B5C;\n",
              "      box-shadow: 0px 1px 3px 1px rgba(0, 0, 0, 0.15);\n",
              "      filter: drop-shadow(0px 1px 2px rgba(0, 0, 0, 0.3));\n",
              "      fill: #FFFFFF;\n",
              "    }\n",
              "  </style>\n",
              "\n",
              "      <script>\n",
              "        const buttonEl =\n",
              "          document.querySelector('#df-99628bb2-78b5-485c-a1e0-e9b68c97e7f9 button.colab-df-convert');\n",
              "        buttonEl.style.display =\n",
              "          google.colab.kernel.accessAllowed ? 'block' : 'none';\n",
              "\n",
              "        async function convertToInteractive(key) {\n",
              "          const element = document.querySelector('#df-99628bb2-78b5-485c-a1e0-e9b68c97e7f9');\n",
              "          const dataTable =\n",
              "            await google.colab.kernel.invokeFunction('convertToInteractive',\n",
              "                                                     [key], {});\n",
              "          if (!dataTable) return;\n",
              "\n",
              "          const docLinkHtml = 'Like what you see? Visit the ' +\n",
              "            '<a target=\"_blank\" href=https://colab.research.google.com/notebooks/data_table.ipynb>data table notebook</a>'\n",
              "            + ' to learn more about interactive tables.';\n",
              "          element.innerHTML = '';\n",
              "          dataTable['output_type'] = 'display_data';\n",
              "          await google.colab.output.renderOutput(dataTable, element);\n",
              "          const docLink = document.createElement('div');\n",
              "          docLink.innerHTML = docLinkHtml;\n",
              "          element.appendChild(docLink);\n",
              "        }\n",
              "      </script>\n",
              "    </div>\n",
              "  </div>\n",
              "  "
            ]
          },
          "metadata": {},
          "execution_count": 82
        }
      ],
      "source": [
        "ind = ['R2', 'MAPE', 'MSE', 'MAE']\n",
        "m3_metrics = [r2_m3, mape_m3, mse_m3, mae_m3]\n",
        "m3_test_metrics = [r2test_m3, mapetest_m3, msetest_m3, maetest_m3]\n",
        "\n",
        "pd.DataFrame({\n",
        "    'Metrics': ind,\n",
        "    'Train': m3_metrics,\n",
        "    'Test': m3_test_metrics\n",
        "})"
      ]
    },
    {
      "cell_type": "markdown",
      "source": [
        "Исследуемая модель обладает более высоким качеством на тестовой выборке, нежели на обучающей выборке, то есть модель недообучена"
      ],
      "metadata": {
        "id": "J3DfIN2RBCul"
      },
      "id": "J3DfIN2RBCul"
    },
    {
      "cell_type": "markdown",
      "source": [
        "# Заключение"
      ],
      "metadata": {
        "id": "zTLU1-YKsDgq"
      },
      "id": "zTLU1-YKsDgq"
    },
    {
      "cell_type": "markdown",
      "source": [
        "Цель работы — предсказание стоимости коттеджа по его площади и другим характеристик с помощью линейной модели регрессионного анализа."
      ],
      "metadata": {
        "id": "1gYEGtsJsIqG"
      },
      "id": "1gYEGtsJsIqG"
    },
    {
      "cell_type": "markdown",
      "source": [
        "Использованные пакеты: numpy, pandas, matplotlib, seaborn, sklearn."
      ],
      "metadata": {
        "id": "XTyEGdhWvVKT"
      },
      "id": "XTyEGdhWvVKT"
    },
    {
      "cell_type": "markdown",
      "source": [
        "В работе мы разделили данные на обучающую и тестовые выборки, построили модель линейной регрессии и оценили ее качество с помощью различных метрик. Затем мы провели анализ выборки и удалили из нее аномальные данные с целью улучшения качества модели. Выбросив данные с большими остатками, мы получили коэффицент детерминации равный 0.8285396573186532. В итоге модель получилась недообученной."
      ],
      "metadata": {
        "id": "aJGHfRse0NWt"
      },
      "id": "aJGHfRse0NWt"
    }
  ],
  "metadata": {
    "kernelspec": {
      "display_name": "Python 3 (ipykernel)",
      "language": "python",
      "name": "python3"
    },
    "language_info": {
      "codemirror_mode": {
        "name": "ipython",
        "version": 3
      },
      "file_extension": ".py",
      "mimetype": "text/x-python",
      "name": "python",
      "nbconvert_exporter": "python",
      "pygments_lexer": "ipython3",
      "version": "3.9.13"
    },
    "colab": {
      "provenance": [],
      "toc_visible": true
    }
  },
  "nbformat": 4,
  "nbformat_minor": 5
}