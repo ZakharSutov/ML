{
  "nbformat": 4,
  "nbformat_minor": 0,
  "metadata": {
    "colab": {
      "provenance": [],
      "toc_visible": true
    },
    "kernelspec": {
      "name": "python3",
      "display_name": "Python 3"
    },
    "language_info": {
      "name": "python"
    }
  },
  "cells": [
    {
      "cell_type": "markdown",
      "source": [
        "<font size=6>\n",
        "Проверка нормальности распределения"
      ],
      "metadata": {
        "id": "0ijW0YrC2-1l"
      }
    },
    {
      "cell_type": "markdown",
      "source": [
        "Выполнил: Шутов Захар, ММБ-002"
      ],
      "metadata": {
        "id": "-BL6KajK3YD_"
      }
    },
    {
      "cell_type": "markdown",
      "source": [
        "# Введение"
      ],
      "metadata": {
        "id": "UaKQMmMB3hOy"
      }
    },
    {
      "cell_type": "markdown",
      "source": [
        "Цель работы: провести проверку нормальности распределения исследуемого показателя, определенного на разных генеральных совокупностях. Данные представлены в виде объедененной выборки, состоящей из четырех частей представляющих разные генеральные совокупности. Переменная-индикатор определяет, к какой части относится тот или иной элемент объединенной выборки."
      ],
      "metadata": {
        "id": "el-HEbtY29z7"
      }
    },
    {
      "cell_type": "markdown",
      "source": [
        "Подключение библиотек"
      ],
      "metadata": {
        "id": "wKTiNb9Q3myb"
      }
    },
    {
      "cell_type": "code",
      "execution_count": 12,
      "metadata": {
        "id": "pp_nPjFWEJGb"
      },
      "outputs": [],
      "source": [
        "import pandas as pd\n",
        "import matplotlib.pyplot as plt\n",
        "import numpy as np\n",
        "import scipy.stats as stats"
      ]
    },
    {
      "cell_type": "markdown",
      "source": [
        "Извлечение данных из файла"
      ],
      "metadata": {
        "id": "Zo4hu9gy3rya"
      }
    },
    {
      "cell_type": "code",
      "source": [
        "ds0=pd.read_excel(\"ML.ds2.xlsx\")\n",
        "ds0"
      ],
      "metadata": {
        "colab": {
          "base_uri": "https://localhost:8080/",
          "height": 487
        },
        "id": "XMvVwq-ZGTpG",
        "outputId": "0d257181-48fb-4bbd-fe1d-f6517c2aa1a0"
      },
      "execution_count": 13,
      "outputs": [
        {
          "output_type": "execute_result",
          "data": {
            "text/plain": [
              "             v1         v2         v3         v4         v5         v6  \\\n",
              "0      6.059313  -1.855521 -17.162673  11.044343 -23.341780 -42.520243   \n",
              "1     11.853664  -1.287746 -26.281267 -21.672478   0.978450 -19.722558   \n",
              "2      7.770431  -6.649831 -18.138106  -9.144086  -6.882682 -50.593063   \n",
              "3      9.634201  18.295676  -1.251677  -5.454505 -10.419025 -15.419516   \n",
              "4      9.693239  -2.421079 -10.350603  -9.555780  14.607057  13.658101   \n",
              "...         ...        ...        ...        ...        ...        ...   \n",
              "1395  13.093231  -3.841812 -31.574344 -19.366295  12.349862  -8.109772   \n",
              "1396  12.142872  12.482686   3.818097  -9.440888 -27.774032 -47.837485   \n",
              "1397   4.644531   9.041294   5.761300 -19.282417  -2.181760 -59.122741   \n",
              "1398   9.363536  12.533379  -6.838237 -30.175139 -29.440737 -28.805840   \n",
              "1399  11.184674  -0.469269 -12.452354  -2.012772  18.570408  -7.752303   \n",
              "\n",
              "             v7         v8         v9        v10  ...        v72        v73  \\\n",
              "0     53.133029  17.829904  15.312515  46.026926  ...  18.143563 -14.173505   \n",
              "1    -45.017433  19.227115  34.183479  65.385567  ...   1.447923  -4.507531   \n",
              "2     -7.432258  18.870878  32.183995 -15.468149  ...  17.018063  -6.249020   \n",
              "3      3.636486  14.139482  19.376166  -1.363523  ...   5.788373  13.385526   \n",
              "4     -8.667340  20.476363  27.179034  42.885804  ...   4.913177 -16.022962   \n",
              "...         ...        ...        ...        ...  ...        ...        ...   \n",
              "1395 -38.098884  12.164525   9.914687  37.743749  ...   8.203809   3.948609   \n",
              "1396  -8.322664  -1.228660  32.247943  31.930054  ...   9.636445 -14.281234   \n",
              "1397 -37.847250  25.224062 -26.323112  36.524298  ...  -4.145583 -26.408232   \n",
              "1398 -70.525417  -3.745504  49.071180  17.408084  ...   0.151256 -12.667154   \n",
              "1399  13.961684   6.238201   6.060482  27.222259  ...   0.019198  20.609916   \n",
              "\n",
              "            v74        v75        v76        v77        v78        v79  \\\n",
              "0    -12.908814 -30.324509  11.314424  35.557165  18.456091   7.427282   \n",
              "1     -5.578855   3.159857  30.422340  34.115070  18.175637   7.389731   \n",
              "2    -21.093471 -11.894213  30.611333  -9.326853  11.518727  39.650201   \n",
              "3     -0.883430 -28.111708   7.078885  24.275838  23.820348  -2.653444   \n",
              "4    -20.864255 -17.932962  20.897679  -5.641990   7.759069  -1.067956   \n",
              "...         ...        ...        ...        ...        ...        ...   \n",
              "1395 -19.115411  19.979700  25.287128  15.830407  20.846346  22.376578   \n",
              "1396  -9.964427   8.848576  45.356607  11.322087  -9.787732   4.541500   \n",
              "1397 -15.694540 -12.970088  15.757011  40.161573  42.421629  42.952213   \n",
              "1398   0.781810 -22.384279  11.230092  27.710772  14.908584  26.325615   \n",
              "1399 -17.239942  17.418301  27.492175  18.589927   7.182120  21.427884   \n",
              "\n",
              "            v80  G  \n",
              "0    -30.388955  1  \n",
              "1    -29.035627  3  \n",
              "2    -28.201074  3  \n",
              "3    -26.810639  1  \n",
              "4    -24.843948  1  \n",
              "...         ... ..  \n",
              "1395  76.898678  1  \n",
              "1396  79.154225  1  \n",
              "1397  85.032471  1  \n",
              "1398  88.166954  1  \n",
              "1399  98.364936  3  \n",
              "\n",
              "[1400 rows x 81 columns]"
            ],
            "text/html": [
              "\n",
              "  <div id=\"df-16094298-07f1-42f6-a720-d08ba0b9c446\">\n",
              "    <div class=\"colab-df-container\">\n",
              "      <div>\n",
              "<style scoped>\n",
              "    .dataframe tbody tr th:only-of-type {\n",
              "        vertical-align: middle;\n",
              "    }\n",
              "\n",
              "    .dataframe tbody tr th {\n",
              "        vertical-align: top;\n",
              "    }\n",
              "\n",
              "    .dataframe thead th {\n",
              "        text-align: right;\n",
              "    }\n",
              "</style>\n",
              "<table border=\"1\" class=\"dataframe\">\n",
              "  <thead>\n",
              "    <tr style=\"text-align: right;\">\n",
              "      <th></th>\n",
              "      <th>v1</th>\n",
              "      <th>v2</th>\n",
              "      <th>v3</th>\n",
              "      <th>v4</th>\n",
              "      <th>v5</th>\n",
              "      <th>v6</th>\n",
              "      <th>v7</th>\n",
              "      <th>v8</th>\n",
              "      <th>v9</th>\n",
              "      <th>v10</th>\n",
              "      <th>...</th>\n",
              "      <th>v72</th>\n",
              "      <th>v73</th>\n",
              "      <th>v74</th>\n",
              "      <th>v75</th>\n",
              "      <th>v76</th>\n",
              "      <th>v77</th>\n",
              "      <th>v78</th>\n",
              "      <th>v79</th>\n",
              "      <th>v80</th>\n",
              "      <th>G</th>\n",
              "    </tr>\n",
              "  </thead>\n",
              "  <tbody>\n",
              "    <tr>\n",
              "      <th>0</th>\n",
              "      <td>6.059313</td>\n",
              "      <td>-1.855521</td>\n",
              "      <td>-17.162673</td>\n",
              "      <td>11.044343</td>\n",
              "      <td>-23.341780</td>\n",
              "      <td>-42.520243</td>\n",
              "      <td>53.133029</td>\n",
              "      <td>17.829904</td>\n",
              "      <td>15.312515</td>\n",
              "      <td>46.026926</td>\n",
              "      <td>...</td>\n",
              "      <td>18.143563</td>\n",
              "      <td>-14.173505</td>\n",
              "      <td>-12.908814</td>\n",
              "      <td>-30.324509</td>\n",
              "      <td>11.314424</td>\n",
              "      <td>35.557165</td>\n",
              "      <td>18.456091</td>\n",
              "      <td>7.427282</td>\n",
              "      <td>-30.388955</td>\n",
              "      <td>1</td>\n",
              "    </tr>\n",
              "    <tr>\n",
              "      <th>1</th>\n",
              "      <td>11.853664</td>\n",
              "      <td>-1.287746</td>\n",
              "      <td>-26.281267</td>\n",
              "      <td>-21.672478</td>\n",
              "      <td>0.978450</td>\n",
              "      <td>-19.722558</td>\n",
              "      <td>-45.017433</td>\n",
              "      <td>19.227115</td>\n",
              "      <td>34.183479</td>\n",
              "      <td>65.385567</td>\n",
              "      <td>...</td>\n",
              "      <td>1.447923</td>\n",
              "      <td>-4.507531</td>\n",
              "      <td>-5.578855</td>\n",
              "      <td>3.159857</td>\n",
              "      <td>30.422340</td>\n",
              "      <td>34.115070</td>\n",
              "      <td>18.175637</td>\n",
              "      <td>7.389731</td>\n",
              "      <td>-29.035627</td>\n",
              "      <td>3</td>\n",
              "    </tr>\n",
              "    <tr>\n",
              "      <th>2</th>\n",
              "      <td>7.770431</td>\n",
              "      <td>-6.649831</td>\n",
              "      <td>-18.138106</td>\n",
              "      <td>-9.144086</td>\n",
              "      <td>-6.882682</td>\n",
              "      <td>-50.593063</td>\n",
              "      <td>-7.432258</td>\n",
              "      <td>18.870878</td>\n",
              "      <td>32.183995</td>\n",
              "      <td>-15.468149</td>\n",
              "      <td>...</td>\n",
              "      <td>17.018063</td>\n",
              "      <td>-6.249020</td>\n",
              "      <td>-21.093471</td>\n",
              "      <td>-11.894213</td>\n",
              "      <td>30.611333</td>\n",
              "      <td>-9.326853</td>\n",
              "      <td>11.518727</td>\n",
              "      <td>39.650201</td>\n",
              "      <td>-28.201074</td>\n",
              "      <td>3</td>\n",
              "    </tr>\n",
              "    <tr>\n",
              "      <th>3</th>\n",
              "      <td>9.634201</td>\n",
              "      <td>18.295676</td>\n",
              "      <td>-1.251677</td>\n",
              "      <td>-5.454505</td>\n",
              "      <td>-10.419025</td>\n",
              "      <td>-15.419516</td>\n",
              "      <td>3.636486</td>\n",
              "      <td>14.139482</td>\n",
              "      <td>19.376166</td>\n",
              "      <td>-1.363523</td>\n",
              "      <td>...</td>\n",
              "      <td>5.788373</td>\n",
              "      <td>13.385526</td>\n",
              "      <td>-0.883430</td>\n",
              "      <td>-28.111708</td>\n",
              "      <td>7.078885</td>\n",
              "      <td>24.275838</td>\n",
              "      <td>23.820348</td>\n",
              "      <td>-2.653444</td>\n",
              "      <td>-26.810639</td>\n",
              "      <td>1</td>\n",
              "    </tr>\n",
              "    <tr>\n",
              "      <th>4</th>\n",
              "      <td>9.693239</td>\n",
              "      <td>-2.421079</td>\n",
              "      <td>-10.350603</td>\n",
              "      <td>-9.555780</td>\n",
              "      <td>14.607057</td>\n",
              "      <td>13.658101</td>\n",
              "      <td>-8.667340</td>\n",
              "      <td>20.476363</td>\n",
              "      <td>27.179034</td>\n",
              "      <td>42.885804</td>\n",
              "      <td>...</td>\n",
              "      <td>4.913177</td>\n",
              "      <td>-16.022962</td>\n",
              "      <td>-20.864255</td>\n",
              "      <td>-17.932962</td>\n",
              "      <td>20.897679</td>\n",
              "      <td>-5.641990</td>\n",
              "      <td>7.759069</td>\n",
              "      <td>-1.067956</td>\n",
              "      <td>-24.843948</td>\n",
              "      <td>1</td>\n",
              "    </tr>\n",
              "    <tr>\n",
              "      <th>...</th>\n",
              "      <td>...</td>\n",
              "      <td>...</td>\n",
              "      <td>...</td>\n",
              "      <td>...</td>\n",
              "      <td>...</td>\n",
              "      <td>...</td>\n",
              "      <td>...</td>\n",
              "      <td>...</td>\n",
              "      <td>...</td>\n",
              "      <td>...</td>\n",
              "      <td>...</td>\n",
              "      <td>...</td>\n",
              "      <td>...</td>\n",
              "      <td>...</td>\n",
              "      <td>...</td>\n",
              "      <td>...</td>\n",
              "      <td>...</td>\n",
              "      <td>...</td>\n",
              "      <td>...</td>\n",
              "      <td>...</td>\n",
              "      <td>...</td>\n",
              "    </tr>\n",
              "    <tr>\n",
              "      <th>1395</th>\n",
              "      <td>13.093231</td>\n",
              "      <td>-3.841812</td>\n",
              "      <td>-31.574344</td>\n",
              "      <td>-19.366295</td>\n",
              "      <td>12.349862</td>\n",
              "      <td>-8.109772</td>\n",
              "      <td>-38.098884</td>\n",
              "      <td>12.164525</td>\n",
              "      <td>9.914687</td>\n",
              "      <td>37.743749</td>\n",
              "      <td>...</td>\n",
              "      <td>8.203809</td>\n",
              "      <td>3.948609</td>\n",
              "      <td>-19.115411</td>\n",
              "      <td>19.979700</td>\n",
              "      <td>25.287128</td>\n",
              "      <td>15.830407</td>\n",
              "      <td>20.846346</td>\n",
              "      <td>22.376578</td>\n",
              "      <td>76.898678</td>\n",
              "      <td>1</td>\n",
              "    </tr>\n",
              "    <tr>\n",
              "      <th>1396</th>\n",
              "      <td>12.142872</td>\n",
              "      <td>12.482686</td>\n",
              "      <td>3.818097</td>\n",
              "      <td>-9.440888</td>\n",
              "      <td>-27.774032</td>\n",
              "      <td>-47.837485</td>\n",
              "      <td>-8.322664</td>\n",
              "      <td>-1.228660</td>\n",
              "      <td>32.247943</td>\n",
              "      <td>31.930054</td>\n",
              "      <td>...</td>\n",
              "      <td>9.636445</td>\n",
              "      <td>-14.281234</td>\n",
              "      <td>-9.964427</td>\n",
              "      <td>8.848576</td>\n",
              "      <td>45.356607</td>\n",
              "      <td>11.322087</td>\n",
              "      <td>-9.787732</td>\n",
              "      <td>4.541500</td>\n",
              "      <td>79.154225</td>\n",
              "      <td>1</td>\n",
              "    </tr>\n",
              "    <tr>\n",
              "      <th>1397</th>\n",
              "      <td>4.644531</td>\n",
              "      <td>9.041294</td>\n",
              "      <td>5.761300</td>\n",
              "      <td>-19.282417</td>\n",
              "      <td>-2.181760</td>\n",
              "      <td>-59.122741</td>\n",
              "      <td>-37.847250</td>\n",
              "      <td>25.224062</td>\n",
              "      <td>-26.323112</td>\n",
              "      <td>36.524298</td>\n",
              "      <td>...</td>\n",
              "      <td>-4.145583</td>\n",
              "      <td>-26.408232</td>\n",
              "      <td>-15.694540</td>\n",
              "      <td>-12.970088</td>\n",
              "      <td>15.757011</td>\n",
              "      <td>40.161573</td>\n",
              "      <td>42.421629</td>\n",
              "      <td>42.952213</td>\n",
              "      <td>85.032471</td>\n",
              "      <td>1</td>\n",
              "    </tr>\n",
              "    <tr>\n",
              "      <th>1398</th>\n",
              "      <td>9.363536</td>\n",
              "      <td>12.533379</td>\n",
              "      <td>-6.838237</td>\n",
              "      <td>-30.175139</td>\n",
              "      <td>-29.440737</td>\n",
              "      <td>-28.805840</td>\n",
              "      <td>-70.525417</td>\n",
              "      <td>-3.745504</td>\n",
              "      <td>49.071180</td>\n",
              "      <td>17.408084</td>\n",
              "      <td>...</td>\n",
              "      <td>0.151256</td>\n",
              "      <td>-12.667154</td>\n",
              "      <td>0.781810</td>\n",
              "      <td>-22.384279</td>\n",
              "      <td>11.230092</td>\n",
              "      <td>27.710772</td>\n",
              "      <td>14.908584</td>\n",
              "      <td>26.325615</td>\n",
              "      <td>88.166954</td>\n",
              "      <td>1</td>\n",
              "    </tr>\n",
              "    <tr>\n",
              "      <th>1399</th>\n",
              "      <td>11.184674</td>\n",
              "      <td>-0.469269</td>\n",
              "      <td>-12.452354</td>\n",
              "      <td>-2.012772</td>\n",
              "      <td>18.570408</td>\n",
              "      <td>-7.752303</td>\n",
              "      <td>13.961684</td>\n",
              "      <td>6.238201</td>\n",
              "      <td>6.060482</td>\n",
              "      <td>27.222259</td>\n",
              "      <td>...</td>\n",
              "      <td>0.019198</td>\n",
              "      <td>20.609916</td>\n",
              "      <td>-17.239942</td>\n",
              "      <td>17.418301</td>\n",
              "      <td>27.492175</td>\n",
              "      <td>18.589927</td>\n",
              "      <td>7.182120</td>\n",
              "      <td>21.427884</td>\n",
              "      <td>98.364936</td>\n",
              "      <td>3</td>\n",
              "    </tr>\n",
              "  </tbody>\n",
              "</table>\n",
              "<p>1400 rows × 81 columns</p>\n",
              "</div>\n",
              "      <button class=\"colab-df-convert\" onclick=\"convertToInteractive('df-16094298-07f1-42f6-a720-d08ba0b9c446')\"\n",
              "              title=\"Convert this dataframe to an interactive table.\"\n",
              "              style=\"display:none;\">\n",
              "        \n",
              "  <svg xmlns=\"http://www.w3.org/2000/svg\" height=\"24px\"viewBox=\"0 0 24 24\"\n",
              "       width=\"24px\">\n",
              "    <path d=\"M0 0h24v24H0V0z\" fill=\"none\"/>\n",
              "    <path d=\"M18.56 5.44l.94 2.06.94-2.06 2.06-.94-2.06-.94-.94-2.06-.94 2.06-2.06.94zm-11 1L8.5 8.5l.94-2.06 2.06-.94-2.06-.94L8.5 2.5l-.94 2.06-2.06.94zm10 10l.94 2.06.94-2.06 2.06-.94-2.06-.94-.94-2.06-.94 2.06-2.06.94z\"/><path d=\"M17.41 7.96l-1.37-1.37c-.4-.4-.92-.59-1.43-.59-.52 0-1.04.2-1.43.59L10.3 9.45l-7.72 7.72c-.78.78-.78 2.05 0 2.83L4 21.41c.39.39.9.59 1.41.59.51 0 1.02-.2 1.41-.59l7.78-7.78 2.81-2.81c.8-.78.8-2.07 0-2.86zM5.41 20L4 18.59l7.72-7.72 1.47 1.35L5.41 20z\"/>\n",
              "  </svg>\n",
              "      </button>\n",
              "      \n",
              "  <style>\n",
              "    .colab-df-container {\n",
              "      display:flex;\n",
              "      flex-wrap:wrap;\n",
              "      gap: 12px;\n",
              "    }\n",
              "\n",
              "    .colab-df-convert {\n",
              "      background-color: #E8F0FE;\n",
              "      border: none;\n",
              "      border-radius: 50%;\n",
              "      cursor: pointer;\n",
              "      display: none;\n",
              "      fill: #1967D2;\n",
              "      height: 32px;\n",
              "      padding: 0 0 0 0;\n",
              "      width: 32px;\n",
              "    }\n",
              "\n",
              "    .colab-df-convert:hover {\n",
              "      background-color: #E2EBFA;\n",
              "      box-shadow: 0px 1px 2px rgba(60, 64, 67, 0.3), 0px 1px 3px 1px rgba(60, 64, 67, 0.15);\n",
              "      fill: #174EA6;\n",
              "    }\n",
              "\n",
              "    [theme=dark] .colab-df-convert {\n",
              "      background-color: #3B4455;\n",
              "      fill: #D2E3FC;\n",
              "    }\n",
              "\n",
              "    [theme=dark] .colab-df-convert:hover {\n",
              "      background-color: #434B5C;\n",
              "      box-shadow: 0px 1px 3px 1px rgba(0, 0, 0, 0.15);\n",
              "      filter: drop-shadow(0px 1px 2px rgba(0, 0, 0, 0.3));\n",
              "      fill: #FFFFFF;\n",
              "    }\n",
              "  </style>\n",
              "\n",
              "      <script>\n",
              "        const buttonEl =\n",
              "          document.querySelector('#df-16094298-07f1-42f6-a720-d08ba0b9c446 button.colab-df-convert');\n",
              "        buttonEl.style.display =\n",
              "          google.colab.kernel.accessAllowed ? 'block' : 'none';\n",
              "\n",
              "        async function convertToInteractive(key) {\n",
              "          const element = document.querySelector('#df-16094298-07f1-42f6-a720-d08ba0b9c446');\n",
              "          const dataTable =\n",
              "            await google.colab.kernel.invokeFunction('convertToInteractive',\n",
              "                                                     [key], {});\n",
              "          if (!dataTable) return;\n",
              "\n",
              "          const docLinkHtml = 'Like what you see? Visit the ' +\n",
              "            '<a target=\"_blank\" href=https://colab.research.google.com/notebooks/data_table.ipynb>data table notebook</a>'\n",
              "            + ' to learn more about interactive tables.';\n",
              "          element.innerHTML = '';\n",
              "          dataTable['output_type'] = 'display_data';\n",
              "          await google.colab.output.renderOutput(dataTable, element);\n",
              "          const docLink = document.createElement('div');\n",
              "          docLink.innerHTML = docLinkHtml;\n",
              "          element.appendChild(docLink);\n",
              "        }\n",
              "      </script>\n",
              "    </div>\n",
              "  </div>\n",
              "  "
            ]
          },
          "metadata": {},
          "execution_count": 13
        }
      ]
    },
    {
      "cell_type": "markdown",
      "source": [
        "Вывод таблицы соответствующего варианата"
      ],
      "metadata": {
        "id": "blElkfPl36Ee"
      }
    },
    {
      "cell_type": "code",
      "source": [
        "ds=ds0[['v19','G']].rename({'v19':'s19', 'G':'FACTOR'}, axis=1)\n",
        "ds"
      ],
      "metadata": {
        "colab": {
          "base_uri": "https://localhost:8080/",
          "height": 423
        },
        "id": "8FOCPL4mHFbN",
        "outputId": "aaa6449f-1947-4e5c-f56e-5a350f67d1af"
      },
      "execution_count": 14,
      "outputs": [
        {
          "output_type": "execute_result",
          "data": {
            "text/plain": [
              "            s19  FACTOR\n",
              "0      1.755991       1\n",
              "1      7.389731       3\n",
              "2     39.650201       3\n",
              "3     25.622485       1\n",
              "4     11.974096       1\n",
              "...         ...     ...\n",
              "1395 -19.861516       1\n",
              "1396  33.227145       1\n",
              "1397  36.141951       1\n",
              "1398  17.242645       1\n",
              "1399  21.427884       3\n",
              "\n",
              "[1400 rows x 2 columns]"
            ],
            "text/html": [
              "\n",
              "  <div id=\"df-f1834039-dd10-4007-89d3-26ffce8b0906\">\n",
              "    <div class=\"colab-df-container\">\n",
              "      <div>\n",
              "<style scoped>\n",
              "    .dataframe tbody tr th:only-of-type {\n",
              "        vertical-align: middle;\n",
              "    }\n",
              "\n",
              "    .dataframe tbody tr th {\n",
              "        vertical-align: top;\n",
              "    }\n",
              "\n",
              "    .dataframe thead th {\n",
              "        text-align: right;\n",
              "    }\n",
              "</style>\n",
              "<table border=\"1\" class=\"dataframe\">\n",
              "  <thead>\n",
              "    <tr style=\"text-align: right;\">\n",
              "      <th></th>\n",
              "      <th>s19</th>\n",
              "      <th>FACTOR</th>\n",
              "    </tr>\n",
              "  </thead>\n",
              "  <tbody>\n",
              "    <tr>\n",
              "      <th>0</th>\n",
              "      <td>1.755991</td>\n",
              "      <td>1</td>\n",
              "    </tr>\n",
              "    <tr>\n",
              "      <th>1</th>\n",
              "      <td>7.389731</td>\n",
              "      <td>3</td>\n",
              "    </tr>\n",
              "    <tr>\n",
              "      <th>2</th>\n",
              "      <td>39.650201</td>\n",
              "      <td>3</td>\n",
              "    </tr>\n",
              "    <tr>\n",
              "      <th>3</th>\n",
              "      <td>25.622485</td>\n",
              "      <td>1</td>\n",
              "    </tr>\n",
              "    <tr>\n",
              "      <th>4</th>\n",
              "      <td>11.974096</td>\n",
              "      <td>1</td>\n",
              "    </tr>\n",
              "    <tr>\n",
              "      <th>...</th>\n",
              "      <td>...</td>\n",
              "      <td>...</td>\n",
              "    </tr>\n",
              "    <tr>\n",
              "      <th>1395</th>\n",
              "      <td>-19.861516</td>\n",
              "      <td>1</td>\n",
              "    </tr>\n",
              "    <tr>\n",
              "      <th>1396</th>\n",
              "      <td>33.227145</td>\n",
              "      <td>1</td>\n",
              "    </tr>\n",
              "    <tr>\n",
              "      <th>1397</th>\n",
              "      <td>36.141951</td>\n",
              "      <td>1</td>\n",
              "    </tr>\n",
              "    <tr>\n",
              "      <th>1398</th>\n",
              "      <td>17.242645</td>\n",
              "      <td>1</td>\n",
              "    </tr>\n",
              "    <tr>\n",
              "      <th>1399</th>\n",
              "      <td>21.427884</td>\n",
              "      <td>3</td>\n",
              "    </tr>\n",
              "  </tbody>\n",
              "</table>\n",
              "<p>1400 rows × 2 columns</p>\n",
              "</div>\n",
              "      <button class=\"colab-df-convert\" onclick=\"convertToInteractive('df-f1834039-dd10-4007-89d3-26ffce8b0906')\"\n",
              "              title=\"Convert this dataframe to an interactive table.\"\n",
              "              style=\"display:none;\">\n",
              "        \n",
              "  <svg xmlns=\"http://www.w3.org/2000/svg\" height=\"24px\"viewBox=\"0 0 24 24\"\n",
              "       width=\"24px\">\n",
              "    <path d=\"M0 0h24v24H0V0z\" fill=\"none\"/>\n",
              "    <path d=\"M18.56 5.44l.94 2.06.94-2.06 2.06-.94-2.06-.94-.94-2.06-.94 2.06-2.06.94zm-11 1L8.5 8.5l.94-2.06 2.06-.94-2.06-.94L8.5 2.5l-.94 2.06-2.06.94zm10 10l.94 2.06.94-2.06 2.06-.94-2.06-.94-.94-2.06-.94 2.06-2.06.94z\"/><path d=\"M17.41 7.96l-1.37-1.37c-.4-.4-.92-.59-1.43-.59-.52 0-1.04.2-1.43.59L10.3 9.45l-7.72 7.72c-.78.78-.78 2.05 0 2.83L4 21.41c.39.39.9.59 1.41.59.51 0 1.02-.2 1.41-.59l7.78-7.78 2.81-2.81c.8-.78.8-2.07 0-2.86zM5.41 20L4 18.59l7.72-7.72 1.47 1.35L5.41 20z\"/>\n",
              "  </svg>\n",
              "      </button>\n",
              "      \n",
              "  <style>\n",
              "    .colab-df-container {\n",
              "      display:flex;\n",
              "      flex-wrap:wrap;\n",
              "      gap: 12px;\n",
              "    }\n",
              "\n",
              "    .colab-df-convert {\n",
              "      background-color: #E8F0FE;\n",
              "      border: none;\n",
              "      border-radius: 50%;\n",
              "      cursor: pointer;\n",
              "      display: none;\n",
              "      fill: #1967D2;\n",
              "      height: 32px;\n",
              "      padding: 0 0 0 0;\n",
              "      width: 32px;\n",
              "    }\n",
              "\n",
              "    .colab-df-convert:hover {\n",
              "      background-color: #E2EBFA;\n",
              "      box-shadow: 0px 1px 2px rgba(60, 64, 67, 0.3), 0px 1px 3px 1px rgba(60, 64, 67, 0.15);\n",
              "      fill: #174EA6;\n",
              "    }\n",
              "\n",
              "    [theme=dark] .colab-df-convert {\n",
              "      background-color: #3B4455;\n",
              "      fill: #D2E3FC;\n",
              "    }\n",
              "\n",
              "    [theme=dark] .colab-df-convert:hover {\n",
              "      background-color: #434B5C;\n",
              "      box-shadow: 0px 1px 3px 1px rgba(0, 0, 0, 0.15);\n",
              "      filter: drop-shadow(0px 1px 2px rgba(0, 0, 0, 0.3));\n",
              "      fill: #FFFFFF;\n",
              "    }\n",
              "  </style>\n",
              "\n",
              "      <script>\n",
              "        const buttonEl =\n",
              "          document.querySelector('#df-f1834039-dd10-4007-89d3-26ffce8b0906 button.colab-df-convert');\n",
              "        buttonEl.style.display =\n",
              "          google.colab.kernel.accessAllowed ? 'block' : 'none';\n",
              "\n",
              "        async function convertToInteractive(key) {\n",
              "          const element = document.querySelector('#df-f1834039-dd10-4007-89d3-26ffce8b0906');\n",
              "          const dataTable =\n",
              "            await google.colab.kernel.invokeFunction('convertToInteractive',\n",
              "                                                     [key], {});\n",
              "          if (!dataTable) return;\n",
              "\n",
              "          const docLinkHtml = 'Like what you see? Visit the ' +\n",
              "            '<a target=\"_blank\" href=https://colab.research.google.com/notebooks/data_table.ipynb>data table notebook</a>'\n",
              "            + ' to learn more about interactive tables.';\n",
              "          element.innerHTML = '';\n",
              "          dataTable['output_type'] = 'display_data';\n",
              "          await google.colab.output.renderOutput(dataTable, element);\n",
              "          const docLink = document.createElement('div');\n",
              "          docLink.innerHTML = docLinkHtml;\n",
              "          element.appendChild(docLink);\n",
              "        }\n",
              "      </script>\n",
              "    </div>\n",
              "  </div>\n",
              "  "
            ]
          },
          "metadata": {},
          "execution_count": 14
        }
      ]
    },
    {
      "cell_type": "markdown",
      "source": [
        "Из объедененной выборки выделим 4 независимые выборки в соответветсвии с уровнями FACTOR."
      ],
      "metadata": {
        "id": "NboWDxcoLzbp"
      }
    },
    {
      "cell_type": "code",
      "source": [
        "sample1 = ds.s19[ds.FACTOR == 1]\n",
        "sample1"
      ],
      "metadata": {
        "id": "QFvw6-MzH55f",
        "colab": {
          "base_uri": "https://localhost:8080/"
        },
        "outputId": "36a9468c-fe7b-44c2-8e95-e01814a14953"
      },
      "execution_count": 15,
      "outputs": [
        {
          "output_type": "execute_result",
          "data": {
            "text/plain": [
              "0        1.755991\n",
              "3       25.622485\n",
              "4       11.974096\n",
              "6       33.567387\n",
              "10      25.085587\n",
              "          ...    \n",
              "1393    20.506714\n",
              "1395   -19.861516\n",
              "1396    33.227145\n",
              "1397    36.141951\n",
              "1398    17.242645\n",
              "Name: s19, Length: 350, dtype: float64"
            ]
          },
          "metadata": {},
          "execution_count": 15
        }
      ]
    },
    {
      "cell_type": "code",
      "source": [
        "sample2 = ds.s19[ds.FACTOR == 2]\n",
        "sample2"
      ],
      "metadata": {
        "colab": {
          "base_uri": "https://localhost:8080/"
        },
        "id": "CHb33cNK6qL0",
        "outputId": "2a7fd14d-64f6-41a0-ed1d-99182c180342"
      },
      "execution_count": 16,
      "outputs": [
        {
          "output_type": "execute_result",
          "data": {
            "text/plain": [
              "7       19.086623\n",
              "29       9.029448\n",
              "30      23.404313\n",
              "31      10.875438\n",
              "32      31.286357\n",
              "          ...    \n",
              "1381     7.575029\n",
              "1385    10.850574\n",
              "1388    28.129365\n",
              "1391    38.241587\n",
              "1392    33.075442\n",
              "Name: s19, Length: 350, dtype: float64"
            ]
          },
          "metadata": {},
          "execution_count": 16
        }
      ]
    },
    {
      "cell_type": "code",
      "source": [
        "sample3 = ds.s19[ds.FACTOR == 3]\n",
        "sample3"
      ],
      "metadata": {
        "colab": {
          "base_uri": "https://localhost:8080/"
        },
        "id": "v2xUmp9r6ztb",
        "outputId": "df27ce33-afd7-4e6a-ee06-c36eaae7bb06"
      },
      "execution_count": 17,
      "outputs": [
        {
          "output_type": "execute_result",
          "data": {
            "text/plain": [
              "1        7.389731\n",
              "2       39.650201\n",
              "5       15.389578\n",
              "8       19.492144\n",
              "9        7.723220\n",
              "          ...    \n",
              "1384    12.860819\n",
              "1389    -0.633752\n",
              "1390     8.152888\n",
              "1394    13.435267\n",
              "1399    21.427884\n",
              "Name: s19, Length: 350, dtype: float64"
            ]
          },
          "metadata": {},
          "execution_count": 17
        }
      ]
    },
    {
      "cell_type": "code",
      "source": [
        "sample4 = ds.s19[ds.FACTOR == 4]\n",
        "sample4"
      ],
      "metadata": {
        "colab": {
          "base_uri": "https://localhost:8080/"
        },
        "id": "JVBlqLDi60Ua",
        "outputId": "52442a51-4a2b-4e3d-f5d8-36146360e45c"
      },
      "execution_count": 18,
      "outputs": [
        {
          "output_type": "execute_result",
          "data": {
            "text/plain": [
              "169     23.737754\n",
              "171     15.916166\n",
              "174     28.058260\n",
              "175     32.019868\n",
              "176     25.025025\n",
              "          ...    \n",
              "1225    34.919431\n",
              "1229    10.057527\n",
              "1230    31.768090\n",
              "1235    24.247719\n",
              "1239    11.515091\n",
              "Name: s19, Length: 350, dtype: float64"
            ]
          },
          "metadata": {},
          "execution_count": 18
        }
      ]
    },
    {
      "cell_type": "markdown",
      "source": [
        "# Визуализация данных"
      ],
      "metadata": {
        "id": "7TMnQkT17SK3"
      }
    },
    {
      "cell_type": "markdown",
      "source": [
        "Для каждой из четырех выборок с помощью гистограммы и квантильного графика  проанализируем, можно ли использовать нормальное распределение для описания исследуемого показателя, определенного на соответствующей генеральной совокупности. Номер выборки будет означать номер генеральной совокупности, откуда взята эта выборка."
      ],
      "metadata": {
        "id": "PU2Ycby3Q9mM"
      }
    },
    {
      "cell_type": "markdown",
      "source": [
        "## Выборка 1"
      ],
      "metadata": {
        "id": "IeJ35ue27lv7"
      }
    },
    {
      "cell_type": "markdown",
      "source": [
        "Построим гистограмму с наложенной на нее кривой нормального распределения."
      ],
      "metadata": {
        "id": "mH7t2ICmNBJc"
      }
    },
    {
      "cell_type": "code",
      "source": [
        "plt.hist(sample1, density = True, facecolor = 'green', alpha = 0.9)\n",
        "plt.title(\"Гистограмма\")\n",
        "plt.ylabel(\"Относительная частота\")\n",
        "plt.xlabel(\"Выборочные значения\")\n",
        "x = np.linspace(np.mean(sample1) - 5*np.std(sample1), np.mean(sample1) + 5*np.std(sample1), 100)\n",
        "plt.plot(x, stats.norm.pdf(x, np.mean(sample1), np.std(sample1)))"
      ],
      "metadata": {
        "colab": {
          "base_uri": "https://localhost:8080/",
          "height": 489
        },
        "id": "07i9DrzT_klL",
        "outputId": "d468743a-bcae-4022-972c-271c97992ae2"
      },
      "execution_count": 19,
      "outputs": [
        {
          "output_type": "execute_result",
          "data": {
            "text/plain": [
              "[<matplotlib.lines.Line2D at 0x7f2ad9abd100>]"
            ]
          },
          "metadata": {},
          "execution_count": 19
        },
        {
          "output_type": "display_data",
          "data": {
            "text/plain": [
              "<Figure size 640x480 with 1 Axes>"
            ],
            "image/png": "[encoded data removed]"
          },
          "metadata": {}
        }
      ]
    },
    {
      "cell_type": "markdown",
      "source": [
        "Эмперическая функция плотности близка к функции плотности нормального распределения. Следовательно, нормальное распределение подходит для описания исследуемого показателя первой генеральной совокупности."
      ],
      "metadata": {
        "id": "_pmIrsNzCKNO"
      }
    },
    {
      "cell_type": "markdown",
      "source": [
        "Построим квантильный график."
      ],
      "metadata": {
        "id": "WvN2-zTqLqqQ"
      }
    },
    {
      "cell_type": "code",
      "source": [
        "res = stats.probplot(sample1, plot=plt)\n",
        "plt.title(\"Квантильный график\")\n",
        "plt.ylabel(\"Выборочные квантили\")\n",
        "plt.xlabel(\"Нормальные квантили\")\n",
        "plt.show()"
      ],
      "metadata": {
        "colab": {
          "base_uri": "https://localhost:8080/",
          "height": 472
        },
        "id": "3Z2X29LgDQtr",
        "outputId": "ec2acc31-ab47-49c3-ee0f-171eaae6b514"
      },
      "execution_count": 20,
      "outputs": [
        {
          "output_type": "display_data",
          "data": {
            "text/plain": [
              "<Figure size 640x480 with 1 Axes>"
            ],
            "image/png": "[encoded data removed]"
          },
          "metadata": {}
        }
      ]
    },
    {
      "cell_type": "markdown",
      "source": [
        "Большая часть выборочных квантилей расположена близко к соответствующим квантилям нормального распределения. Следовательно, нормальное распределение подходит для описания исследуемого показателя первой генеральной совокупности."
      ],
      "metadata": {
        "id": "dTUMZqD5bmY1"
      }
    },
    {
      "cell_type": "markdown",
      "source": [
        "Анализ диаграмм показал, что нормальное распределение подходит для описания исследуемого показателя первой генеральной совокупности.\n",
        "\n",
        "---\n",
        "\n"
      ],
      "metadata": {
        "id": "xzk9hSbu9avi"
      }
    },
    {
      "cell_type": "markdown",
      "source": [
        "## Выборка 2"
      ],
      "metadata": {
        "id": "YvzA6Lz07wQH"
      }
    },
    {
      "cell_type": "markdown",
      "source": [
        "Построим гистограмму с наложенной на нее кривой нормального распределения."
      ],
      "metadata": {
        "id": "4HydJibBNRfW"
      }
    },
    {
      "cell_type": "code",
      "source": [
        "plt.hist(sample2, density = True, facecolor = 'green', alpha = 0.9)\n",
        "plt.title(\"Гистограмма\")\n",
        "plt.ylabel(\"Относительная частота\")\n",
        "plt.xlabel(\"Выборочные значения\")\n",
        "x = np.linspace(np.mean(sample2) - 5*np.std(sample2), np.mean(sample2) + 5*np.std(sample2), 100)\n",
        "plt.plot(x, stats.norm.pdf(x, np.mean(sample2), np.std(sample2)))"
      ],
      "metadata": {
        "colab": {
          "base_uri": "https://localhost:8080/",
          "height": 489
        },
        "id": "2dRiUQGGESNN",
        "outputId": "9aab6fad-691f-4793-92e1-2aeea75e8b9d"
      },
      "execution_count": 21,
      "outputs": [
        {
          "output_type": "execute_result",
          "data": {
            "text/plain": [
              "[<matplotlib.lines.Line2D at 0x7f2ad9afc400>]"
            ]
          },
          "metadata": {},
          "execution_count": 21
        },
        {
          "output_type": "display_data",
          "data": {
            "text/plain": [
              "<Figure size 640x480 with 1 Axes>"
            ],
            "image/png": "[encoded data removed]"
          },
          "metadata": {}
        }
      ]
    },
    {
      "cell_type": "markdown",
      "source": [
        "Эмперическая функция плотности близка к функции плотности нормального распределения. Следовательно, нормальное распределение подходит для описания исследуемого показателя второй генеральной совокупности."
      ],
      "metadata": {
        "id": "OKkfRVvST_Lg"
      }
    },
    {
      "cell_type": "markdown",
      "source": [
        "Построим квантильный график."
      ],
      "metadata": {
        "id": "DS_rxxqONctM"
      }
    },
    {
      "cell_type": "code",
      "source": [
        "res = stats.probplot(sample2, plot=plt)\n",
        "plt.title(\"Квантильный график\")\n",
        "plt.ylabel(\"Выборочные квантили\")\n",
        "plt.xlabel(\"Нормальные квантили\")\n",
        "plt.show()"
      ],
      "metadata": {
        "colab": {
          "base_uri": "https://localhost:8080/",
          "height": 472
        },
        "id": "v1_umWV5UmD-",
        "outputId": "de1b2488-f9aa-47c7-f53c-4705a58eae6a"
      },
      "execution_count": 22,
      "outputs": [
        {
          "output_type": "display_data",
          "data": {
            "text/plain": [
              "<Figure size 640x480 with 1 Axes>"
            ],
            "image/png": "[encoded data removed]"
          },
          "metadata": {}
        }
      ]
    },
    {
      "cell_type": "markdown",
      "source": [
        "Большая часть выборочных квантилей расположена близко к соответствующим квантилям нормального распределения. Следовательно, нормальное распределение подходит для описания исследуемого показателя второй генеральной совокупности."
      ],
      "metadata": {
        "id": "EbX_YPjYbcYp"
      }
    },
    {
      "cell_type": "markdown",
      "source": [
        "Анализ диаграмм показал, что нормальное распределение подходит для описания исследуемого показателя второй генеральной совокупности."
      ],
      "metadata": {
        "id": "Z5MYiwNiOqDu"
      }
    },
    {
      "cell_type": "markdown",
      "source": [
        "## Выборка 3"
      ],
      "metadata": {
        "id": "pbt5LWTo73fz"
      }
    },
    {
      "cell_type": "markdown",
      "source": [
        "Построим гистограмму с наложенной на нее кривой нормального распределения."
      ],
      "metadata": {
        "id": "w5cBt8b8NTvx"
      }
    },
    {
      "cell_type": "code",
      "source": [
        "plt.hist(sample3, density = True, facecolor = 'green', alpha = 0.9)\n",
        "plt.title(\"Гистограмма\")\n",
        "plt.ylabel(\"Относительная частота\")\n",
        "plt.xlabel(\"Выборочные значения\")\n",
        "x = np.linspace(np.mean(sample3) - 5*np.std(sample3), np.mean(sample3) + 5*np.std(sample3), 100)\n",
        "plt.plot(x, stats.norm.pdf(x, np.mean(sample3), np.std(sample3)))"
      ],
      "metadata": {
        "colab": {
          "base_uri": "https://localhost:8080/",
          "height": 489
        },
        "id": "3Q8j_QVZTrDn",
        "outputId": "cc0a4d56-f3d6-42e8-9dc4-55cd3fab6dde"
      },
      "execution_count": 23,
      "outputs": [
        {
          "output_type": "execute_result",
          "data": {
            "text/plain": [
              "[<matplotlib.lines.Line2D at 0x7f2ad6fd0eb0>]"
            ]
          },
          "metadata": {},
          "execution_count": 23
        },
        {
          "output_type": "display_data",
          "data": {
            "text/plain": [
              "<Figure size 640x480 with 1 Axes>"
            ],
            "image/png": "[encoded data removed]"
          },
          "metadata": {}
        }
      ]
    },
    {
      "cell_type": "markdown",
      "source": [
        "Эмперическая функция плотности близка к функции плотности нормального распределения. Следовательно, нормальное распределение подходит для описания исследуемого показателя третьей генеральной совокупности."
      ],
      "metadata": {
        "id": "Lkay__drT6lp"
      }
    },
    {
      "cell_type": "markdown",
      "source": [
        "Построим квантильный график."
      ],
      "metadata": {
        "id": "GWmYMHS9NbX2"
      }
    },
    {
      "cell_type": "code",
      "source": [
        "res = stats.probplot(sample3, plot=plt)\n",
        "plt.title(\"Квантильный график\")\n",
        "plt.ylabel(\"Выборочные квантили\")\n",
        "plt.xlabel(\"Нормальные квантили\")\n",
        "plt.show()"
      ],
      "metadata": {
        "colab": {
          "base_uri": "https://localhost:8080/",
          "height": 472
        },
        "id": "DGAmuamHY8NX",
        "outputId": "a3391a30-024f-4091-d49a-e560c62e96b7"
      },
      "execution_count": 24,
      "outputs": [
        {
          "output_type": "display_data",
          "data": {
            "text/plain": [
              "<Figure size 640x480 with 1 Axes>"
            ],
            "image/png": "[encoded data removed]"
          },
          "metadata": {}
        }
      ]
    },
    {
      "cell_type": "markdown",
      "source": [
        "Большая часть выборочных квантилей расположена близко к соответствующим квантилям нормального распределения. Следовательно, нормальное распределение подходит для описания исследуемого показателя третьей генеральной совокупности."
      ],
      "metadata": {
        "id": "k6ekDcwXbGFc"
      }
    },
    {
      "cell_type": "markdown",
      "source": [
        "Анализ диаграмм показал, что нормальное распределение подходит для описания исследуемого показателя третьей генеральной совокупности."
      ],
      "metadata": {
        "id": "oaCroGF_OsGA"
      }
    },
    {
      "cell_type": "markdown",
      "source": [
        "## Выборка 4"
      ],
      "metadata": {
        "id": "OgNIRtz277W4"
      }
    },
    {
      "cell_type": "markdown",
      "source": [
        "Построим гистограмму с наложенной на нее кривой нормального распределения."
      ],
      "metadata": {
        "id": "fWMUORTDNUwB"
      }
    },
    {
      "cell_type": "code",
      "source": [
        "plt.hist(sample4, density = True, facecolor = 'green', alpha = 0.9)\n",
        "plt.title(\"Гистограмма\")\n",
        "plt.ylabel(\"Относительная частота\")\n",
        "plt.xlabel(\"Выборочные значения\")\n",
        "x = np.linspace(np.mean(sample4) - 5*np.std(sample4), np.mean(sample4) + 5*np.std(sample4), 100)\n",
        "plt.plot(x, stats.norm.pdf(x, np.mean(sample4), np.std(sample4)))"
      ],
      "metadata": {
        "colab": {
          "base_uri": "https://localhost:8080/",
          "height": 489
        },
        "id": "JlBLFlfYTxMB",
        "outputId": "e213d720-8bc3-4188-f8e6-526fb01ee584"
      },
      "execution_count": 25,
      "outputs": [
        {
          "output_type": "execute_result",
          "data": {
            "text/plain": [
              "[<matplotlib.lines.Line2D at 0x7f2ad6ca9070>]"
            ]
          },
          "metadata": {},
          "execution_count": 25
        },
        {
          "output_type": "display_data",
          "data": {
            "text/plain": [
              "<Figure size 640x480 with 1 Axes>"
            ],
            "image/png": "[encoded data removed]"
          },
          "metadata": {}
        }
      ]
    },
    {
      "cell_type": "markdown",
      "source": [
        "Эмперическая функция плотности не близка к функции плотности нормального распределения. Следовательно, нормальное распределение не подходит для описания исследуемого показателя четвертой генеральной совокупности."
      ],
      "metadata": {
        "id": "GoKaOUn7T1Au"
      }
    },
    {
      "cell_type": "markdown",
      "source": [
        "Построим квантильный график."
      ],
      "metadata": {
        "id": "KkHBvsj2NWT4"
      }
    },
    {
      "cell_type": "code",
      "source": [
        "res = stats.probplot(sample4, plot=plt)\n",
        "plt.title(\"Квантильный график\")\n",
        "plt.ylabel(\"Выборочные квантили\")\n",
        "plt.xlabel(\"Нормальные квантили\")\n",
        "plt.show()"
      ],
      "metadata": {
        "colab": {
          "base_uri": "https://localhost:8080/",
          "height": 472
        },
        "id": "d_aUZ1vLZD9O",
        "outputId": "8b9e74d1-8584-4c8b-cb76-3d340bd47b1b"
      },
      "execution_count": 26,
      "outputs": [
        {
          "output_type": "display_data",
          "data": {
            "text/plain": [
              "<Figure size 640x480 with 1 Axes>"
            ],
            "image/png": "[encoded data removed]"
          },
          "metadata": {}
        }
      ]
    },
    {
      "cell_type": "markdown",
      "source": [
        "Большая часть выборочных квантилей не совпадает с соответствующими квантилями нормального распределения. Следовательно, нормальное распределение не подходит для описания исследуемого показателя первой генеральной совокупности."
      ],
      "metadata": {
        "id": "2hLsa87-a6eh"
      }
    },
    {
      "cell_type": "markdown",
      "source": [
        "Анализ диаграмм показал, что нормальное распределение не подходит для описания исследуемого показателя четвертой генеральной совокупности."
      ],
      "metadata": {
        "id": "pseo-i2vOt0x"
      }
    },
    {
      "cell_type": "markdown",
      "source": [
        "## Итоги визуализации"
      ],
      "metadata": {
        "id": "_nW7frkhOdJF"
      }
    },
    {
      "cell_type": "markdown",
      "source": [
        "Анализ диаграмм и квантильных графиков показал, что для 3 первых выборок нормальное распределение подходит для описания исследуемого показателя, для четвертой выборки, взятой из четвертой генеральной совокупности нормальное распределение не подходит для описания исследуемого показателя генеральной совокупности."
      ],
      "metadata": {
        "id": "spsIIJxyRTJC"
      }
    },
    {
      "cell_type": "markdown",
      "source": [
        "# Использование тестов"
      ],
      "metadata": {
        "id": "5QpiB8nDJBro"
      }
    },
    {
      "cell_type": "markdown",
      "source": [
        "Проверим гипотезу о нормальном распределении с помощью тестов Шапиро-Уилка, Колмогорова-Смирнова, Крамера-Майзеса, Харке-Бера и Д'Агостино. Используем, соответственно, функции shapiro, jarque_bera, kstest, cramevonmises и normaltest пакета stats."
      ],
      "metadata": {
        "id": "mqZsRTNkQzcf"
      }
    },
    {
      "cell_type": "markdown",
      "source": [
        "## Выборка 1"
      ],
      "metadata": {
        "id": "0kzr2oC5PCxb"
      }
    },
    {
      "cell_type": "code",
      "source": [
        "stats.shapiro(sample1)"
      ],
      "metadata": {
        "colab": {
          "base_uri": "https://localhost:8080/"
        },
        "id": "_Fz99czDceha",
        "outputId": "a28d86d3-6904-434e-a03b-3ff974f96810"
      },
      "execution_count": 27,
      "outputs": [
        {
          "output_type": "execute_result",
          "data": {
            "text/plain": [
              "ShapiroResult(statistic=0.997124433517456, pvalue=0.7980356812477112)"
            ]
          },
          "metadata": {},
          "execution_count": 27
        }
      ]
    },
    {
      "cell_type": "markdown",
      "source": [
        "Так как p-значение больше уровня значимости 0,05, то гипотеза о нормальном распределении исследуемого показателя первой генеральной совокупности не отвергается.\n"
      ],
      "metadata": {
        "id": "v5X9l86wy9NE"
      }
    },
    {
      "cell_type": "code",
      "source": [
        "stats.jarque_bera(sample1)"
      ],
      "metadata": {
        "colab": {
          "base_uri": "https://localhost:8080/"
        },
        "id": "45KfbaeJJvE2",
        "outputId": "baa730c4-a5dc-43f1-d74e-3e5329d13f53"
      },
      "execution_count": 28,
      "outputs": [
        {
          "output_type": "execute_result",
          "data": {
            "text/plain": [
              "SignificanceResult(statistic=0.5206333124374246, pvalue=0.7708074661770125)"
            ]
          },
          "metadata": {},
          "execution_count": 28
        }
      ]
    },
    {
      "cell_type": "markdown",
      "source": [
        "Так как p-значение больше уровня значимости 0,05, то гипотеза о нормальном распределении исследуемого показателя первой генеральной совокупности не отвергается."
      ],
      "metadata": {
        "id": "e3KlHj4ly97I"
      }
    },
    {
      "cell_type": "code",
      "source": [
        "stats.kstest(sample1, 'norm', (np.mean(sample1), np.std(sample1)))"
      ],
      "metadata": {
        "id": "za5CE_IwjSkE",
        "colab": {
          "base_uri": "https://localhost:8080/"
        },
        "outputId": "4eadc506-cc12-4861-9ef1-f81a997fc806"
      },
      "execution_count": 29,
      "outputs": [
        {
          "output_type": "execute_result",
          "data": {
            "text/plain": [
              "KstestResult(statistic=0.031776991237391417, pvalue=0.8601450832379742, statistic_location=11.133654475561343, statistic_sign=-1)"
            ]
          },
          "metadata": {},
          "execution_count": 29
        }
      ]
    },
    {
      "cell_type": "markdown",
      "source": [
        "Так как p-значение больше уровня значимости 0,05, то гипотеза о нормальном распределении исследуемого показателя первой генеральной совокупности не отвергается."
      ],
      "metadata": {
        "id": "MzhCvpVpKhU9"
      }
    },
    {
      "cell_type": "code",
      "source": [
        "stats.cramervonmises(sample1, 'norm', (np.mean(sample1), np.std(sample1)))"
      ],
      "metadata": {
        "id": "LxKJ9dF7jSeZ",
        "colab": {
          "base_uri": "https://localhost:8080/"
        },
        "outputId": "3efcfe18-ac89-4614-980e-7eb04db11e58"
      },
      "execution_count": 30,
      "outputs": [
        {
          "output_type": "execute_result",
          "data": {
            "text/plain": [
              "CramerVonMisesResult(statistic=0.048367277285106196, pvalue=0.8864213795593925)"
            ]
          },
          "metadata": {},
          "execution_count": 30
        }
      ]
    },
    {
      "cell_type": "markdown",
      "source": [
        "Так как p-значение больше уровня значимости 0,05, то гипотеза о нормальном распределении исследуемого показателя первой генеральной совокупности не отвергается."
      ],
      "metadata": {
        "id": "ysJ9bFqsKiKI"
      }
    },
    {
      "cell_type": "code",
      "source": [
        "stats.normaltest(sample1)"
      ],
      "metadata": {
        "id": "C5zuvZefjSTy",
        "colab": {
          "base_uri": "https://localhost:8080/"
        },
        "outputId": "59b94a7c-206b-48ce-b43c-b84f825f947d"
      },
      "execution_count": 31,
      "outputs": [
        {
          "output_type": "execute_result",
          "data": {
            "text/plain": [
              "NormaltestResult(statistic=0.6457945830076788, pvalue=0.7240482164525006)"
            ]
          },
          "metadata": {},
          "execution_count": 31
        }
      ]
    },
    {
      "cell_type": "markdown",
      "source": [
        "Так как p-значение больше уровня значимости 0,05, то гипотеза о нормальном распределении исследуемого показателя первой генеральной совокупности не отвергается."
      ],
      "metadata": {
        "id": "axDVSJwhKi5m"
      }
    },
    {
      "cell_type": "markdown",
      "source": [
        "Все тесты показали, что гипотеза о нормальном распределении исследуемого показателя первой генеральной совокупности не отвергается."
      ],
      "metadata": {
        "id": "Qn3ZCqqIPioc"
      }
    },
    {
      "cell_type": "markdown",
      "source": [
        "## Выборка 2"
      ],
      "metadata": {
        "id": "ehoiMoBGPHLo"
      }
    },
    {
      "cell_type": "code",
      "source": [
        "stats.shapiro(sample2)"
      ],
      "metadata": {
        "colab": {
          "base_uri": "https://localhost:8080/"
        },
        "id": "imxNmXVtP3dm",
        "outputId": "35d9b3a0-bedd-4fa3-920a-f7fe46e81805"
      },
      "execution_count": 32,
      "outputs": [
        {
          "output_type": "execute_result",
          "data": {
            "text/plain": [
              "ShapiroResult(statistic=0.9961187839508057, pvalue=0.5499145984649658)"
            ]
          },
          "metadata": {},
          "execution_count": 32
        }
      ]
    },
    {
      "cell_type": "markdown",
      "source": [
        "Так как p-значение больше уровня значимости 0,05, то гипотеза о нормальном распределении исследуемого показателя второй генеральной совокупности не отвергается."
      ],
      "metadata": {
        "id": "kHPi2RUnQTVX"
      }
    },
    {
      "cell_type": "code",
      "source": [
        "stats.jarque_bera(sample2)"
      ],
      "metadata": {
        "colab": {
          "base_uri": "https://localhost:8080/"
        },
        "id": "wC6U_SkNP3M6",
        "outputId": "7a90e785-60a6-4f15-dd90-fb316e0b534e"
      },
      "execution_count": 33,
      "outputs": [
        {
          "output_type": "execute_result",
          "data": {
            "text/plain": [
              "SignificanceResult(statistic=2.812145325107981, pvalue=0.24510400150930295)"
            ]
          },
          "metadata": {},
          "execution_count": 33
        }
      ]
    },
    {
      "cell_type": "markdown",
      "source": [
        "Так как p-значение больше уровня значимости 0,05, то гипотеза о нормальном распределении исследуемого показателя второй генеральной совокупности не отвергается."
      ],
      "metadata": {
        "id": "SjUfFyV7QUEq"
      }
    },
    {
      "cell_type": "code",
      "source": [
        "stats.kstest(sample2, 'norm', (np.mean(sample2), np.std(sample2)))"
      ],
      "metadata": {
        "colab": {
          "base_uri": "https://localhost:8080/"
        },
        "id": "HjTJL8jvP3G1",
        "outputId": "7d7c7bc8-ca50-443b-f27b-d0c5dec22f1b"
      },
      "execution_count": 34,
      "outputs": [
        {
          "output_type": "execute_result",
          "data": {
            "text/plain": [
              "KstestResult(statistic=0.034148102807858405, pvalue=0.7958853295026875, statistic_location=26.422322940125014, statistic_sign=-1)"
            ]
          },
          "metadata": {},
          "execution_count": 34
        }
      ]
    },
    {
      "cell_type": "markdown",
      "source": [
        "Так как p-значение больше уровня значимости 0,05, то гипотеза о нормальном распределении исследуемого показателя второй генеральной совокупности не отвергается."
      ],
      "metadata": {
        "id": "4yEMpe2TQU0u"
      }
    },
    {
      "cell_type": "code",
      "source": [
        "stats.cramervonmises(sample2, 'norm', (np.mean(sample2), np.std(sample2)))"
      ],
      "metadata": {
        "colab": {
          "base_uri": "https://localhost:8080/"
        },
        "id": "OVDI7SgkP2yV",
        "outputId": "a754339e-a35c-4be8-e4c0-589aeca10e35"
      },
      "execution_count": 35,
      "outputs": [
        {
          "output_type": "execute_result",
          "data": {
            "text/plain": [
              "CramerVonMisesResult(statistic=0.060452747017794024, pvalue=0.8114515843732855)"
            ]
          },
          "metadata": {},
          "execution_count": 35
        }
      ]
    },
    {
      "cell_type": "markdown",
      "source": [
        "Так как p-значение больше уровня значимости 0,05, то гипотеза о нормальном распределении исследуемого показателя второй генеральной совокупности не отвергается."
      ],
      "metadata": {
        "id": "YCJH9x08QVgm"
      }
    },
    {
      "cell_type": "code",
      "source": [
        "stats.normaltest(sample2)"
      ],
      "metadata": {
        "colab": {
          "base_uri": "https://localhost:8080/"
        },
        "id": "bhWJf1nwP2pD",
        "outputId": "75a90452-378d-4410-c140-67ddeab43c7a"
      },
      "execution_count": 36,
      "outputs": [
        {
          "output_type": "execute_result",
          "data": {
            "text/plain": [
              "NormaltestResult(statistic=3.6578605419415036, pvalue=0.1605852586402859)"
            ]
          },
          "metadata": {},
          "execution_count": 36
        }
      ]
    },
    {
      "cell_type": "markdown",
      "source": [
        "Так как p-значение больше уровня значимости 0,05, то гипотеза о нормальном распределении исследуемого показателя второй генеральной совокупности не отвергается."
      ],
      "metadata": {
        "id": "-j2mVio6QWQE"
      }
    },
    {
      "cell_type": "markdown",
      "source": [
        "Все тесты показали, что гипотеза о нормальном распределении исследуемого показателя второй генеральной совокупности не отвергается."
      ],
      "metadata": {
        "id": "k_kQgxHpQv_8"
      }
    },
    {
      "cell_type": "markdown",
      "source": [
        "## Выборка 3"
      ],
      "metadata": {
        "id": "Ly6WMsuPPKKi"
      }
    },
    {
      "cell_type": "code",
      "source": [
        "stats.shapiro(sample3)"
      ],
      "metadata": {
        "colab": {
          "base_uri": "https://localhost:8080/"
        },
        "id": "af1QXSO0QmAW",
        "outputId": "0abbe6cf-5c7a-46c1-c82f-af69bcae069d"
      },
      "execution_count": 37,
      "outputs": [
        {
          "output_type": "execute_result",
          "data": {
            "text/plain": [
              "ShapiroResult(statistic=0.9983609914779663, pvalue=0.9847660660743713)"
            ]
          },
          "metadata": {},
          "execution_count": 37
        }
      ]
    },
    {
      "cell_type": "markdown",
      "source": [
        "Так как p-значение больше уровня значимости 0,05, то гипотеза о нормальном распределении исследуемого показателя третьей генеральной совокупности не отвергается."
      ],
      "metadata": {
        "id": "3JBaSHxwQcYX"
      }
    },
    {
      "cell_type": "code",
      "source": [
        "stats.jarque_bera(sample3)"
      ],
      "metadata": {
        "colab": {
          "base_uri": "https://localhost:8080/"
        },
        "id": "-xTPGiJEQlo9",
        "outputId": "1dcb42af-388e-40aa-d898-cc6a062c6a81"
      },
      "execution_count": 38,
      "outputs": [
        {
          "output_type": "execute_result",
          "data": {
            "text/plain": [
              "SignificanceResult(statistic=0.1085324712118202, pvalue=0.9471798999155415)"
            ]
          },
          "metadata": {},
          "execution_count": 38
        }
      ]
    },
    {
      "cell_type": "markdown",
      "source": [
        "Так как p-значение больше уровня значимости 0,05, то гипотеза о нормальном распределении исследуемого показателя третьей генеральной совокупности не отвергается."
      ],
      "metadata": {
        "id": "7ItrXzO1QcOE"
      }
    },
    {
      "cell_type": "code",
      "source": [
        "stats.kstest(sample3, 'norm', (np.mean(sample3), np.std(sample3)))"
      ],
      "metadata": {
        "colab": {
          "base_uri": "https://localhost:8080/"
        },
        "id": "UQR25CLoQkWF",
        "outputId": "84919a7d-fc03-4da8-9a64-e88e05f29e92"
      },
      "execution_count": 39,
      "outputs": [
        {
          "output_type": "execute_result",
          "data": {
            "text/plain": [
              "KstestResult(statistic=0.02718849061582429, pvalue=0.9518665137818222, statistic_location=16.59686409358983, statistic_sign=1)"
            ]
          },
          "metadata": {},
          "execution_count": 39
        }
      ]
    },
    {
      "cell_type": "markdown",
      "source": [
        "Так как p-значение больше уровня значимости 0,05, то гипотеза о нормальном распределении исследуемого показателя третьей генеральной совокупности не отвергается."
      ],
      "metadata": {
        "id": "ZRs5fkcIQcEX"
      }
    },
    {
      "cell_type": "code",
      "source": [
        "stats.cramervonmises(sample3, 'norm', (np.mean(sample3), np.std(sample3)))"
      ],
      "metadata": {
        "colab": {
          "base_uri": "https://localhost:8080/"
        },
        "id": "SOZekTVXQh_G",
        "outputId": "7caff5ed-aac2-41aa-9b03-62fdf614cb1e"
      },
      "execution_count": 40,
      "outputs": [
        {
          "output_type": "execute_result",
          "data": {
            "text/plain": [
              "CramerVonMisesResult(statistic=0.025924408817155242, pvalue=0.9876723358912499)"
            ]
          },
          "metadata": {},
          "execution_count": 40
        }
      ]
    },
    {
      "cell_type": "markdown",
      "source": [
        "Так как p-значение больше уровня значимости 0,05, то гипотеза о нормальном распределении исследуемого показателя третьей генеральной совокупности не отвергается."
      ],
      "metadata": {
        "id": "pFh_55tqQb6m"
      }
    },
    {
      "cell_type": "code",
      "source": [
        "stats.normaltest(sample3)"
      ],
      "metadata": {
        "id": "lNtrzqEtQf0z",
        "colab": {
          "base_uri": "https://localhost:8080/"
        },
        "outputId": "6cecfa02-da7a-4b42-cfdc-66bee3752197"
      },
      "execution_count": 41,
      "outputs": [
        {
          "output_type": "execute_result",
          "data": {
            "text/plain": [
              "NormaltestResult(statistic=0.035575444257783445, pvalue=0.9823695455419196)"
            ]
          },
          "metadata": {},
          "execution_count": 41
        }
      ]
    },
    {
      "cell_type": "markdown",
      "source": [
        "Так как p-значение больше уровня значимости 0,05, то гипотеза о нормальном распределении исследуемого показателя третьей генеральной совокупности не отвергается."
      ],
      "metadata": {
        "id": "fkFXA73pQbuQ"
      }
    },
    {
      "cell_type": "markdown",
      "source": [
        "Все тесты показали, что гипотеза о нормальном распределении исследуемого показателя третьей генеральной совокупности не отвергается."
      ],
      "metadata": {
        "id": "eezixsJNQugm"
      }
    },
    {
      "cell_type": "markdown",
      "source": [
        "## Выборка 4"
      ],
      "metadata": {
        "id": "Yi3xsruvPQMY"
      }
    },
    {
      "cell_type": "code",
      "source": [
        "stats.shapiro(sample4)"
      ],
      "metadata": {
        "colab": {
          "base_uri": "https://localhost:8080/"
        },
        "id": "ENdWFoG1c_z3",
        "outputId": "bd769210-3054-47d4-a6fb-1e03392740ea"
      },
      "execution_count": 42,
      "outputs": [
        {
          "output_type": "execute_result",
          "data": {
            "text/plain": [
              "ShapiroResult(statistic=0.9576780796051025, pvalue=1.6563589610996132e-08)"
            ]
          },
          "metadata": {},
          "execution_count": 42
        }
      ]
    },
    {
      "cell_type": "markdown",
      "source": [
        "Так как p-значение меньше уровня значимости 0,05, то гипотеза о нормальном распределении исследуемого показателя четвертой генеральной совокупности отвергается с вероятностью возможной ошибки. равной 0,05."
      ],
      "metadata": {
        "id": "MPa8xC81gHVn"
      }
    },
    {
      "cell_type": "code",
      "source": [
        "stats.jarque_bera(sample4)"
      ],
      "metadata": {
        "colab": {
          "base_uri": "https://localhost:8080/"
        },
        "id": "22WlJsVcdIbV",
        "outputId": "4fb788df-9b1e-4a73-e86b-4a8810e3b12f"
      },
      "execution_count": 43,
      "outputs": [
        {
          "output_type": "execute_result",
          "data": {
            "text/plain": [
              "SignificanceResult(statistic=18.96695552100691, pvalue=7.609882293944405e-05)"
            ]
          },
          "metadata": {},
          "execution_count": 43
        }
      ]
    },
    {
      "cell_type": "markdown",
      "source": [
        "Так как p-значение меньше уровня значимости 0,05, то гипотеза о нормальном распределении исследуемого показателя четвертой генеральной совокупности отвергается с вероятностью возможной ошибки. равной 0,05."
      ],
      "metadata": {
        "id": "-fvqDKZ5i4TH"
      }
    },
    {
      "cell_type": "code",
      "source": [
        "stats.kstest(sample4, 'norm', (np.mean(sample4), np.std(sample4)))"
      ],
      "metadata": {
        "colab": {
          "base_uri": "https://localhost:8080/"
        },
        "id": "WhVCuNLAdPTe",
        "outputId": "0f5860f8-7641-46b1-8cec-0ae671723172"
      },
      "execution_count": 44,
      "outputs": [
        {
          "output_type": "execute_result",
          "data": {
            "text/plain": [
              "KstestResult(statistic=0.06697042028694525, pvalue=0.08272114484363402, statistic_location=11.51509140293588, statistic_sign=1)"
            ]
          },
          "metadata": {},
          "execution_count": 44
        }
      ]
    },
    {
      "cell_type": "markdown",
      "source": [
        "Так как p-значение больше уровня значимости 0,05, то гипотеза о нормальном распределении исследуемого показателя четвертой генеральной совокупности не отвергается."
      ],
      "metadata": {
        "id": "w95EqSI_h2ci"
      }
    },
    {
      "cell_type": "code",
      "source": [
        "stats.cramervonmises(sample4, 'norm', (np.mean(sample4), np.std(sample4)))"
      ],
      "metadata": {
        "colab": {
          "base_uri": "https://localhost:8080/"
        },
        "id": "s6mRFH_WdO80",
        "outputId": "424f82fd-3c02-4e74-cca7-265d20dfd5e9"
      },
      "execution_count": 45,
      "outputs": [
        {
          "output_type": "execute_result",
          "data": {
            "text/plain": [
              "CramerVonMisesResult(statistic=0.44293391586495967, pvalue=0.05572985237751105)"
            ]
          },
          "metadata": {},
          "execution_count": 45
        }
      ]
    },
    {
      "cell_type": "markdown",
      "source": [
        "Так как p-значение больше уровня значимости 0,05, то гипотеза о нормальном распределении исследуемого показателя четвертой генеральной совокупности не отвергается."
      ],
      "metadata": {
        "id": "k2v1rqhHimxA"
      }
    },
    {
      "cell_type": "code",
      "source": [
        "stats.normaltest(sample4)"
      ],
      "metadata": {
        "colab": {
          "base_uri": "https://localhost:8080/"
        },
        "id": "-1aG7xfIfq3W",
        "outputId": "942942f8-695d-40a9-a012-be467e69eee9"
      },
      "execution_count": 46,
      "outputs": [
        {
          "output_type": "execute_result",
          "data": {
            "text/plain": [
              "NormaltestResult(statistic=135.77741506078763, pvalue=3.2832876720441455e-30)"
            ]
          },
          "metadata": {},
          "execution_count": 46
        }
      ]
    },
    {
      "cell_type": "markdown",
      "source": [
        "Так как p-значение меньше уровня значимости 0,05, то гипотеза о нормальном распределении исследуемого показателя четвертой генеральной совокупности отвергается с вероятностью возможной ошибки. равной 0,05."
      ],
      "metadata": {
        "id": "KXvmDv0Tio1p"
      }
    },
    {
      "cell_type": "markdown",
      "source": [
        "3 теста противоречат выборочным данным. Следовательно, гипотеза о нормальном распределении исследуемого показателя четвертой генеральной совокупности отвергается. "
      ],
      "metadata": {
        "id": "S-MLrr-41uLR"
      }
    },
    {
      "cell_type": "markdown",
      "source": [
        "## Итоги исследования"
      ],
      "metadata": {
        "id": "62HkxSpdSy7G"
      }
    },
    {
      "cell_type": "markdown",
      "source": [
        "Анализ диаграмм и тестов показал, что для 3 первых генеральных совокупностей нормальное распределение подходит для описания исследуемого показателя, гипотеза о нормальном распределении для исследуемого показателя не отвергается. Для четвертой генеральной совокупности нормальное распределение не подходит для описания исследуемого показателя, гипотеза о нормальном распределении для исследуемого показателя отвергается."
      ],
      "metadata": {
        "id": "0u8iaVZITPMv"
      }
    },
    {
      "cell_type": "markdown",
      "source": [
        "# Заключение"
      ],
      "metadata": {
        "id": "N-5zNlmiUC8O"
      }
    },
    {
      "cell_type": "markdown",
      "source": [
        "Цель работы была проверка нормальности распределения исследуемого показателя, определенного на разных генеральных совокупностях."
      ],
      "metadata": {
        "id": "w0JHhbVvUMuH"
      }
    },
    {
      "cell_type": "markdown",
      "source": [
        "Были использованы библиотеки: pandas, matplotlib.pyplot, scipy.stats, numpy. Были использованы диаграммы и тесты."
      ],
      "metadata": {
        "id": "T5TtHsAQVn_V"
      }
    },
    {
      "cell_type": "markdown",
      "source": [
        "По итогам анализа диаграмм и тестов можно сказать.\n",
        "\n",
        "Для 3 первых генеральных совокупностей нормальное распределение подходит для описания исследуемого показателя, гипотеза о нормальном распределении для исследуемого показателя не отвергается. Для четвертой генеральной совокупности нормальное распределение не подходит для описания исследуемого показателя, гипотеза о нормальном распределении для исследуемого показателя отвергается."
      ],
      "metadata": {
        "id": "7xAJMYbj-mSr"
      }
    }
  ]
}