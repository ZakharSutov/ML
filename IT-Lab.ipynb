{
 "cells": [
  {
   "cell_type": "markdown",
   "id": "23e74eb0-4890-46d7-98a4-f1a3772b118c",
   "metadata": {},
   "source": [
    "# Модель машинного обучения для распознавания рукописных цифр\n",
    "Выполнил: Шутов Захар\n",
    "\n",
    "Подключение библиотек"
   ]
  },
  {
   "cell_type": "code",
   "execution_count": 221,
   "id": "8e15eae1-548e-4273-93c9-e9512687a065",
   "metadata": {},
   "outputs": [],
   "source": [
    "import tensorflow as tf\n",
    "from tensorflow import keras\n",
    "from tensorflow.keras.utils import to_categorical\n",
    "from keras.datasets import mnist\n",
    "from keras.models import Sequential\n",
    "from keras.layers import Dense\n",
    "from matplotlib import pyplot\n",
    "from sklearn.model_selection import train_test_split\n",
    "from random import randrange"
   ]
  },
  {
   "cell_type": "markdown",
   "id": "c8b23cb2-0d11-4e6f-88b6-7c7134cdf4cd",
   "metadata": {},
   "source": [
    "## Загрузка данных из датасета MNIST"
   ]
  },
  {
   "cell_type": "code",
   "execution_count": 222,
   "id": "f581744c-4406-40b3-ab4d-8e9c970edae7",
   "metadata": {},
   "outputs": [],
   "source": [
    "(x_train, y_train), (x_test, y_test) = mnist.load_data()"
   ]
  },
  {
   "cell_type": "code",
   "execution_count": 223,
   "id": "fb519b64-d4cc-4008-88d1-3a981c40224c",
   "metadata": {},
   "outputs": [
    {
     "name": "stdout",
     "output_type": "stream",
     "text": [
      "X_train: (60000, 28, 28)\n",
      "Y_train: (60000,)\n",
      "X_test:  (10000, 28, 28)\n",
      "Y_test:  (10000,)\n"
     ]
    }
   ],
   "source": [
    "print('X_train: ' + str(x_train.shape))\n",
    "print('Y_train: ' + str(y_train.shape))\n",
    "print('X_test:  '  + str(x_test.shape))\n",
    "print('Y_test:  '  + str(y_test.shape))"
   ]
  },
  {
   "cell_type": "markdown",
   "id": "5ab1fe67-88ff-4cc5-97ec-5f565bcb5bb4",
   "metadata": {},
   "source": [
    "## Визуализация данных\n",
    "Выведем несколько изображений из обучающей выборки с их метками"
   ]
  },
  {
   "cell_type": "code",
   "execution_count": 224,
   "id": "a13e21ee-39ce-4075-8e72-d7a8c4e06f18",
   "metadata": {},
   "outputs": [
    {
     "name": "stdout",
     "output_type": "stream",
     "text": [
      "label: 5\n"
     ]
    },
    {
     "data": {
      "image/png": "[encoded data removed]",
      "text/plain": [
       "<Figure size 640x480 with 1 Axes>"
      ]
     },
     "metadata": {},
     "output_type": "display_data"
    },
    {
     "name": "stdout",
     "output_type": "stream",
     "text": [
      "label: 0\n"
     ]
    },
    {
     "data": {
      "image/png": "[encoded data removed]",
      "text/plain": [
       "<Figure size 640x480 with 1 Axes>"
      ]
     },
     "metadata": {},
     "output_type": "display_data"
    },
    {
     "name": "stdout",
     "output_type": "stream",
     "text": [
      "label: 4\n"
     ]
    },
    {
     "data": {
      "image/png": "[encoded data removed]",
      "text/plain": [
       "<Figure size 640x480 with 1 Axes>"
      ]
     },
     "metadata": {},
     "output_type": "display_data"
    },
    {
     "name": "stdout",
     "output_type": "stream",
     "text": [
      "label: 1\n"
     ]
    },
    {
     "data": {
      "image/png": "[encoded data removed]",
      "text/plain": [
       "<Figure size 640x480 with 1 Axes>"
      ]
     },
     "metadata": {},
     "output_type": "display_data"
    }
   ],
   "source": [
    "for i in range(4):  \n",
    " pyplot.subplot(330 + 1 + i)\n",
    " pyplot.imshow(x_train[i], cmap=pyplot.get_cmap('gray'))\n",
    " print('label:', y_train[i])\n",
    " pyplot.show()"
   ]
  },
  {
   "cell_type": "markdown",
   "id": "bfe19f7a-74a1-435b-aa44-080c104b1cdb",
   "metadata": {},
   "source": [
    "## Разделение данных\n",
    "Поскольку в задании требуется разделить данные на обучающую и тестовую выборку в соотношении 80/20, а после загрузки данные не удовлетворяют условиям, то возьмем обучающую выборку, состоящую из 60000 элементов, и разделим её в соотношении 80/20."
   ]
  },
  {
   "cell_type": "code",
   "execution_count": 225,
   "id": "115108c3-be54-4590-9ff9-295266c2aa5c",
   "metadata": {},
   "outputs": [
    {
     "name": "stdout",
     "output_type": "stream",
     "text": [
      "X_train: (48000, 28, 28, 1)\n",
      "Y_train: (48000,)\n",
      "X_test:  (12000, 28, 28, 1)\n",
      "Y_test:  (12000,)\n"
     ]
    }
   ],
   "source": [
    "x_train, x_test, y_train, y_test  = train_test_split(x_train, y_train, test_size=0.2)\n",
    "print('X_train: ' + str(X_train.shape))\n",
    "print('Y_train: ' + str(y_train.shape))\n",
    "print('X_test:  '  + str(X_test.shape))\n",
    "print('Y_test:  '  + str(y_test.shape))"
   ]
  },
  {
   "cell_type": "markdown",
   "id": "6460c38c-c1a8-451f-91ad-1cb04c63c11c",
   "metadata": {},
   "source": [
    "## Подготовка данных\n",
    "Изменяем набор данных, чтобы иметь один канал"
   ]
  },
  {
   "cell_type": "code",
   "execution_count": 226,
   "id": "2adcac2e-cc36-4c07-aac2-ae90b6f09d2d",
   "metadata": {},
   "outputs": [],
   "source": [
    "x_train = x_train.reshape(x_train.shape[0], 784)\n",
    "x_test = x_test.reshape(x_test.shape[0], 784)"
   ]
  },
  {
   "cell_type": "markdown",
   "id": "b03133a1-c295-4c23-8889-58f1a33ee1dc",
   "metadata": {},
   "source": [
    "Нормализуем данные до диапазона [0, 1]"
   ]
  },
  {
   "cell_type": "code",
   "execution_count": 227,
   "id": "8df4328a-b5d7-4eda-bf1f-029cf073dcb5",
   "metadata": {},
   "outputs": [],
   "source": [
    "x_train = x_train.astype('float32')\n",
    "x_test = x_test.astype('float32')\n",
    "x_train /= 255\n",
    "x_test /= 255"
   ]
  },
  {
   "cell_type": "markdown",
   "id": "86da1d01-f1f8-41ee-a71a-827a68420402",
   "metadata": {},
   "source": [
    "Преобразуем векторные классы в бинарные матрицы с длиной 10, методом «one-hot encoding»"
   ]
  },
  {
   "cell_type": "code",
   "execution_count": 228,
   "id": "f944f878-647c-47af-bed5-eaad23b51cfd",
   "metadata": {},
   "outputs": [],
   "source": [
    "num_classes = 10\n",
    "y_train = keras.utils.to_categorical(y_train, num_classes)\n",
    "y_test = keras.utils.to_categorical(y_test, num_classes)"
   ]
  },
  {
   "cell_type": "markdown",
   "id": "9c102b75-cd18-4da4-8e19-455ad7292cff",
   "metadata": {},
   "source": [
    "## Создание модели нейронной сети\n",
    "Создаем модель нейронной сети, состоящую из трех слоев"
   ]
  },
  {
   "cell_type": "code",
   "execution_count": 229,
   "id": "5beb1f95-acd1-4a54-a09a-1cfb46f62d97",
   "metadata": {},
   "outputs": [],
   "source": [
    "model = Sequential()\n",
    "model.add(Dense(800, input_dim=784, activation=\"relu\"))\n",
    "model.add(Dense(400, activation=\"relu\"))\n",
    "model.add(Dense(10, activation=\"softmax\"))"
   ]
  },
  {
   "cell_type": "markdown",
   "id": "cc0e293f-9940-415c-baec-a7508849d404",
   "metadata": {},
   "source": [
    "Компилируем сеть"
   ]
  },
  {
   "cell_type": "code",
   "execution_count": 230,
   "id": "62357230-3039-49f6-8958-935a3f678809",
   "metadata": {},
   "outputs": [],
   "source": [
    "model.compile(loss=\"categorical_crossentropy\", optimizer=\"adam\", metrics=[\"accuracy\"])"
   ]
  },
  {
   "cell_type": "markdown",
   "id": "884f0f9b-b907-4d18-aa18-e6857af7835f",
   "metadata": {},
   "source": [
    "## Обучение модели"
   ]
  },
  {
   "cell_type": "code",
   "execution_count": 231,
   "id": "a34f6eab-d1d6-4e89-b53c-ffb9e3317b80",
   "metadata": {},
   "outputs": [
    {
     "name": "stdout",
     "output_type": "stream",
     "text": [
      "Epoch 1/10\n",
      "300/300 [==============================] - 5s 14ms/step - loss: 0.2542 - accuracy: 0.9237 - val_loss: 0.1411 - val_accuracy: 0.9555\n",
      "Epoch 2/10\n",
      "300/300 [==============================] - 4s 12ms/step - loss: 0.0931 - accuracy: 0.9709 - val_loss: 0.0986 - val_accuracy: 0.9707\n",
      "Epoch 3/10\n",
      "300/300 [==============================] - 4s 14ms/step - loss: 0.0567 - accuracy: 0.9821 - val_loss: 0.0958 - val_accuracy: 0.9729\n",
      "Epoch 4/10\n",
      "300/300 [==============================] - 4s 15ms/step - loss: 0.0388 - accuracy: 0.9874 - val_loss: 0.0823 - val_accuracy: 0.9773\n",
      "Epoch 5/10\n",
      "300/300 [==============================] - 5s 16ms/step - loss: 0.0287 - accuracy: 0.9908 - val_loss: 0.0966 - val_accuracy: 0.9744\n",
      "Epoch 6/10\n",
      "300/300 [==============================] - 6s 19ms/step - loss: 0.0215 - accuracy: 0.9933 - val_loss: 0.1014 - val_accuracy: 0.9728\n",
      "Epoch 7/10\n",
      "300/300 [==============================] - 7s 23ms/step - loss: 0.0188 - accuracy: 0.9940 - val_loss: 0.0975 - val_accuracy: 0.9749\n",
      "Epoch 8/10\n",
      "300/300 [==============================] - 10s 33ms/step - loss: 0.0155 - accuracy: 0.9949 - val_loss: 0.1139 - val_accuracy: 0.9749\n",
      "Epoch 9/10\n",
      "300/300 [==============================] - 8s 28ms/step - loss: 0.0136 - accuracy: 0.9953 - val_loss: 0.0871 - val_accuracy: 0.9801\n",
      "Epoch 10/10\n",
      "300/300 [==============================] - 14s 45ms/step - loss: 0.0116 - accuracy: 0.9963 - val_loss: 0.1138 - val_accuracy: 0.9743\n"
     ]
    },
    {
     "data": {
      "text/plain": [
       "<keras.callbacks.History at 0x1fb25a2b6a0>"
      ]
     },
     "execution_count": 231,
     "metadata": {},
     "output_type": "execute_result"
    }
   ],
   "source": [
    "batch_size = 128\n",
    "epochs = 10\n",
    "model.fit(x_train, y_train, batch_size = batch_size, epochs=epochs, verbose=1, validation_split=0.2)"
   ]
  },
  {
   "cell_type": "markdown",
   "id": "78f86f00-2e6e-4dc9-81bb-9f09c0b31c63",
   "metadata": {},
   "source": [
    "Сохраняем модель"
   ]
  },
  {
   "cell_type": "code",
   "execution_count": 232,
   "id": "2bd9c050-584d-4a6d-8aad-de883936a33a",
   "metadata": {},
   "outputs": [
    {
     "name": "stdout",
     "output_type": "stream",
     "text": [
      "Модель сохранена как mnist.h5\n"
     ]
    }
   ],
   "source": [
    "model.save('mnist.h5')\n",
    "print(\"Модель сохранена как mnist.h5\")"
   ]
  },
  {
   "cell_type": "markdown",
   "id": "061b5fce-da6e-42a6-ae41-da66c2c16c32",
   "metadata": {},
   "source": [
    "## Оценка модели"
   ]
  },
  {
   "cell_type": "code",
   "execution_count": 233,
   "id": "ccd265ee-cdad-45ee-b0e6-9283a1dbcfbe",
   "metadata": {},
   "outputs": [
    {
     "name": "stdout",
     "output_type": "stream",
     "text": [
      "Потери на тесте: 0.0988527238368988\n",
      "Точность на тесте: 0.9760000109672546\n"
     ]
    }
   ],
   "source": [
    "score = model.evaluate(x_test, y_test, verbose=0)\n",
    "print('Потери на тесте:', score[0])\n",
    "print('Точность на тесте:', score[1])"
   ]
  },
  {
   "cell_type": "markdown",
   "id": "e2e6e6c0-e952-437f-8dc4-510414a46b29",
   "metadata": {},
   "source": [
    "## Итог"
   ]
  },
  {
   "cell_type": "markdown",
   "id": "27389ea4-2382-4f87-98a8-fc74e6f071f1",
   "metadata": {},
   "source": [
    "После оценки модели на тестовой выборке она показала точность более 97%"
   ]
  },
  {
   "cell_type": "markdown",
   "id": "43213a54-6fbc-4df9-aed8-9dbbc331ad44",
   "metadata": {},
   "source": [
    "## Пример работы модели \n",
    "Пример предсказания модели для 5 случайных изображений из тестовой выборки"
   ]
  },
  {
   "cell_type": "code",
   "execution_count": 234,
   "id": "01b03b96-3a57-4387-ace6-98c70a29b7cb",
   "metadata": {},
   "outputs": [
    {
     "name": "stdout",
     "output_type": "stream",
     "text": [
      "375/375 [==============================] - 3s 8ms/step\n",
      "Predict: 8\n"
     ]
    },
    {
     "data": {
      "image/png": "[encoded data removed]",
      "text/plain": [
       "<Figure size 640x480 with 1 Axes>"
      ]
     },
     "metadata": {},
     "output_type": "display_data"
    },
    {
     "name": "stdout",
     "output_type": "stream",
     "text": [
      "Predict: 2\n"
     ]
    },
    {
     "data": {
      "image/png": "[encoded data removed]",
      "text/plain": [
       "<Figure size 640x480 with 1 Axes>"
      ]
     },
     "metadata": {},
     "output_type": "display_data"
    },
    {
     "name": "stdout",
     "output_type": "stream",
     "text": [
      "Predict: 7\n"
     ]
    },
    {
     "data": {
      "image/png": "[encoded data removed]",
      "text/plain": [
       "<Figure size 640x480 with 1 Axes>"
      ]
     },
     "metadata": {},
     "output_type": "display_data"
    },
    {
     "name": "stdout",
     "output_type": "stream",
     "text": [
      "Predict: 8\n"
     ]
    },
    {
     "data": {
      "image/png": "[encoded data removed]",
      "text/plain": [
       "<Figure size 640x480 with 1 Axes>"
      ]
     },
     "metadata": {},
     "output_type": "display_data"
    },
    {
     "name": "stdout",
     "output_type": "stream",
     "text": [
      "Predict: 5\n"
     ]
    },
    {
     "data": {
      "image/png": "[encoded data removed]",
      "text/plain": [
       "<Figure size 640x480 with 1 Axes>"
      ]
     },
     "metadata": {},
     "output_type": "display_data"
    }
   ],
   "source": [
    "pred = model.predict(x_test)\n",
    "x_train = x_train.reshape(x_train.shape[0], 28, 28, 1)\n",
    "x_test = x_test.reshape(x_test.shape[0], 28, 28, 1)\n",
    "for i in range(5): \n",
    " num = randrange(12000)\n",
    " prediction = np.argmax(pred[num])\n",
    " print('Predict:', prediction)\n",
    " pyplot.subplot(330 + 1)\n",
    " pyplot.imshow(x_test[num], cmap=pyplot.get_cmap('gray'))\n",
    " pyplot.show()"
   ]
  }
 ],
 "metadata": {
  "kernelspec": {
   "display_name": "Python 3 (ipykernel)",
   "language": "python",
   "name": "python3"
  },
  "language_info": {
   "codemirror_mode": {
    "name": "ipython",
    "version": 3
   },
   "file_extension": ".py",
   "mimetype": "text/x-python",
   "name": "python",
   "nbconvert_exporter": "python",
   "pygments_lexer": "ipython3",
   "version": "3.10.9"
  }
 },
 "nbformat": 4,
 "nbformat_minor": 5
}
